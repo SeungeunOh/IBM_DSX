{
    "metadata": {
        "language_info": {
            "name": "python", 
            "mimetype": "text/x-python", 
            "nbconvert_exporter": "python", 
            "pygments_lexer": "ipython2", 
            "codemirror_mode": {
                "name": "ipython", 
                "version": 2
            }, 
            "file_extension": ".py", 
            "version": "2.7.11"
        }, 
        "kernelspec": {
            "display_name": "Python 2 with Spark 2.0", 
            "name": "python2-spark20", 
            "language": "python"
        }
    }, 
    "nbformat": 4, 
    "cells": [
        {
            "source": "# The code was removed by DSX for sharing.", 
            "metadata": {
                "collapsed": false
            }, 
            "execution_count": 1, 
            "cell_type": "code", 
            "outputs": [
                {
                    "data": {
                        "text/html": "<div>\n<table border=\"1\" class=\"dataframe\">\n  <thead>\n    <tr style=\"text-align: right;\">\n      <th></th>\n      <th>BRANCH_CODE</th>\n      <th>ADDRESS1</th>\n      <th>ADDRESS1_MB</th>\n      <th>ADDRESS2</th>\n      <th>ADDRESS2_MB</th>\n      <th>CITY</th>\n      <th>CITY_MB</th>\n      <th>PROV_STATE</th>\n      <th>PROV_STATE_MB</th>\n      <th>POSTAL_ZONE</th>\n      <th>COUNTRY_CODE</th>\n      <th>ORGANIZATION_CODE</th>\n      <th>WAREHOUSE_BRANCH_CODE</th>\n    </tr>\n  </thead>\n  <tbody>\n    <tr>\n      <th>0</th>\n      <td>6</td>\n      <td>75, rue du Faubourg St-Honor\u00e9</td>\n      <td>75, rue du Faubourg St-Honor\u00e9</td>\n      <td>None</td>\n      <td>None</td>\n      <td>Paris</td>\n      <td>Paris</td>\n      <td>None</td>\n      <td>None</td>\n      <td>F-75008</td>\n      <td>6001</td>\n      <td>006</td>\n      <td>38</td>\n    </tr>\n    <tr>\n      <th>1</th>\n      <td>7</td>\n      <td>Piazza Duomo, 1</td>\n      <td>Piazza Duomo, 1</td>\n      <td>None</td>\n      <td>None</td>\n      <td>Milano</td>\n      <td>Milano</td>\n      <td>None</td>\n      <td>None</td>\n      <td>I-20121</td>\n      <td>7006</td>\n      <td>007</td>\n      <td>7</td>\n    </tr>\n    <tr>\n      <th>2</th>\n      <td>9</td>\n      <td>Singelgravenplein 4</td>\n      <td>Singelgravenplein 4</td>\n      <td>4e verdieping</td>\n      <td>4e verdieping</td>\n      <td>Amsterdam</td>\n      <td>Amsterdam</td>\n      <td>Noord-Holland</td>\n      <td>Noord-Holland</td>\n      <td>1233 BW</td>\n      <td>5007</td>\n      <td>009</td>\n      <td>15</td>\n    </tr>\n    <tr>\n      <th>3</th>\n      <td>13</td>\n      <td>Schwabentor 35</td>\n      <td>Schwabentor 35</td>\n      <td>None</td>\n      <td>None</td>\n      <td>Hamburg</td>\n      <td>Hamburg</td>\n      <td>None</td>\n      <td>None</td>\n      <td>D-22529</td>\n      <td>6002</td>\n      <td>013</td>\n      <td>38</td>\n    </tr>\n    <tr>\n      <th>4</th>\n      <td>14</td>\n      <td>Leopoldstra\u00dfe 36</td>\n      <td>Leopoldstra\u00dfe 36</td>\n      <td>None</td>\n      <td>None</td>\n      <td>M\u00fcnchen</td>\n      <td>M\u00fcnchen</td>\n      <td>None</td>\n      <td>None</td>\n      <td>D-81241</td>\n      <td>6002</td>\n      <td>014</td>\n      <td>38</td>\n    </tr>\n  </tbody>\n</table>\n</div>", 
                        "text/plain": "   BRANCH_CODE                       ADDRESS1                    ADDRESS1_MB  \\\n0            6  75, rue du Faubourg St-Honor\u00e9  75, rue du Faubourg St-Honor\u00e9   \n1            7                Piazza Duomo, 1                Piazza Duomo, 1   \n2            9            Singelgravenplein 4            Singelgravenplein 4   \n3           13                 Schwabentor 35                 Schwabentor 35   \n4           14               Leopoldstra\u00dfe 36               Leopoldstra\u00dfe 36   \n\n        ADDRESS2    ADDRESS2_MB       CITY    CITY_MB     PROV_STATE  \\\n0           None           None      Paris      Paris           None   \n1           None           None     Milano     Milano           None   \n2  4e verdieping  4e verdieping  Amsterdam  Amsterdam  Noord-Holland   \n3           None           None    Hamburg    Hamburg           None   \n4           None           None    M\u00fcnchen    M\u00fcnchen           None   \n\n   PROV_STATE_MB POSTAL_ZONE  COUNTRY_CODE ORGANIZATION_CODE  \\\n0           None     F-75008          6001               006   \n1           None     I-20121          7006               007   \n2  Noord-Holland     1233 BW          5007               009   \n3           None     D-22529          6002               013   \n4           None     D-81241          6002               014   \n\n   WAREHOUSE_BRANCH_CODE  \n0                     38  \n1                      7  \n2                     15  \n3                     38  \n4                     38  "
                    }, 
                    "metadata": {}, 
                    "execution_count": 1, 
                    "output_type": "execute_result"
                }
            ]
        }, 
        {
            "source": "# The code was removed by DSX for sharing.", 
            "metadata": {
                "collapsed": false
            }, 
            "execution_count": 2, 
            "cell_type": "code", 
            "outputs": [
                {
                    "data": {
                        "text/plain": "Row(BRANCH_CODE=6, ADDRESS1=u'75, rue du Faubourg St-Honor\\xe9', ADDRESS1_MB=u'75, rue du Faubourg St-Honor\\xe9', ADDRESS2=None, ADDRESS2_MB=None, CITY=u'Paris', CITY_MB=u'Paris', PROV_STATE=None, PROV_STATE_MB=None, POSTAL_ZONE=u'F-75008', COUNTRY_CODE=6001, ORGANIZATION_CODE=u'006', WAREHOUSE_BRANCH_CODE=38)"
                    }, 
                    "metadata": {}, 
                    "execution_count": 2, 
                    "output_type": "execute_result"
                }
            ]
        }, 
        {
            "source": "", 
            "metadata": {
                "collapsed": true
            }, 
            "execution_count": null, 
            "cell_type": "code", 
            "outputs": []
        }
    ], 
    "nbformat_minor": 0
}