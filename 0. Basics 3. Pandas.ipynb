{
    "metadata": {
        "language_info": {
            "name": "python", 
            "mimetype": "text/x-python", 
            "nbconvert_exporter": "python", 
            "pygments_lexer": "ipython3", 
            "codemirror_mode": {
                "name": "ipython", 
                "version": 3
            }, 
            "file_extension": ".py", 
            "version": "3.5.2"
        }, 
        "kernelspec": {
            "display_name": "Python 3.5 (Experimental) with Spark 1.6", 
            "name": "python3", 
            "language": "python"
        }
    }, 
    "nbformat": 4, 
    "cells": [
        {
            "metadata": {}, 
            "source": "# Basics of Pandas\n\nAdopted from http://pandas.pydata.org/pandas-docs/version/0.15.2/10min.html", 
            "cell_type": "markdown"
        }, 
        {
            "source": "#quick ref: list of operations that you usually perform on data:\n\n# define\ndata=pd.DataFrame(np.ones((5,3)),columns=['A','B','C'])\ndata['id']=data.index\ndata['new']=np.random.choice(range(1, 6), len(data))\ndata['sum']=data.sum(axis=1)\n\n\n#aggregate\ndata.groupby(['A','B'])['C','new'].mean()\n\nf = {'C':['sum','mean'], 'new':['prod']}\ndata.groupby(['A','B']).agg(f)\n\n\n#transpose - restructure\ndata1= pd.melt(data, id_vars=['id'], value_vars=['B', 'new'])\ndata1.pivot(index='id', columns='variable', values='value')\n\n\n#in-and output\ndata=pd.read_csv(r'C:\\file name.txt')\ndata=pd.read_excel('C:\\\\file name.xls')\ndata=pd.read_clipboard()\n\n\n#joining\ndata.join(data,on='id',how='inner',lsuffix='l_')\n\n\n#statistics\ndata.describe()\n\n\n#plotting\n%matplotlib inline\ndata.plot()\ndata.hist()\n\n\n#type conversion\ndata['A']=data['A'].astype(str)\ndata.dtypes\n\n\n#select\ndata[(data['id']>1) & (data['id']<3)]\n# data[(data['id']>1) and (data['id']<3)]  ! not working\n\n\n#cleaning data\n#data[(data['id']>1) & (data['id']<3),['B','C']] = np.nan  not working\ndata.ix[(data['id']>1) & (data['id']<3),['B','C']] = np.nan  \n\ndata.fillna(data.mean())", 
            "metadata": {
                "collapsed": false
            }, 
            "execution_count": 100, 
            "cell_type": "code", 
            "outputs": [
                {
                    "data": {
                        "text/html": "<div>\n<table border=\"1\" class=\"dataframe\">\n  <thead>\n    <tr style=\"text-align: right;\">\n      <th></th>\n      <th>A</th>\n      <th>B</th>\n      <th>C</th>\n      <th>id</th>\n      <th>new</th>\n      <th>sum</th>\n    </tr>\n  </thead>\n  <tbody>\n    <tr>\n      <th>0</th>\n      <td>1.0</td>\n      <td>1</td>\n      <td>1</td>\n      <td>0</td>\n      <td>4</td>\n      <td>7</td>\n    </tr>\n    <tr>\n      <th>1</th>\n      <td>1.0</td>\n      <td>1</td>\n      <td>1</td>\n      <td>1</td>\n      <td>4</td>\n      <td>8</td>\n    </tr>\n    <tr>\n      <th>2</th>\n      <td>1.0</td>\n      <td>1</td>\n      <td>1</td>\n      <td>2</td>\n      <td>1</td>\n      <td>6</td>\n    </tr>\n    <tr>\n      <th>3</th>\n      <td>1.0</td>\n      <td>1</td>\n      <td>1</td>\n      <td>3</td>\n      <td>5</td>\n      <td>11</td>\n    </tr>\n    <tr>\n      <th>4</th>\n      <td>1.0</td>\n      <td>1</td>\n      <td>1</td>\n      <td>4</td>\n      <td>5</td>\n      <td>12</td>\n    </tr>\n  </tbody>\n</table>\n</div>", 
                        "text/plain": "     A  B  C  id  new  sum\n0  1.0  1  1   0    4    7\n1  1.0  1  1   1    4    8\n2  1.0  1  1   2    1    6\n3  1.0  1  1   3    5   11\n4  1.0  1  1   4    5   12"
                    }, 
                    "metadata": {}, 
                    "execution_count": 100, 
                    "output_type": "execute_result"
                }
            ]
        }, 
        {
            "source": "import pandas as pd\nimport numpy as np", 
            "metadata": {
                "collapsed": true
            }, 
            "execution_count": 2, 
            "cell_type": "code", 
            "outputs": []
        }, 
        {
            "metadata": {}, 
            "source": "## Object Creation", 
            "cell_type": "markdown"
        }, 
        {
            "source": "s = pd.Series([1,3,5,np.nan,6,8])\ns", 
            "metadata": {
                "collapsed": false
            }, 
            "execution_count": 3, 
            "cell_type": "code", 
            "outputs": [
                {
                    "data": {
                        "text/plain": "0    1.0\n1    3.0\n2    5.0\n3    NaN\n4    6.0\n5    8.0\ndtype: float64"
                    }, 
                    "metadata": {}, 
                    "execution_count": 3, 
                    "output_type": "execute_result"
                }
            ]
        }, 
        {
            "source": "# Creating a DataFrame by passing a numpy array, with a datetime index and labeled columns.\ndates = pd.date_range('20130101',periods=6)\ndates", 
            "metadata": {
                "collapsed": false
            }, 
            "execution_count": 4, 
            "cell_type": "code", 
            "outputs": [
                {
                    "data": {
                        "text/plain": "DatetimeIndex(['2013-01-01', '2013-01-02', '2013-01-03', '2013-01-04',\n               '2013-01-05', '2013-01-06'],\n              dtype='datetime64[ns]', freq='D')"
                    }, 
                    "metadata": {}, 
                    "execution_count": 4, 
                    "output_type": "execute_result"
                }
            ]
        }, 
        {
            "source": "df.columns[1:3]", 
            "metadata": {
                "collapsed": false
            }, 
            "execution_count": 11, 
            "cell_type": "code", 
            "outputs": [
                {
                    "data": {
                        "text/plain": "Index(['B', 'C'], dtype='object')"
                    }, 
                    "metadata": {}, 
                    "execution_count": 11, 
                    "output_type": "execute_result"
                }
            ]
        }, 
        {
            "source": "df = pd.DataFrame(np.random.randn(6,4),index=dates,columns=list('ABCD'))\ndf", 
            "metadata": {
                "collapsed": false
            }, 
            "execution_count": 5, 
            "cell_type": "code", 
            "outputs": [
                {
                    "data": {
                        "text/html": "<div>\n<table border=\"1\" class=\"dataframe\">\n  <thead>\n    <tr style=\"text-align: right;\">\n      <th></th>\n      <th>A</th>\n      <th>B</th>\n      <th>C</th>\n      <th>D</th>\n    </tr>\n  </thead>\n  <tbody>\n    <tr>\n      <th>2013-01-01</th>\n      <td>1.037328</td>\n      <td>0.186397</td>\n      <td>-0.577339</td>\n      <td>1.161401</td>\n    </tr>\n    <tr>\n      <th>2013-01-02</th>\n      <td>0.006365</td>\n      <td>2.012248</td>\n      <td>0.289567</td>\n      <td>0.862473</td>\n    </tr>\n    <tr>\n      <th>2013-01-03</th>\n      <td>0.915050</td>\n      <td>0.643984</td>\n      <td>-0.562894</td>\n      <td>2.042129</td>\n    </tr>\n    <tr>\n      <th>2013-01-04</th>\n      <td>1.905215</td>\n      <td>-0.454482</td>\n      <td>-1.140033</td>\n      <td>0.510213</td>\n    </tr>\n    <tr>\n      <th>2013-01-05</th>\n      <td>1.279382</td>\n      <td>-0.422253</td>\n      <td>1.087482</td>\n      <td>1.168430</td>\n    </tr>\n    <tr>\n      <th>2013-01-06</th>\n      <td>-0.500374</td>\n      <td>1.383299</td>\n      <td>-1.522657</td>\n      <td>-0.245271</td>\n    </tr>\n  </tbody>\n</table>\n</div>", 
                        "text/plain": "                   A         B         C         D\n2013-01-01  1.037328  0.186397 -0.577339  1.161401\n2013-01-02  0.006365  2.012248  0.289567  0.862473\n2013-01-03  0.915050  0.643984 -0.562894  2.042129\n2013-01-04  1.905215 -0.454482 -1.140033  0.510213\n2013-01-05  1.279382 -0.422253  1.087482  1.168430\n2013-01-06 -0.500374  1.383299 -1.522657 -0.245271"
                    }, 
                    "metadata": {}, 
                    "execution_count": 5, 
                    "output_type": "execute_result"
                }
            ]
        }, 
        {
            "source": "# Creating a DataFrame by passing a dict of objects that can be converted to series-like.\ndf2 = pd.DataFrame({ 'A' : 1.,\n   ...:              'B' : pd.Timestamp('20130102'),\n   ...:              'C' : pd.Series(1,index=range(4),dtype='float32'),\n   ...:              'D' : np.array([3] * 4,dtype='int32'),\n   ...:              'E' : 'foo' })\n   ...: \ndf2", 
            "metadata": {
                "collapsed": false
            }, 
            "execution_count": 6, 
            "cell_type": "code", 
            "outputs": [
                {
                    "ename": "SyntaxError", 
                    "output_type": "error", 
                    "evalue": "invalid syntax (<ipython-input-6-44b15830d306>, line 3)", 
                    "traceback": [
                        "\u001b[1;36m  File \u001b[1;32m\"<ipython-input-6-44b15830d306>\"\u001b[1;36m, line \u001b[1;32m3\u001b[0m\n\u001b[1;33m    ...:              'B' : pd.Timestamp('20130102'),\u001b[0m\n\u001b[1;37m                          ^\u001b[0m\n\u001b[1;31mSyntaxError\u001b[0m\u001b[1;31m:\u001b[0m invalid syntax\n"
                    ]
                }
            ]
        }, 
        {
            "source": "# Having specific dtypes\ndf2.dtypes", 
            "metadata": {
                "collapsed": false
            }, 
            "execution_count": 235, 
            "cell_type": "code", 
            "outputs": [
                {
                    "data": {
                        "text/plain": "A           float64\nB    datetime64[ns]\nC           float32\nD             int32\nE            object\ndtype: object"
                    }, 
                    "metadata": {}, 
                    "execution_count": 235, 
                    "output_type": "execute_result"
                }
            ]
        }, 
        {
            "source": "# If you\u2019re using IPython, tab completion for column names (as well as public attributes) is automatically enabled. Here\u2019s a subset of the attributes that will be completed:\n\nIn [13]: df2.<TAB>\ndf2.A                  df2.boxplot\ndf2.abs                df2.C\ndf2.add                df2.clip\ndf2.add_prefix         df2.clip_lower\ndf2.add_suffix         df2.clip_upper\ndf2.align              df2.columns\ndf2.all                df2.combine\ndf2.any                df2.combineAdd\ndf2.append             df2.combine_first\ndf2.apply              df2.combineMult\ndf2.applymap           df2.compound\ndf2.as_blocks          df2.consolidate\ndf2.asfreq             df2.convert_objects\ndf2.as_matrix          df2.copy\ndf2.astype             df2.corr\ndf2.at                 df2.corrwith\ndf2.at_time            df2.count\ndf2.axes               df2.cov\ndf2.B                  df2.cummax\ndf2.between_time       df2.cummin\ndf2.bfill              df2.cumprod\ndf2.blocks             df2.cumsum\ndf2.bool               df2.D\n\nAs you can see, the columns A, B, C, and D are automatically tab completed. E is there as well; the rest of the attributes have been truncated for brevity.", 
            "metadata": {
                "collapsed": true
            }, 
            "execution_count": null, 
            "cell_type": "code", 
            "outputs": []
        }, 
        {
            "metadata": {}, 
            "source": "## Viewing Data", 
            "cell_type": "markdown"
        }, 
        {
            "source": "df.head(2)", 
            "metadata": {
                "collapsed": false
            }, 
            "execution_count": 13, 
            "cell_type": "code", 
            "outputs": [
                {
                    "data": {
                        "text/html": "<div>\n<table border=\"1\" class=\"dataframe\">\n  <thead>\n    <tr style=\"text-align: right;\">\n      <th></th>\n      <th>A</th>\n      <th>B</th>\n      <th>C</th>\n      <th>D</th>\n    </tr>\n  </thead>\n  <tbody>\n    <tr>\n      <th>2013-01-01</th>\n      <td>1.037328</td>\n      <td>0.186397</td>\n      <td>-0.577339</td>\n      <td>1.161401</td>\n    </tr>\n    <tr>\n      <th>2013-01-02</th>\n      <td>0.006365</td>\n      <td>2.012248</td>\n      <td>0.289567</td>\n      <td>0.862473</td>\n    </tr>\n  </tbody>\n</table>\n</div>", 
                        "text/plain": "                   A         B         C         D\n2013-01-01  1.037328  0.186397 -0.577339  1.161401\n2013-01-02  0.006365  2.012248  0.289567  0.862473"
                    }, 
                    "metadata": {}, 
                    "execution_count": 13, 
                    "output_type": "execute_result"
                }
            ]
        }, 
        {
            "source": "#Display the index,columns, and the underlying numpy data\ndf.index", 
            "metadata": {
                "collapsed": false
            }, 
            "execution_count": 14, 
            "cell_type": "code", 
            "outputs": [
                {
                    "data": {
                        "text/plain": "DatetimeIndex(['2013-01-01', '2013-01-02', '2013-01-03', '2013-01-04',\n               '2013-01-05', '2013-01-06'],\n              dtype='datetime64[ns]', freq='D')"
                    }, 
                    "metadata": {}, 
                    "execution_count": 14, 
                    "output_type": "execute_result"
                }
            ]
        }, 
        {
            "source": "df.columns", 
            "metadata": {
                "scrolled": true, 
                "collapsed": false
            }, 
            "execution_count": 8, 
            "cell_type": "code", 
            "outputs": [
                {
                    "data": {
                        "text/plain": "Index([u'A', u'B', u'C', u'D'], dtype='object')"
                    }, 
                    "metadata": {}, 
                    "execution_count": 8, 
                    "output_type": "execute_result"
                }
            ]
        }, 
        {
            "source": "df.values", 
            "metadata": {
                "collapsed": false
            }, 
            "execution_count": 9, 
            "cell_type": "code", 
            "outputs": [
                {
                    "data": {
                        "text/plain": "array([[ 0.29233238, -0.93419864, -1.42111296,  0.07965508],\n       [-0.27184394, -1.22992502,  2.08648663, -0.24243856],\n       [ 1.26998934,  1.49388065,  0.26642198, -0.41632866],\n       [ 1.00544509, -1.2959154 ,  0.14683756, -2.46689652],\n       [-0.6368968 , -0.7042903 ,  0.07824407, -1.72830378],\n       [ 1.09949775, -0.00501716,  0.62872758, -0.44841408]])"
                    }, 
                    "metadata": {}, 
                    "execution_count": 9, 
                    "output_type": "execute_result"
                }
            ]
        }, 
        {
            "source": "#Describe shows a quick statistic summary of your data\ndf.describe()", 
            "metadata": {
                "collapsed": false
            }, 
            "execution_count": 16, 
            "cell_type": "code", 
            "outputs": [
                {
                    "data": {
                        "text/html": "<div>\n<table border=\"1\" class=\"dataframe\">\n  <thead>\n    <tr style=\"text-align: right;\">\n      <th></th>\n      <th>A</th>\n      <th>B</th>\n      <th>C</th>\n      <th>D</th>\n    </tr>\n  </thead>\n  <tbody>\n    <tr>\n      <th>count</th>\n      <td>6.000000</td>\n      <td>6.000000</td>\n      <td>6.000000</td>\n      <td>6.000000</td>\n    </tr>\n    <tr>\n      <th>mean</th>\n      <td>0.773828</td>\n      <td>0.558199</td>\n      <td>-0.404312</td>\n      <td>0.916563</td>\n    </tr>\n    <tr>\n      <th>std</th>\n      <td>0.876081</td>\n      <td>0.992719</td>\n      <td>0.954357</td>\n      <td>0.762651</td>\n    </tr>\n    <tr>\n      <th>min</th>\n      <td>-0.500374</td>\n      <td>-0.454482</td>\n      <td>-1.522657</td>\n      <td>-0.245271</td>\n    </tr>\n    <tr>\n      <th>25%</th>\n      <td>0.233536</td>\n      <td>-0.270090</td>\n      <td>-0.999360</td>\n      <td>0.598278</td>\n    </tr>\n    <tr>\n      <th>50%</th>\n      <td>0.976189</td>\n      <td>0.415191</td>\n      <td>-0.570116</td>\n      <td>1.011937</td>\n    </tr>\n    <tr>\n      <th>75%</th>\n      <td>1.218868</td>\n      <td>1.198471</td>\n      <td>0.076452</td>\n      <td>1.166673</td>\n    </tr>\n    <tr>\n      <th>max</th>\n      <td>1.905215</td>\n      <td>2.012248</td>\n      <td>1.087482</td>\n      <td>2.042129</td>\n    </tr>\n  </tbody>\n</table>\n</div>", 
                        "text/plain": "              A         B         C         D\ncount  6.000000  6.000000  6.000000  6.000000\nmean   0.773828  0.558199 -0.404312  0.916563\nstd    0.876081  0.992719  0.954357  0.762651\nmin   -0.500374 -0.454482 -1.522657 -0.245271\n25%    0.233536 -0.270090 -0.999360  0.598278\n50%    0.976189  0.415191 -0.570116  1.011937\n75%    1.218868  1.198471  0.076452  1.166673\nmax    1.905215  2.012248  1.087482  2.042129"
                    }, 
                    "metadata": {}, 
                    "execution_count": 16, 
                    "output_type": "execute_result"
                }
            ]
        }, 
        {
            "source": "#Transpose\ndf.T", 
            "metadata": {
                "collapsed": false
            }, 
            "execution_count": 223, 
            "cell_type": "code", 
            "outputs": [
                {
                    "data": {
                        "text/html": "<div style=\"max-height:1000px;max-width:1500px;overflow:auto;\">\n<table border=\"1\" class=\"dataframe\">\n  <thead>\n    <tr style=\"text-align: right;\">\n      <th></th>\n      <th>2013-01-01 00:00:00</th>\n      <th>2013-01-02 00:00:00</th>\n      <th>2013-01-03 00:00:00</th>\n      <th>2013-01-04 00:00:00</th>\n      <th>2013-01-05 00:00:00</th>\n      <th>2013-01-06 00:00:00</th>\n    </tr>\n  </thead>\n  <tbody>\n    <tr>\n      <th>A</th>\n      <td> 0.571414</td>\n      <td> 0.188007</td>\n      <td>-0.383058</td>\n      <td>-0.823770</td>\n      <td>-0.909514</td>\n      <td>-0.135555</td>\n    </tr>\n    <tr>\n      <th>B</th>\n      <td>-0.318739</td>\n      <td> 0.123981</td>\n      <td> 1.970639</td>\n      <td> 1.772438</td>\n      <td>-0.438764</td>\n      <td> 2.604294</td>\n    </tr>\n    <tr>\n      <th>C</th>\n      <td>-1.338377</td>\n      <td> 0.393766</td>\n      <td>-0.792723</td>\n      <td> 0.780297</td>\n      <td> 0.717932</td>\n      <td> 0.597608</td>\n    </tr>\n    <tr>\n      <th>D</th>\n      <td> 0.222364</td>\n      <td> 0.737108</td>\n      <td>-2.931954</td>\n      <td>-1.131390</td>\n      <td>-0.113391</td>\n      <td> 1.129538</td>\n    </tr>\n  </tbody>\n</table>\n</div>", 
                        "text/plain": "   2013-01-01  2013-01-02  2013-01-03  2013-01-04  2013-01-05  2013-01-06\nA    0.571414    0.188007   -0.383058   -0.823770   -0.909514   -0.135555\nB   -0.318739    0.123981    1.970639    1.772438   -0.438764    2.604294\nC   -1.338377    0.393766   -0.792723    0.780297    0.717932    0.597608\nD    0.222364    0.737108   -2.931954   -1.131390   -0.113391    1.129538"
                    }, 
                    "metadata": {}, 
                    "execution_count": 223, 
                    "output_type": "execute_result"
                }
            ]
        }, 
        {
            "source": "# Sorting by an axis\ndf.sort_index(axis=1, ascending=False)", 
            "metadata": {
                "scrolled": true, 
                "collapsed": false
            }, 
            "execution_count": 224, 
            "cell_type": "code", 
            "outputs": [
                {
                    "data": {
                        "text/html": "<div style=\"max-height:1000px;max-width:1500px;overflow:auto;\">\n<table border=\"1\" class=\"dataframe\">\n  <thead>\n    <tr style=\"text-align: right;\">\n      <th></th>\n      <th>D</th>\n      <th>C</th>\n      <th>B</th>\n      <th>A</th>\n    </tr>\n  </thead>\n  <tbody>\n    <tr>\n      <th>2013-01-01</th>\n      <td> 0.222364</td>\n      <td>-1.338377</td>\n      <td>-0.318739</td>\n      <td> 0.571414</td>\n    </tr>\n    <tr>\n      <th>2013-01-02</th>\n      <td> 0.737108</td>\n      <td> 0.393766</td>\n      <td> 0.123981</td>\n      <td> 0.188007</td>\n    </tr>\n    <tr>\n      <th>2013-01-03</th>\n      <td>-2.931954</td>\n      <td>-0.792723</td>\n      <td> 1.970639</td>\n      <td>-0.383058</td>\n    </tr>\n    <tr>\n      <th>2013-01-04</th>\n      <td>-1.131390</td>\n      <td> 0.780297</td>\n      <td> 1.772438</td>\n      <td>-0.823770</td>\n    </tr>\n    <tr>\n      <th>2013-01-05</th>\n      <td>-0.113391</td>\n      <td> 0.717932</td>\n      <td>-0.438764</td>\n      <td>-0.909514</td>\n    </tr>\n    <tr>\n      <th>2013-01-06</th>\n      <td> 1.129538</td>\n      <td> 0.597608</td>\n      <td> 2.604294</td>\n      <td>-0.135555</td>\n    </tr>\n  </tbody>\n</table>\n</div>", 
                        "text/plain": "                   D         C         B         A\n2013-01-01  0.222364 -1.338377 -0.318739  0.571414\n2013-01-02  0.737108  0.393766  0.123981  0.188007\n2013-01-03 -2.931954 -0.792723  1.970639 -0.383058\n2013-01-04 -1.131390  0.780297  1.772438 -0.823770\n2013-01-05 -0.113391  0.717932 -0.438764 -0.909514\n2013-01-06  1.129538  0.597608  2.604294 -0.135555"
                    }, 
                    "metadata": {}, 
                    "execution_count": 224, 
                    "output_type": "execute_result"
                }
            ]
        }, 
        {
            "source": "# Sorting by values\ndf.sort(columns='B')", 
            "metadata": {
                "scrolled": true, 
                "collapsed": false
            }, 
            "execution_count": 225, 
            "cell_type": "code", 
            "outputs": [
                {
                    "data": {
                        "text/html": "<div style=\"max-height:1000px;max-width:1500px;overflow:auto;\">\n<table border=\"1\" class=\"dataframe\">\n  <thead>\n    <tr style=\"text-align: right;\">\n      <th></th>\n      <th>A</th>\n      <th>B</th>\n      <th>C</th>\n      <th>D</th>\n    </tr>\n  </thead>\n  <tbody>\n    <tr>\n      <th>2013-01-05</th>\n      <td>-0.909514</td>\n      <td>-0.438764</td>\n      <td> 0.717932</td>\n      <td>-0.113391</td>\n    </tr>\n    <tr>\n      <th>2013-01-01</th>\n      <td> 0.571414</td>\n      <td>-0.318739</td>\n      <td>-1.338377</td>\n      <td> 0.222364</td>\n    </tr>\n    <tr>\n      <th>2013-01-02</th>\n      <td> 0.188007</td>\n      <td> 0.123981</td>\n      <td> 0.393766</td>\n      <td> 0.737108</td>\n    </tr>\n    <tr>\n      <th>2013-01-04</th>\n      <td>-0.823770</td>\n      <td> 1.772438</td>\n      <td> 0.780297</td>\n      <td>-1.131390</td>\n    </tr>\n    <tr>\n      <th>2013-01-03</th>\n      <td>-0.383058</td>\n      <td> 1.970639</td>\n      <td>-0.792723</td>\n      <td>-2.931954</td>\n    </tr>\n    <tr>\n      <th>2013-01-06</th>\n      <td>-0.135555</td>\n      <td> 2.604294</td>\n      <td> 0.597608</td>\n      <td> 1.129538</td>\n    </tr>\n  </tbody>\n</table>\n</div>", 
                        "text/plain": "                   A         B         C         D\n2013-01-05 -0.909514 -0.438764  0.717932 -0.113391\n2013-01-01  0.571414 -0.318739 -1.338377  0.222364\n2013-01-02  0.188007  0.123981  0.393766  0.737108\n2013-01-04 -0.823770  1.772438  0.780297 -1.131390\n2013-01-03 -0.383058  1.970639 -0.792723 -2.931954\n2013-01-06 -0.135555  2.604294  0.597608  1.129538"
                    }, 
                    "metadata": {}, 
                    "execution_count": 225, 
                    "output_type": "execute_result"
                }
            ]
        }, 
        {
            "metadata": {}, 
            "source": "## Selection", 
            "cell_type": "markdown"
        }, 
        {
            "source": "# Selecting a single column, which yields a Series, equivalent to df.A\ndf['A']", 
            "metadata": {
                "scrolled": true, 
                "collapsed": false
            }, 
            "execution_count": 226, 
            "cell_type": "code", 
            "outputs": [
                {
                    "data": {
                        "text/plain": "2013-01-01    0.571414\n2013-01-02    0.188007\n2013-01-03   -0.383058\n2013-01-04   -0.823770\n2013-01-05   -0.909514\n2013-01-06   -0.135555\nFreq: D, Name: A, dtype: float64"
                    }, 
                    "metadata": {}, 
                    "execution_count": 226, 
                    "output_type": "execute_result"
                }
            ]
        }, 
        {
            "source": "# Selecting via [], which slices the rows.\ndf[0:3]", 
            "metadata": {
                "scrolled": true, 
                "collapsed": false
            }, 
            "execution_count": 19, 
            "cell_type": "code", 
            "outputs": [
                {
                    "data": {
                        "text/plain": "2013-01-01    1.037328\n2013-01-02    0.006365\n2013-01-03    0.915050\nFreq: D, Name: A, dtype: float64"
                    }, 
                    "metadata": {}, 
                    "execution_count": 19, 
                    "output_type": "execute_result"
                }
            ]
        }, 
        {
            "source": "df[pd.Timestamp('20130102'):pd.Timestamp('20130104')]", 
            "metadata": {
                "scrolled": true, 
                "collapsed": false
            }, 
            "execution_count": 236, 
            "cell_type": "code", 
            "outputs": [
                {
                    "data": {
                        "text/html": "<div style=\"max-height:1000px;max-width:1500px;overflow:auto;\">\n<table border=\"1\" class=\"dataframe\">\n  <thead>\n    <tr style=\"text-align: right;\">\n      <th></th>\n      <th>A</th>\n      <th>B</th>\n      <th>C</th>\n      <th>D</th>\n    </tr>\n  </thead>\n  <tbody>\n    <tr>\n      <th>2013-01-02</th>\n      <td>-0.036184</td>\n      <td> 0.804840</td>\n      <td> 0.701871</td>\n      <td>-0.516308</td>\n    </tr>\n    <tr>\n      <th>2013-01-03</th>\n      <td> 0.098708</td>\n      <td>-0.311193</td>\n      <td>-0.487981</td>\n      <td>-0.163751</td>\n    </tr>\n    <tr>\n      <th>2013-01-04</th>\n      <td>-0.024351</td>\n      <td>-1.051896</td>\n      <td> 1.030320</td>\n      <td>-0.345390</td>\n    </tr>\n  </tbody>\n</table>\n</div>", 
                        "text/plain": "                   A         B         C         D\n2013-01-02 -0.036184  0.804840  0.701871 -0.516308\n2013-01-03  0.098708 -0.311193 -0.487981 -0.163751\n2013-01-04 -0.024351 -1.051896  1.030320 -0.345390"
                    }, 
                    "metadata": {}, 
                    "execution_count": 236, 
                    "output_type": "execute_result"
                }
            ]
        }, 
        {
            "metadata": {}, 
            "source": "### Selection by Label", 
            "cell_type": "markdown"
        }, 
        {
            "source": "# Selecting via [], which slices the rows.\ndf.loc[dates[0]]", 
            "metadata": {
                "scrolled": true, 
                "collapsed": false
            }, 
            "execution_count": 155, 
            "cell_type": "code", 
            "outputs": [
                {
                    "data": {
                        "text/plain": "A   -1.519247\nB   -0.235685\nC    0.767032\nD    0.474691\nName: 2013-01-01 00:00:00, dtype: float64"
                    }, 
                    "metadata": {}, 
                    "execution_count": 155, 
                    "output_type": "execute_result"
                }
            ]
        }, 
        {
            "source": "# Selecting on a multi-axis by label\ndf.loc[:,['A','B']]", 
            "metadata": {
                "collapsed": false
            }, 
            "execution_count": 20, 
            "cell_type": "code", 
            "outputs": [
                {
                    "data": {
                        "text/html": "<div>\n<table border=\"1\" class=\"dataframe\">\n  <thead>\n    <tr style=\"text-align: right;\">\n      <th></th>\n      <th>A</th>\n      <th>B</th>\n    </tr>\n  </thead>\n  <tbody>\n    <tr>\n      <th>2013-01-01</th>\n      <td>1.037328</td>\n      <td>0.186397</td>\n    </tr>\n    <tr>\n      <th>2013-01-02</th>\n      <td>0.006365</td>\n      <td>2.012248</td>\n    </tr>\n    <tr>\n      <th>2013-01-03</th>\n      <td>0.915050</td>\n      <td>0.643984</td>\n    </tr>\n    <tr>\n      <th>2013-01-04</th>\n      <td>1.905215</td>\n      <td>-0.454482</td>\n    </tr>\n    <tr>\n      <th>2013-01-05</th>\n      <td>1.279382</td>\n      <td>-0.422253</td>\n    </tr>\n    <tr>\n      <th>2013-01-06</th>\n      <td>-0.500374</td>\n      <td>1.383299</td>\n    </tr>\n  </tbody>\n</table>\n</div>", 
                        "text/plain": "                   A         B\n2013-01-01  1.037328  0.186397\n2013-01-02  0.006365  2.012248\n2013-01-03  0.915050  0.643984\n2013-01-04  1.905215 -0.454482\n2013-01-05  1.279382 -0.422253\n2013-01-06 -0.500374  1.383299"
                    }, 
                    "metadata": {}, 
                    "execution_count": 20, 
                    "output_type": "execute_result"
                }
            ]
        }, 
        {
            "source": "#Showing label slicing, both endpoints are included\ndf.loc[pd.Timestamp('20130102'):pd.Timestamp('20130104'),['A','B']]", 
            "metadata": {
                "collapsed": false
            }, 
            "execution_count": 21, 
            "cell_type": "code", 
            "outputs": [
                {
                    "data": {
                        "text/html": "<div>\n<table border=\"1\" class=\"dataframe\">\n  <thead>\n    <tr style=\"text-align: right;\">\n      <th></th>\n      <th>A</th>\n      <th>B</th>\n    </tr>\n  </thead>\n  <tbody>\n    <tr>\n      <th>2013-01-02</th>\n      <td>0.006365</td>\n      <td>2.012248</td>\n    </tr>\n    <tr>\n      <th>2013-01-03</th>\n      <td>0.915050</td>\n      <td>0.643984</td>\n    </tr>\n    <tr>\n      <th>2013-01-04</th>\n      <td>1.905215</td>\n      <td>-0.454482</td>\n    </tr>\n  </tbody>\n</table>\n</div>", 
                        "text/plain": "                   A         B\n2013-01-02  0.006365  2.012248\n2013-01-03  0.915050  0.643984\n2013-01-04  1.905215 -0.454482"
                    }, 
                    "metadata": {}, 
                    "execution_count": 21, 
                    "output_type": "execute_result"
                }
            ]
        }, 
        {
            "source": "# Reduction in the dimensions of the returned object\ndf.loc['20130102',['A','B']]", 
            "metadata": {
                "collapsed": false
            }, 
            "execution_count": 238, 
            "cell_type": "code", 
            "outputs": [
                {
                    "data": {
                        "text/plain": "A   -0.036184\nB    0.804840\nName: 2013-01-02 00:00:00, dtype: float64"
                    }, 
                    "metadata": {}, 
                    "execution_count": 238, 
                    "output_type": "execute_result"
                }
            ]
        }, 
        {
            "source": "# For getting a scalar value\ndf.loc[dates[0],'A']", 
            "metadata": {
                "collapsed": false
            }, 
            "execution_count": 159, 
            "cell_type": "code", 
            "outputs": [
                {
                    "data": {
                        "text/plain": "-1.5192469927761874"
                    }, 
                    "metadata": {}, 
                    "execution_count": 159, 
                    "output_type": "execute_result"
                }
            ]
        }, 
        {
            "source": "# For getting fast access to a scalar (equiv to the prior method)\ndf.at[dates[0],'A']", 
            "metadata": {
                "collapsed": false
            }, 
            "execution_count": 160, 
            "cell_type": "code", 
            "outputs": [
                {
                    "data": {
                        "text/plain": "-1.5192469927761874"
                    }, 
                    "metadata": {}, 
                    "execution_count": 160, 
                    "output_type": "execute_result"
                }
            ]
        }, 
        {
            "metadata": {}, 
            "source": "### selecting by position", 
            "cell_type": "markdown"
        }, 
        {
            "source": "# Select via the position of the passed integers\ndf.iloc[3]", 
            "metadata": {
                "collapsed": false
            }, 
            "execution_count": 161, 
            "cell_type": "code", 
            "outputs": [
                {
                    "data": {
                        "text/plain": "A   -0.107456\nB    1.654666\nC   -1.640196\nD   -0.906447\nName: 2013-01-04 00:00:00, dtype: float64"
                    }, 
                    "metadata": {}, 
                    "execution_count": 161, 
                    "output_type": "execute_result"
                }
            ]
        }, 
        {
            "source": "# By integer slices, acting similar to numpy/python\ndf.iloc[3:5,1:3]", 
            "metadata": {
                "collapsed": false
            }, 
            "execution_count": 23, 
            "cell_type": "code", 
            "outputs": [
                {
                    "data": {
                        "text/html": "<div>\n<table border=\"1\" class=\"dataframe\">\n  <thead>\n    <tr style=\"text-align: right;\">\n      <th></th>\n      <th>B</th>\n      <th>C</th>\n    </tr>\n  </thead>\n  <tbody>\n    <tr>\n      <th>2013-01-04</th>\n      <td>-0.454482</td>\n      <td>-1.140033</td>\n    </tr>\n    <tr>\n      <th>2013-01-05</th>\n      <td>-0.422253</td>\n      <td>1.087482</td>\n    </tr>\n  </tbody>\n</table>\n</div>", 
                        "text/plain": "                   B         C\n2013-01-04 -0.454482 -1.140033\n2013-01-05 -0.422253  1.087482"
                    }, 
                    "metadata": {}, 
                    "execution_count": 23, 
                    "output_type": "execute_result"
                }
            ]
        }, 
        {
            "source": "#By lists of integer position locations, similar to the numpy/python style\ndf.iloc[[1,2,4],[0,2]]", 
            "metadata": {
                "collapsed": false
            }, 
            "execution_count": 163, 
            "cell_type": "code", 
            "outputs": [
                {
                    "data": {
                        "text/html": "<div style=\"max-height:1000px;max-width:1500px;overflow:auto;\">\n<table border=\"1\" class=\"dataframe\">\n  <thead>\n    <tr style=\"text-align: right;\">\n      <th></th>\n      <th>A</th>\n      <th>C</th>\n    </tr>\n  </thead>\n  <tbody>\n    <tr>\n      <th>2013-01-02</th>\n      <td>-0.276953</td>\n      <td>-0.876337</td>\n    </tr>\n    <tr>\n      <th>2013-01-03</th>\n      <td> 0.332386</td>\n      <td>-1.738459</td>\n    </tr>\n    <tr>\n      <th>2013-01-05</th>\n      <td>-2.271851</td>\n      <td> 0.482549</td>\n    </tr>\n  </tbody>\n</table>\n</div>", 
                        "text/plain": "                   A         C\n2013-01-02 -0.276953 -0.876337\n2013-01-03  0.332386 -1.738459\n2013-01-05 -2.271851  0.482549"
                    }, 
                    "metadata": {}, 
                    "execution_count": 163, 
                    "output_type": "execute_result"
                }
            ]
        }, 
        {
            "source": "# For slicing rows explicitly\ndf.iloc[1:3,:]", 
            "metadata": {
                "collapsed": false
            }, 
            "execution_count": 164, 
            "cell_type": "code", 
            "outputs": [
                {
                    "data": {
                        "text/html": "<div style=\"max-height:1000px;max-width:1500px;overflow:auto;\">\n<table border=\"1\" class=\"dataframe\">\n  <thead>\n    <tr style=\"text-align: right;\">\n      <th></th>\n      <th>A</th>\n      <th>B</th>\n      <th>C</th>\n      <th>D</th>\n    </tr>\n  </thead>\n  <tbody>\n    <tr>\n      <th>2013-01-02</th>\n      <td>-0.276953</td>\n      <td> 2.025951</td>\n      <td>-0.876337</td>\n      <td> 1.657543</td>\n    </tr>\n    <tr>\n      <th>2013-01-03</th>\n      <td> 0.332386</td>\n      <td> 0.541522</td>\n      <td>-1.738459</td>\n      <td> 2.085323</td>\n    </tr>\n  </tbody>\n</table>\n</div>", 
                        "text/plain": "                   A         B         C         D\n2013-01-02 -0.276953  2.025951 -0.876337  1.657543\n2013-01-03  0.332386  0.541522 -1.738459  2.085323"
                    }, 
                    "metadata": {}, 
                    "execution_count": 164, 
                    "output_type": "execute_result"
                }
            ]
        }, 
        {
            "source": "# For slicing columns explicitly\ndf.iloc[:,1:3]", 
            "metadata": {
                "collapsed": false
            }, 
            "execution_count": 165, 
            "cell_type": "code", 
            "outputs": [
                {
                    "data": {
                        "text/html": "<div style=\"max-height:1000px;max-width:1500px;overflow:auto;\">\n<table border=\"1\" class=\"dataframe\">\n  <thead>\n    <tr style=\"text-align: right;\">\n      <th></th>\n      <th>B</th>\n      <th>C</th>\n    </tr>\n  </thead>\n  <tbody>\n    <tr>\n      <th>2013-01-01</th>\n      <td>-0.235685</td>\n      <td> 0.767032</td>\n    </tr>\n    <tr>\n      <th>2013-01-02</th>\n      <td> 2.025951</td>\n      <td>-0.876337</td>\n    </tr>\n    <tr>\n      <th>2013-01-03</th>\n      <td> 0.541522</td>\n      <td>-1.738459</td>\n    </tr>\n    <tr>\n      <th>2013-01-04</th>\n      <td> 1.654666</td>\n      <td>-1.640196</td>\n    </tr>\n    <tr>\n      <th>2013-01-05</th>\n      <td> 0.535443</td>\n      <td> 0.482549</td>\n    </tr>\n    <tr>\n      <th>2013-01-06</th>\n      <td>-1.583948</td>\n      <td>-0.712894</td>\n    </tr>\n  </tbody>\n</table>\n</div>", 
                        "text/plain": "                   B         C\n2013-01-01 -0.235685  0.767032\n2013-01-02  2.025951 -0.876337\n2013-01-03  0.541522 -1.738459\n2013-01-04  1.654666 -1.640196\n2013-01-05  0.535443  0.482549\n2013-01-06 -1.583948 -0.712894"
                    }, 
                    "metadata": {}, 
                    "execution_count": 165, 
                    "output_type": "execute_result"
                }
            ]
        }, 
        {
            "source": "#For getting a value explicitly\ndf.iloc[1,1]", 
            "metadata": {
                "collapsed": false
            }, 
            "execution_count": 166, 
            "cell_type": "code", 
            "outputs": [
                {
                    "data": {
                        "text/plain": "2.0259506625430683"
                    }, 
                    "metadata": {}, 
                    "execution_count": 166, 
                    "output_type": "execute_result"
                }
            ]
        }, 
        {
            "source": "#For getting fast access to a scalar (equiv to the prior method)\ndf.iat[1,1]", 
            "metadata": {
                "collapsed": false
            }, 
            "execution_count": 167, 
            "cell_type": "code", 
            "outputs": [
                {
                    "data": {
                        "text/plain": "2.0259506625430683"
                    }, 
                    "metadata": {}, 
                    "execution_count": 167, 
                    "output_type": "execute_result"
                }
            ]
        }, 
        {
            "metadata": {}, 
            "source": "## Boolean Indexing", 
            "cell_type": "markdown"
        }, 
        {
            "source": "# Using a single column\u2019s values to select data.\ndf[df.A > 0]", 
            "metadata": {
                "collapsed": false
            }, 
            "execution_count": 172, 
            "cell_type": "code", 
            "outputs": [
                {
                    "data": {
                        "text/html": "<div style=\"max-height:1000px;max-width:1500px;overflow:auto;\">\n<table border=\"1\" class=\"dataframe\">\n  <thead>\n    <tr style=\"text-align: right;\">\n      <th></th>\n      <th>A</th>\n      <th>B</th>\n      <th>C</th>\n      <th>D</th>\n    </tr>\n  </thead>\n  <tbody>\n    <tr>\n      <th>2013-01-03</th>\n      <td> 0.332386</td>\n      <td> 0.541522</td>\n      <td>-1.738459</td>\n      <td> 2.085323</td>\n    </tr>\n    <tr>\n      <th>2013-01-06</th>\n      <td> 1.393596</td>\n      <td>-1.583948</td>\n      <td>-0.712894</td>\n      <td> 1.039737</td>\n    </tr>\n  </tbody>\n</table>\n</div>", 
                        "text/plain": "                   A         B         C         D\n2013-01-03  0.332386  0.541522 -1.738459  2.085323\n2013-01-06  1.393596 -1.583948 -0.712894  1.039737"
                    }, 
                    "metadata": {}, 
                    "execution_count": 172, 
                    "output_type": "execute_result"
                }
            ]
        }, 
        {
            "source": "# A where operation for getting.\ndf[df > 0]", 
            "metadata": {
                "scrolled": true, 
                "collapsed": false
            }, 
            "execution_count": 173, 
            "cell_type": "code", 
            "outputs": [
                {
                    "data": {
                        "text/html": "<div style=\"max-height:1000px;max-width:1500px;overflow:auto;\">\n<table border=\"1\" class=\"dataframe\">\n  <thead>\n    <tr style=\"text-align: right;\">\n      <th></th>\n      <th>A</th>\n      <th>B</th>\n      <th>C</th>\n      <th>D</th>\n    </tr>\n  </thead>\n  <tbody>\n    <tr>\n      <th>2013-01-01</th>\n      <td>      NaN</td>\n      <td>      NaN</td>\n      <td> 0.767032</td>\n      <td> 0.474691</td>\n    </tr>\n    <tr>\n      <th>2013-01-02</th>\n      <td>      NaN</td>\n      <td> 2.025951</td>\n      <td>      NaN</td>\n      <td> 1.657543</td>\n    </tr>\n    <tr>\n      <th>2013-01-03</th>\n      <td> 0.332386</td>\n      <td> 0.541522</td>\n      <td>      NaN</td>\n      <td> 2.085323</td>\n    </tr>\n    <tr>\n      <th>2013-01-04</th>\n      <td>      NaN</td>\n      <td> 1.654666</td>\n      <td>      NaN</td>\n      <td>      NaN</td>\n    </tr>\n    <tr>\n      <th>2013-01-05</th>\n      <td>      NaN</td>\n      <td> 0.535443</td>\n      <td> 0.482549</td>\n      <td>      NaN</td>\n    </tr>\n    <tr>\n      <th>2013-01-06</th>\n      <td> 1.393596</td>\n      <td>      NaN</td>\n      <td>      NaN</td>\n      <td> 1.039737</td>\n    </tr>\n  </tbody>\n</table>\n</div>", 
                        "text/plain": "                   A         B         C         D\n2013-01-01       NaN       NaN  0.767032  0.474691\n2013-01-02       NaN  2.025951       NaN  1.657543\n2013-01-03  0.332386  0.541522       NaN  2.085323\n2013-01-04       NaN  1.654666       NaN       NaN\n2013-01-05       NaN  0.535443  0.482549       NaN\n2013-01-06  1.393596       NaN       NaN  1.039737"
                    }, 
                    "metadata": {}, 
                    "execution_count": 173, 
                    "output_type": "execute_result"
                }
            ]
        }, 
        {
            "source": "# Using the isin() method for filtering:\ndf2 = df.copy()\ndf2['E']=['one', 'one','two','three','four','three']", 
            "metadata": {
                "collapsed": false
            }, 
            "execution_count": 10, 
            "cell_type": "code", 
            "outputs": []
        }, 
        {
            "source": "df2", 
            "metadata": {
                "scrolled": true, 
                "collapsed": false
            }, 
            "execution_count": 11, 
            "cell_type": "code", 
            "outputs": [
                {
                    "data": {
                        "text/html": "<div>\n<table border=\"1\" class=\"dataframe\">\n  <thead>\n    <tr style=\"text-align: right;\">\n      <th></th>\n      <th>A</th>\n      <th>B</th>\n      <th>C</th>\n      <th>D</th>\n      <th>E</th>\n    </tr>\n  </thead>\n  <tbody>\n    <tr>\n      <th>2013-01-01</th>\n      <td>0.292332</td>\n      <td>-0.934199</td>\n      <td>-1.421113</td>\n      <td>0.079655</td>\n      <td>one</td>\n    </tr>\n    <tr>\n      <th>2013-01-02</th>\n      <td>-0.271844</td>\n      <td>-1.229925</td>\n      <td>2.086487</td>\n      <td>-0.242439</td>\n      <td>one</td>\n    </tr>\n    <tr>\n      <th>2013-01-03</th>\n      <td>1.269989</td>\n      <td>1.493881</td>\n      <td>0.266422</td>\n      <td>-0.416329</td>\n      <td>two</td>\n    </tr>\n    <tr>\n      <th>2013-01-04</th>\n      <td>1.005445</td>\n      <td>-1.295915</td>\n      <td>0.146838</td>\n      <td>-2.466897</td>\n      <td>three</td>\n    </tr>\n    <tr>\n      <th>2013-01-05</th>\n      <td>-0.636897</td>\n      <td>-0.704290</td>\n      <td>0.078244</td>\n      <td>-1.728304</td>\n      <td>four</td>\n    </tr>\n    <tr>\n      <th>2013-01-06</th>\n      <td>1.099498</td>\n      <td>-0.005017</td>\n      <td>0.628728</td>\n      <td>-0.448414</td>\n      <td>three</td>\n    </tr>\n  </tbody>\n</table>\n</div>", 
                        "text/plain": "                   A         B         C         D      E\n2013-01-01  0.292332 -0.934199 -1.421113  0.079655    one\n2013-01-02 -0.271844 -1.229925  2.086487 -0.242439    one\n2013-01-03  1.269989  1.493881  0.266422 -0.416329    two\n2013-01-04  1.005445 -1.295915  0.146838 -2.466897  three\n2013-01-05 -0.636897 -0.704290  0.078244 -1.728304   four\n2013-01-06  1.099498 -0.005017  0.628728 -0.448414  three"
                    }, 
                    "metadata": {}, 
                    "execution_count": 11, 
                    "output_type": "execute_result"
                }
            ]
        }, 
        {
            "source": "df2[df2['E'].isin(['two','four'])]", 
            "metadata": {
                "collapsed": false
            }, 
            "execution_count": 12, 
            "cell_type": "code", 
            "outputs": [
                {
                    "data": {
                        "text/html": "<div>\n<table border=\"1\" class=\"dataframe\">\n  <thead>\n    <tr style=\"text-align: right;\">\n      <th></th>\n      <th>A</th>\n      <th>B</th>\n      <th>C</th>\n      <th>D</th>\n      <th>E</th>\n    </tr>\n  </thead>\n  <tbody>\n    <tr>\n      <th>2013-01-03</th>\n      <td>1.269989</td>\n      <td>1.493881</td>\n      <td>0.266422</td>\n      <td>-0.416329</td>\n      <td>two</td>\n    </tr>\n    <tr>\n      <th>2013-01-05</th>\n      <td>-0.636897</td>\n      <td>-0.704290</td>\n      <td>0.078244</td>\n      <td>-1.728304</td>\n      <td>four</td>\n    </tr>\n  </tbody>\n</table>\n</div>", 
                        "text/plain": "                   A         B         C         D     E\n2013-01-03  1.269989  1.493881  0.266422 -0.416329   two\n2013-01-05 -0.636897 -0.704290  0.078244 -1.728304  four"
                    }, 
                    "metadata": {}, 
                    "execution_count": 12, 
                    "output_type": "execute_result"
                }
            ]
        }, 
        {
            "metadata": {}, 
            "source": "## missing data", 
            "cell_type": "markdown"
        }, 
        {
            "metadata": {}, 
            "source": "Pandas primarily uses the value np.nan to represent missing data. It is by default not included in computations. \n\nReindexing allows you to change/add/delete the index on a specified axis. This returns a copy of the data.", 
            "cell_type": "markdown"
        }, 
        {
            "source": "df1 = df.reindex(index=dates[0:4],columns=list(df.columns) + ['E'])", 
            "metadata": {
                "collapsed": true
            }, 
            "execution_count": 24, 
            "cell_type": "code", 
            "outputs": []
        }, 
        {
            "source": "df1.loc[dates[0]:dates[1],'E'] = 1", 
            "metadata": {
                "scrolled": true, 
                "collapsed": false
            }, 
            "execution_count": 25, 
            "cell_type": "code", 
            "outputs": []
        }, 
        {
            "source": "df1", 
            "metadata": {
                "collapsed": false
            }, 
            "execution_count": 26, 
            "cell_type": "code", 
            "outputs": [
                {
                    "data": {
                        "text/html": "<div>\n<table border=\"1\" class=\"dataframe\">\n  <thead>\n    <tr style=\"text-align: right;\">\n      <th></th>\n      <th>A</th>\n      <th>B</th>\n      <th>C</th>\n      <th>D</th>\n      <th>E</th>\n    </tr>\n  </thead>\n  <tbody>\n    <tr>\n      <th>2013-01-01</th>\n      <td>1.037328</td>\n      <td>0.186397</td>\n      <td>-0.577339</td>\n      <td>1.161401</td>\n      <td>1.0</td>\n    </tr>\n    <tr>\n      <th>2013-01-02</th>\n      <td>0.006365</td>\n      <td>2.012248</td>\n      <td>0.289567</td>\n      <td>0.862473</td>\n      <td>1.0</td>\n    </tr>\n    <tr>\n      <th>2013-01-03</th>\n      <td>0.915050</td>\n      <td>0.643984</td>\n      <td>-0.562894</td>\n      <td>2.042129</td>\n      <td>NaN</td>\n    </tr>\n    <tr>\n      <th>2013-01-04</th>\n      <td>1.905215</td>\n      <td>-0.454482</td>\n      <td>-1.140033</td>\n      <td>0.510213</td>\n      <td>NaN</td>\n    </tr>\n  </tbody>\n</table>\n</div>", 
                        "text/plain": "                   A         B         C         D    E\n2013-01-01  1.037328  0.186397 -0.577339  1.161401  1.0\n2013-01-02  0.006365  2.012248  0.289567  0.862473  1.0\n2013-01-03  0.915050  0.643984 -0.562894  2.042129  NaN\n2013-01-04  1.905215 -0.454482 -1.140033  0.510213  NaN"
                    }, 
                    "metadata": {}, 
                    "execution_count": 26, 
                    "output_type": "execute_result"
                }
            ]
        }, 
        {
            "source": "# To drop any rows that have missing data.\ndf1.dropna(how='any')", 
            "metadata": {
                "scrolled": true, 
                "collapsed": false
            }, 
            "execution_count": 27, 
            "cell_type": "code", 
            "outputs": [
                {
                    "data": {
                        "text/html": "<div>\n<table border=\"1\" class=\"dataframe\">\n  <thead>\n    <tr style=\"text-align: right;\">\n      <th></th>\n      <th>A</th>\n      <th>B</th>\n      <th>C</th>\n      <th>D</th>\n      <th>E</th>\n    </tr>\n  </thead>\n  <tbody>\n    <tr>\n      <th>2013-01-01</th>\n      <td>1.037328</td>\n      <td>0.186397</td>\n      <td>-0.577339</td>\n      <td>1.161401</td>\n      <td>1.0</td>\n    </tr>\n    <tr>\n      <th>2013-01-02</th>\n      <td>0.006365</td>\n      <td>2.012248</td>\n      <td>0.289567</td>\n      <td>0.862473</td>\n      <td>1.0</td>\n    </tr>\n  </tbody>\n</table>\n</div>", 
                        "text/plain": "                   A         B         C         D    E\n2013-01-01  1.037328  0.186397 -0.577339  1.161401  1.0\n2013-01-02  0.006365  2.012248  0.289567  0.862473  1.0"
                    }, 
                    "metadata": {}, 
                    "execution_count": 27, 
                    "output_type": "execute_result"
                }
            ]
        }, 
        {
            "source": "#Filling missing data\ndf1.fillna(value=5)", 
            "metadata": {
                "collapsed": false
            }, 
            "execution_count": 188, 
            "cell_type": "code", 
            "outputs": [
                {
                    "data": {
                        "text/html": "<div style=\"max-height:1000px;max-width:1500px;overflow:auto;\">\n<table border=\"1\" class=\"dataframe\">\n  <thead>\n    <tr style=\"text-align: right;\">\n      <th></th>\n      <th>A</th>\n      <th>B</th>\n      <th>C</th>\n      <th>D</th>\n      <th>E</th>\n    </tr>\n  </thead>\n  <tbody>\n    <tr>\n      <th>2013-01-01</th>\n      <td> 0.000000</td>\n      <td> 0.000000</td>\n      <td> 0.767032</td>\n      <td> 5</td>\n      <td> 1</td>\n    </tr>\n    <tr>\n      <th>2013-01-02</th>\n      <td>-0.276953</td>\n      <td> 2.025951</td>\n      <td>-0.876337</td>\n      <td> 5</td>\n      <td> 1</td>\n    </tr>\n    <tr>\n      <th>2013-01-03</th>\n      <td> 0.332386</td>\n      <td> 0.541522</td>\n      <td>-1.738459</td>\n      <td> 5</td>\n      <td> 5</td>\n    </tr>\n    <tr>\n      <th>2013-01-04</th>\n      <td>-0.107456</td>\n      <td> 1.654666</td>\n      <td>-1.640196</td>\n      <td> 5</td>\n      <td> 5</td>\n    </tr>\n  </tbody>\n</table>\n</div>", 
                        "text/plain": "                   A         B         C  D  E\n2013-01-01  0.000000  0.000000  0.767032  5  1\n2013-01-02 -0.276953  2.025951 -0.876337  5  1\n2013-01-03  0.332386  0.541522 -1.738459  5  5\n2013-01-04 -0.107456  1.654666 -1.640196  5  5"
                    }, 
                    "metadata": {}, 
                    "execution_count": 188, 
                    "output_type": "execute_result"
                }
            ]
        }, 
        {
            "source": "# To get the boolean mask where values are nan\npd.isnull(df1)", 
            "metadata": {
                "collapsed": false
            }, 
            "execution_count": 28, 
            "cell_type": "code", 
            "outputs": [
                {
                    "data": {
                        "text/html": "<div>\n<table border=\"1\" class=\"dataframe\">\n  <thead>\n    <tr style=\"text-align: right;\">\n      <th></th>\n      <th>A</th>\n      <th>B</th>\n      <th>C</th>\n      <th>D</th>\n      <th>E</th>\n    </tr>\n  </thead>\n  <tbody>\n    <tr>\n      <th>2013-01-01</th>\n      <td>False</td>\n      <td>False</td>\n      <td>False</td>\n      <td>False</td>\n      <td>False</td>\n    </tr>\n    <tr>\n      <th>2013-01-02</th>\n      <td>False</td>\n      <td>False</td>\n      <td>False</td>\n      <td>False</td>\n      <td>False</td>\n    </tr>\n    <tr>\n      <th>2013-01-03</th>\n      <td>False</td>\n      <td>False</td>\n      <td>False</td>\n      <td>False</td>\n      <td>True</td>\n    </tr>\n    <tr>\n      <th>2013-01-04</th>\n      <td>False</td>\n      <td>False</td>\n      <td>False</td>\n      <td>False</td>\n      <td>True</td>\n    </tr>\n  </tbody>\n</table>\n</div>", 
                        "text/plain": "                A      B      C      D      E\n2013-01-01  False  False  False  False  False\n2013-01-02  False  False  False  False  False\n2013-01-03  False  False  False  False   True\n2013-01-04  False  False  False  False   True"
                    }, 
                    "metadata": {}, 
                    "execution_count": 28, 
                    "output_type": "execute_result"
                }
            ]
        }, 
        {
            "metadata": {}, 
            "source": "# Operations", 
            "cell_type": "markdown"
        }, 
        {
            "metadata": {}, 
            "source": "## Stats\nOperations in general exclude missing data.", 
            "cell_type": "markdown"
        }, 
        {
            "source": "# Performing a descriptive statistic\ndf.mean()", 
            "metadata": {
                "collapsed": false
            }, 
            "execution_count": 51, 
            "cell_type": "code", 
            "outputs": [
                {
                    "data": {
                        "text/plain": "A    -9.686214\nB    -0.079088\nC    23.543500\nD    37.573743\ndtype: float64"
                    }, 
                    "metadata": {}, 
                    "execution_count": 51, 
                    "output_type": "execute_result"
                }
            ]
        }, 
        {
            "source": "# Same operation on the other axis\ndf.mean(1)", 
            "metadata": {
                "collapsed": false
            }, 
            "execution_count": 52, 
            "cell_type": "code", 
            "outputs": [
                {
                    "data": {
                        "text/plain": "2000-01-01    -0.208831\n2000-01-02     0.145541\n2000-01-03     0.639730\n2000-01-04     0.575585\n2000-01-05    -0.130586\n2000-01-06     0.363420\n2000-01-07     0.680922\n2000-01-08     0.334840\n2000-01-09     0.538903\n2000-01-10     0.983198\n2000-01-11     1.350029\n2000-01-12     1.413453\n2000-01-13     2.042705\n2000-01-14     1.903284\n2000-01-15     1.562361\n2000-01-16     2.247162\n2000-01-17     1.416290\n2000-01-18     0.692963\n2000-01-19     0.681272\n2000-01-20     0.929463\n2000-01-21     1.589149\n2000-01-22     1.693574\n2000-01-23     1.241804\n2000-01-24     1.760090\n2000-01-25     1.765081\n2000-01-26     1.287842\n2000-01-27     0.706496\n2000-01-28    -0.017901\n2000-01-29     0.910818\n2000-01-30     0.385339\n                ...    \n2002-08-28    15.640652\n2002-08-29    15.458496\n2002-08-30    14.953958\n2002-08-31    14.798663\n2002-09-01    14.671578\n2002-09-02    13.936015\n2002-09-03    14.097277\n2002-09-04    13.638614\n2002-09-05    13.767685\n2002-09-06    14.782627\n2002-09-07    14.510480\n2002-09-08    14.917097\n2002-09-09    15.145596\n2002-09-10    15.250952\n2002-09-11    15.033477\n2002-09-12    15.201416\n2002-09-13    14.647258\n2002-09-14    14.674466\n2002-09-15    14.496099\n2002-09-16    15.009110\n2002-09-17    13.971102\n2002-09-18    14.066502\n2002-09-19    14.882022\n2002-09-20    14.853126\n2002-09-21    14.670752\n2002-09-22    13.793173\n2002-09-23    13.655772\n2002-09-24    12.841226\n2002-09-25    13.168440\n2002-09-26    14.001568\nFreq: D, dtype: float64"
                    }, 
                    "metadata": {}, 
                    "execution_count": 52, 
                    "output_type": "execute_result"
                }
            ]
        }, 
        {
            "source": "# Operating with objects that have different dimensionality and need alignment. In addition, pandas automatically broadcasts along the specified dimension.\ns = pd.Series([1,3,5,np.nan,6,8],index=dates).shift(2)\ns", 
            "metadata": {
                "collapsed": false
            }, 
            "execution_count": 53, 
            "cell_type": "code", 
            "outputs": [
                {
                    "data": {
                        "text/plain": "2013-01-01    NaN\n2013-01-02    NaN\n2013-01-03    1.0\n2013-01-04    3.0\n2013-01-05    5.0\n2013-01-06    NaN\nFreq: D, dtype: float64"
                    }, 
                    "metadata": {}, 
                    "execution_count": 53, 
                    "output_type": "execute_result"
                }
            ]
        }, 
        {
            "source": "df.sub(s,axis='index')", 
            "metadata": {
                "scrolled": true, 
                "collapsed": false
            }, 
            "execution_count": 54, 
            "cell_type": "code", 
            "outputs": [
                {
                    "data": {
                        "text/html": "<div>\n<table border=\"1\" class=\"dataframe\">\n  <thead>\n    <tr style=\"text-align: right;\">\n      <th></th>\n      <th>A</th>\n      <th>B</th>\n      <th>C</th>\n      <th>D</th>\n    </tr>\n  </thead>\n  <tbody>\n    <tr>\n      <th>2000-01-01</th>\n      <td>NaN</td>\n      <td>NaN</td>\n      <td>NaN</td>\n      <td>NaN</td>\n    </tr>\n    <tr>\n      <th>2000-01-02</th>\n      <td>NaN</td>\n      <td>NaN</td>\n      <td>NaN</td>\n      <td>NaN</td>\n    </tr>\n    <tr>\n      <th>2000-01-03</th>\n      <td>NaN</td>\n      <td>NaN</td>\n      <td>NaN</td>\n      <td>NaN</td>\n    </tr>\n    <tr>\n      <th>2000-01-04</th>\n      <td>NaN</td>\n      <td>NaN</td>\n      <td>NaN</td>\n      <td>NaN</td>\n    </tr>\n    <tr>\n      <th>2000-01-05</th>\n      <td>NaN</td>\n      <td>NaN</td>\n      <td>NaN</td>\n      <td>NaN</td>\n    </tr>\n    <tr>\n      <th>2000-01-06</th>\n      <td>NaN</td>\n      <td>NaN</td>\n      <td>NaN</td>\n      <td>NaN</td>\n    </tr>\n    <tr>\n      <th>2000-01-07</th>\n      <td>NaN</td>\n      <td>NaN</td>\n      <td>NaN</td>\n      <td>NaN</td>\n    </tr>\n    <tr>\n      <th>2000-01-08</th>\n      <td>NaN</td>\n      <td>NaN</td>\n      <td>NaN</td>\n      <td>NaN</td>\n    </tr>\n    <tr>\n      <th>2000-01-09</th>\n      <td>NaN</td>\n      <td>NaN</td>\n      <td>NaN</td>\n      <td>NaN</td>\n    </tr>\n    <tr>\n      <th>2000-01-10</th>\n      <td>NaN</td>\n      <td>NaN</td>\n      <td>NaN</td>\n      <td>NaN</td>\n    </tr>\n    <tr>\n      <th>2000-01-11</th>\n      <td>NaN</td>\n      <td>NaN</td>\n      <td>NaN</td>\n      <td>NaN</td>\n    </tr>\n    <tr>\n      <th>2000-01-12</th>\n      <td>NaN</td>\n      <td>NaN</td>\n      <td>NaN</td>\n      <td>NaN</td>\n    </tr>\n    <tr>\n      <th>2000-01-13</th>\n      <td>NaN</td>\n      <td>NaN</td>\n      <td>NaN</td>\n      <td>NaN</td>\n    </tr>\n    <tr>\n      <th>2000-01-14</th>\n      <td>NaN</td>\n      <td>NaN</td>\n      <td>NaN</td>\n      <td>NaN</td>\n    </tr>\n    <tr>\n      <th>2000-01-15</th>\n      <td>NaN</td>\n      <td>NaN</td>\n      <td>NaN</td>\n      <td>NaN</td>\n    </tr>\n    <tr>\n      <th>2000-01-16</th>\n      <td>NaN</td>\n      <td>NaN</td>\n      <td>NaN</td>\n      <td>NaN</td>\n    </tr>\n    <tr>\n      <th>2000-01-17</th>\n      <td>NaN</td>\n      <td>NaN</td>\n      <td>NaN</td>\n      <td>NaN</td>\n    </tr>\n    <tr>\n      <th>2000-01-18</th>\n      <td>NaN</td>\n      <td>NaN</td>\n      <td>NaN</td>\n      <td>NaN</td>\n    </tr>\n    <tr>\n      <th>2000-01-19</th>\n      <td>NaN</td>\n      <td>NaN</td>\n      <td>NaN</td>\n      <td>NaN</td>\n    </tr>\n    <tr>\n      <th>2000-01-20</th>\n      <td>NaN</td>\n      <td>NaN</td>\n      <td>NaN</td>\n      <td>NaN</td>\n    </tr>\n    <tr>\n      <th>2000-01-21</th>\n      <td>NaN</td>\n      <td>NaN</td>\n      <td>NaN</td>\n      <td>NaN</td>\n    </tr>\n    <tr>\n      <th>2000-01-22</th>\n      <td>NaN</td>\n      <td>NaN</td>\n      <td>NaN</td>\n      <td>NaN</td>\n    </tr>\n    <tr>\n      <th>2000-01-23</th>\n      <td>NaN</td>\n      <td>NaN</td>\n      <td>NaN</td>\n      <td>NaN</td>\n    </tr>\n    <tr>\n      <th>2000-01-24</th>\n      <td>NaN</td>\n      <td>NaN</td>\n      <td>NaN</td>\n      <td>NaN</td>\n    </tr>\n    <tr>\n      <th>2000-01-25</th>\n      <td>NaN</td>\n      <td>NaN</td>\n      <td>NaN</td>\n      <td>NaN</td>\n    </tr>\n    <tr>\n      <th>2000-01-26</th>\n      <td>NaN</td>\n      <td>NaN</td>\n      <td>NaN</td>\n      <td>NaN</td>\n    </tr>\n    <tr>\n      <th>2000-01-27</th>\n      <td>NaN</td>\n      <td>NaN</td>\n      <td>NaN</td>\n      <td>NaN</td>\n    </tr>\n    <tr>\n      <th>2000-01-28</th>\n      <td>NaN</td>\n      <td>NaN</td>\n      <td>NaN</td>\n      <td>NaN</td>\n    </tr>\n    <tr>\n      <th>2000-01-29</th>\n      <td>NaN</td>\n      <td>NaN</td>\n      <td>NaN</td>\n      <td>NaN</td>\n    </tr>\n    <tr>\n      <th>2000-01-30</th>\n      <td>NaN</td>\n      <td>NaN</td>\n      <td>NaN</td>\n      <td>NaN</td>\n    </tr>\n    <tr>\n      <th>...</th>\n      <td>...</td>\n      <td>...</td>\n      <td>...</td>\n      <td>...</td>\n    </tr>\n    <tr>\n      <th>2002-09-03</th>\n      <td>NaN</td>\n      <td>NaN</td>\n      <td>NaN</td>\n      <td>NaN</td>\n    </tr>\n    <tr>\n      <th>2002-09-04</th>\n      <td>NaN</td>\n      <td>NaN</td>\n      <td>NaN</td>\n      <td>NaN</td>\n    </tr>\n    <tr>\n      <th>2002-09-05</th>\n      <td>NaN</td>\n      <td>NaN</td>\n      <td>NaN</td>\n      <td>NaN</td>\n    </tr>\n    <tr>\n      <th>2002-09-06</th>\n      <td>NaN</td>\n      <td>NaN</td>\n      <td>NaN</td>\n      <td>NaN</td>\n    </tr>\n    <tr>\n      <th>2002-09-07</th>\n      <td>NaN</td>\n      <td>NaN</td>\n      <td>NaN</td>\n      <td>NaN</td>\n    </tr>\n    <tr>\n      <th>2002-09-08</th>\n      <td>NaN</td>\n      <td>NaN</td>\n      <td>NaN</td>\n      <td>NaN</td>\n    </tr>\n    <tr>\n      <th>2002-09-09</th>\n      <td>NaN</td>\n      <td>NaN</td>\n      <td>NaN</td>\n      <td>NaN</td>\n    </tr>\n    <tr>\n      <th>2002-09-10</th>\n      <td>NaN</td>\n      <td>NaN</td>\n      <td>NaN</td>\n      <td>NaN</td>\n    </tr>\n    <tr>\n      <th>2002-09-11</th>\n      <td>NaN</td>\n      <td>NaN</td>\n      <td>NaN</td>\n      <td>NaN</td>\n    </tr>\n    <tr>\n      <th>2002-09-12</th>\n      <td>NaN</td>\n      <td>NaN</td>\n      <td>NaN</td>\n      <td>NaN</td>\n    </tr>\n    <tr>\n      <th>2002-09-13</th>\n      <td>NaN</td>\n      <td>NaN</td>\n      <td>NaN</td>\n      <td>NaN</td>\n    </tr>\n    <tr>\n      <th>2002-09-14</th>\n      <td>NaN</td>\n      <td>NaN</td>\n      <td>NaN</td>\n      <td>NaN</td>\n    </tr>\n    <tr>\n      <th>2002-09-15</th>\n      <td>NaN</td>\n      <td>NaN</td>\n      <td>NaN</td>\n      <td>NaN</td>\n    </tr>\n    <tr>\n      <th>2002-09-16</th>\n      <td>NaN</td>\n      <td>NaN</td>\n      <td>NaN</td>\n      <td>NaN</td>\n    </tr>\n    <tr>\n      <th>2002-09-17</th>\n      <td>NaN</td>\n      <td>NaN</td>\n      <td>NaN</td>\n      <td>NaN</td>\n    </tr>\n    <tr>\n      <th>2002-09-18</th>\n      <td>NaN</td>\n      <td>NaN</td>\n      <td>NaN</td>\n      <td>NaN</td>\n    </tr>\n    <tr>\n      <th>2002-09-19</th>\n      <td>NaN</td>\n      <td>NaN</td>\n      <td>NaN</td>\n      <td>NaN</td>\n    </tr>\n    <tr>\n      <th>2002-09-20</th>\n      <td>NaN</td>\n      <td>NaN</td>\n      <td>NaN</td>\n      <td>NaN</td>\n    </tr>\n    <tr>\n      <th>2002-09-21</th>\n      <td>NaN</td>\n      <td>NaN</td>\n      <td>NaN</td>\n      <td>NaN</td>\n    </tr>\n    <tr>\n      <th>2002-09-22</th>\n      <td>NaN</td>\n      <td>NaN</td>\n      <td>NaN</td>\n      <td>NaN</td>\n    </tr>\n    <tr>\n      <th>2002-09-23</th>\n      <td>NaN</td>\n      <td>NaN</td>\n      <td>NaN</td>\n      <td>NaN</td>\n    </tr>\n    <tr>\n      <th>2002-09-24</th>\n      <td>NaN</td>\n      <td>NaN</td>\n      <td>NaN</td>\n      <td>NaN</td>\n    </tr>\n    <tr>\n      <th>2002-09-25</th>\n      <td>NaN</td>\n      <td>NaN</td>\n      <td>NaN</td>\n      <td>NaN</td>\n    </tr>\n    <tr>\n      <th>2002-09-26</th>\n      <td>NaN</td>\n      <td>NaN</td>\n      <td>NaN</td>\n      <td>NaN</td>\n    </tr>\n    <tr>\n      <th>2013-01-01</th>\n      <td>NaN</td>\n      <td>NaN</td>\n      <td>NaN</td>\n      <td>NaN</td>\n    </tr>\n    <tr>\n      <th>2013-01-02</th>\n      <td>NaN</td>\n      <td>NaN</td>\n      <td>NaN</td>\n      <td>NaN</td>\n    </tr>\n    <tr>\n      <th>2013-01-03</th>\n      <td>NaN</td>\n      <td>NaN</td>\n      <td>NaN</td>\n      <td>NaN</td>\n    </tr>\n    <tr>\n      <th>2013-01-04</th>\n      <td>NaN</td>\n      <td>NaN</td>\n      <td>NaN</td>\n      <td>NaN</td>\n    </tr>\n    <tr>\n      <th>2013-01-05</th>\n      <td>NaN</td>\n      <td>NaN</td>\n      <td>NaN</td>\n      <td>NaN</td>\n    </tr>\n    <tr>\n      <th>2013-01-06</th>\n      <td>NaN</td>\n      <td>NaN</td>\n      <td>NaN</td>\n      <td>NaN</td>\n    </tr>\n  </tbody>\n</table>\n<p>1006 rows \u00d7 4 columns</p>\n</div>", 
                        "text/plain": "             A   B   C   D\n2000-01-01 NaN NaN NaN NaN\n2000-01-02 NaN NaN NaN NaN\n2000-01-03 NaN NaN NaN NaN\n2000-01-04 NaN NaN NaN NaN\n2000-01-05 NaN NaN NaN NaN\n2000-01-06 NaN NaN NaN NaN\n2000-01-07 NaN NaN NaN NaN\n2000-01-08 NaN NaN NaN NaN\n2000-01-09 NaN NaN NaN NaN\n2000-01-10 NaN NaN NaN NaN\n2000-01-11 NaN NaN NaN NaN\n2000-01-12 NaN NaN NaN NaN\n2000-01-13 NaN NaN NaN NaN\n2000-01-14 NaN NaN NaN NaN\n2000-01-15 NaN NaN NaN NaN\n2000-01-16 NaN NaN NaN NaN\n2000-01-17 NaN NaN NaN NaN\n2000-01-18 NaN NaN NaN NaN\n2000-01-19 NaN NaN NaN NaN\n2000-01-20 NaN NaN NaN NaN\n2000-01-21 NaN NaN NaN NaN\n2000-01-22 NaN NaN NaN NaN\n2000-01-23 NaN NaN NaN NaN\n2000-01-24 NaN NaN NaN NaN\n2000-01-25 NaN NaN NaN NaN\n2000-01-26 NaN NaN NaN NaN\n2000-01-27 NaN NaN NaN NaN\n2000-01-28 NaN NaN NaN NaN\n2000-01-29 NaN NaN NaN NaN\n2000-01-30 NaN NaN NaN NaN\n...         ..  ..  ..  ..\n2002-09-03 NaN NaN NaN NaN\n2002-09-04 NaN NaN NaN NaN\n2002-09-05 NaN NaN NaN NaN\n2002-09-06 NaN NaN NaN NaN\n2002-09-07 NaN NaN NaN NaN\n2002-09-08 NaN NaN NaN NaN\n2002-09-09 NaN NaN NaN NaN\n2002-09-10 NaN NaN NaN NaN\n2002-09-11 NaN NaN NaN NaN\n2002-09-12 NaN NaN NaN NaN\n2002-09-13 NaN NaN NaN NaN\n2002-09-14 NaN NaN NaN NaN\n2002-09-15 NaN NaN NaN NaN\n2002-09-16 NaN NaN NaN NaN\n2002-09-17 NaN NaN NaN NaN\n2002-09-18 NaN NaN NaN NaN\n2002-09-19 NaN NaN NaN NaN\n2002-09-20 NaN NaN NaN NaN\n2002-09-21 NaN NaN NaN NaN\n2002-09-22 NaN NaN NaN NaN\n2002-09-23 NaN NaN NaN NaN\n2002-09-24 NaN NaN NaN NaN\n2002-09-25 NaN NaN NaN NaN\n2002-09-26 NaN NaN NaN NaN\n2013-01-01 NaN NaN NaN NaN\n2013-01-02 NaN NaN NaN NaN\n2013-01-03 NaN NaN NaN NaN\n2013-01-04 NaN NaN NaN NaN\n2013-01-05 NaN NaN NaN NaN\n2013-01-06 NaN NaN NaN NaN\n\n[1006 rows x 4 columns]"
                    }, 
                    "metadata": {}, 
                    "execution_count": 54, 
                    "output_type": "execute_result"
                }
            ]
        }, 
        {
            "metadata": {}, 
            "source": "## Apply\nApplying functions to the data", 
            "cell_type": "markdown"
        }, 
        {
            "source": "df.apply(np.cumsum)", 
            "metadata": {
                "collapsed": false
            }, 
            "execution_count": 55, 
            "cell_type": "code", 
            "outputs": [
                {
                    "data": {
                        "text/html": "<div>\n<table border=\"1\" class=\"dataframe\">\n  <thead>\n    <tr style=\"text-align: right;\">\n      <th></th>\n      <th>A</th>\n      <th>B</th>\n      <th>C</th>\n      <th>D</th>\n    </tr>\n  </thead>\n  <tbody>\n    <tr>\n      <th>2000-01-01</th>\n      <td>-0.132008</td>\n      <td>-0.407705</td>\n      <td>-1.238131</td>\n      <td>0.942520</td>\n    </tr>\n    <tr>\n      <th>2000-01-02</th>\n      <td>-0.762082</td>\n      <td>-2.045680</td>\n      <td>-0.853951</td>\n      <td>3.408551</td>\n    </tr>\n    <tr>\n      <th>2000-01-03</th>\n      <td>-1.504711</td>\n      <td>-3.249943</td>\n      <td>0.666713</td>\n      <td>6.393698</td>\n    </tr>\n    <tr>\n      <th>2000-01-04</th>\n      <td>-1.277983</td>\n      <td>-5.923795</td>\n      <td>3.503208</td>\n      <td>8.306668</td>\n    </tr>\n    <tr>\n      <th>2000-01-05</th>\n      <td>-3.422616</td>\n      <td>-9.049800</td>\n      <td>6.275546</td>\n      <td>10.282622</td>\n    </tr>\n    <tr>\n      <th>2000-01-06</th>\n      <td>-4.680951</td>\n      <td>-10.681713</td>\n      <td>9.331942</td>\n      <td>11.570156</td>\n    </tr>\n    <tr>\n      <th>2000-01-07</th>\n      <td>-4.819256</td>\n      <td>-11.830747</td>\n      <td>12.258812</td>\n      <td>12.654313</td>\n    </tr>\n    <tr>\n      <th>2000-01-08</th>\n      <td>-4.922893</td>\n      <td>-13.948415</td>\n      <td>15.589756</td>\n      <td>12.884033</td>\n    </tr>\n    <tr>\n      <th>2000-01-09</th>\n      <td>-6.089004</td>\n      <td>-15.017398</td>\n      <td>19.794710</td>\n      <td>13.069786</td>\n    </tr>\n    <tr>\n      <th>2000-01-10</th>\n      <td>-5.061212</td>\n      <td>-17.401856</td>\n      <td>23.691178</td>\n      <td>14.462776</td>\n    </tr>\n    <tr>\n      <th>2000-01-11</th>\n      <td>-3.792574</td>\n      <td>-18.523971</td>\n      <td>27.201731</td>\n      <td>16.205817</td>\n    </tr>\n    <tr>\n      <th>2000-01-12</th>\n      <td>-2.038472</td>\n      <td>-20.837956</td>\n      <td>30.789363</td>\n      <td>18.831878</td>\n    </tr>\n    <tr>\n      <th>2000-01-13</th>\n      <td>-0.384223</td>\n      <td>-22.552072</td>\n      <td>35.370018</td>\n      <td>22.481911</td>\n    </tr>\n    <tr>\n      <th>2000-01-14</th>\n      <td>0.031913</td>\n      <td>-24.009144</td>\n      <td>39.741807</td>\n      <td>26.764195</td>\n    </tr>\n    <tr>\n      <th>2000-01-15</th>\n      <td>-0.407310</td>\n      <td>-26.622839</td>\n      <td>44.742140</td>\n      <td>31.066221</td>\n    </tr>\n    <tr>\n      <th>2000-01-16</th>\n      <td>-1.841832</td>\n      <td>-27.477584</td>\n      <td>50.620367</td>\n      <td>36.465909</td>\n    </tr>\n    <tr>\n      <th>2000-01-17</th>\n      <td>-4.941489</td>\n      <td>-30.332252</td>\n      <td>56.211397</td>\n      <td>42.494364</td>\n    </tr>\n    <tr>\n      <th>2000-01-18</th>\n      <td>-7.812810</td>\n      <td>-34.586006</td>\n      <td>61.409877</td>\n      <td>47.192811</td>\n    </tr>\n    <tr>\n      <th>2000-01-19</th>\n      <td>-11.803526</td>\n      <td>-38.101495</td>\n      <td>67.770812</td>\n      <td>51.063170</td>\n    </tr>\n    <tr>\n      <th>2000-01-20</th>\n      <td>-15.799015</td>\n      <td>-41.612585</td>\n      <td>74.078664</td>\n      <td>55.979748</td>\n    </tr>\n    <tr>\n      <th>2000-01-21</th>\n      <td>-20.154852</td>\n      <td>-45.823301</td>\n      <td>81.922133</td>\n      <td>63.059426</td>\n    </tr>\n    <tr>\n      <th>2000-01-22</th>\n      <td>-24.178038</td>\n      <td>-51.737195</td>\n      <td>90.841913</td>\n      <td>70.851021</td>\n    </tr>\n    <tr>\n      <th>2000-01-23</th>\n      <td>-29.226455</td>\n      <td>-57.744421</td>\n      <td>98.579516</td>\n      <td>79.136278</td>\n    </tr>\n    <tr>\n      <th>2000-01-24</th>\n      <td>-33.277694</td>\n      <td>-63.902407</td>\n      <td>108.129667</td>\n      <td>86.835713</td>\n    </tr>\n    <tr>\n      <th>2000-01-25</th>\n      <td>-37.948704</td>\n      <td>-70.238281</td>\n      <td>117.379371</td>\n      <td>95.653217</td>\n    </tr>\n    <tr>\n      <th>2000-01-26</th>\n      <td>-44.005798</td>\n      <td>-77.314651</td>\n      <td>126.790772</td>\n      <td>104.526651</td>\n    </tr>\n    <tr>\n      <th>2000-01-27</th>\n      <td>-49.944016</td>\n      <td>-85.790407</td>\n      <td>134.843283</td>\n      <td>113.714098</td>\n    </tr>\n    <tr>\n      <th>2000-01-28</th>\n      <td>-55.945648</td>\n      <td>-96.222592</td>\n      <td>141.931542</td>\n      <td>122.988054</td>\n    </tr>\n    <tr>\n      <th>2000-01-29</th>\n      <td>-60.808173</td>\n      <td>-106.803386</td>\n      <td>149.920613</td>\n      <td>134.085574</td>\n    </tr>\n    <tr>\n      <th>2000-01-30</th>\n      <td>-65.578369</td>\n      <td>-117.932095</td>\n      <td>156.440105</td>\n      <td>145.006345</td>\n    </tr>\n    <tr>\n      <th>...</th>\n      <td>...</td>\n      <td>...</td>\n      <td>...</td>\n      <td>...</td>\n    </tr>\n    <tr>\n      <th>2002-08-28</th>\n      <td>-9390.237239</td>\n      <td>-216.723190</td>\n      <td>23207.268161</td>\n      <td>36076.055453</td>\n    </tr>\n    <tr>\n      <th>2002-08-29</th>\n      <td>-9400.019891</td>\n      <td>-210.134495</td>\n      <td>23221.034219</td>\n      <td>36127.317334</td>\n    </tr>\n    <tr>\n      <th>2002-08-30</th>\n      <td>-9410.555929</td>\n      <td>-203.366730</td>\n      <td>23233.861733</td>\n      <td>36178.073924</td>\n    </tr>\n    <tr>\n      <th>2002-08-31</th>\n      <td>-9421.362886</td>\n      <td>-196.924966</td>\n      <td>23245.793818</td>\n      <td>36229.701685</td>\n    </tr>\n    <tr>\n      <th>2002-09-01</th>\n      <td>-9431.753339</td>\n      <td>-191.169202</td>\n      <td>23257.721200</td>\n      <td>36281.095305</td>\n    </tr>\n    <tr>\n      <th>2002-09-02</th>\n      <td>-9442.960678</td>\n      <td>-185.918654</td>\n      <td>23268.985181</td>\n      <td>36331.532173</td>\n    </tr>\n    <tr>\n      <th>2002-09-03</th>\n      <td>-9454.242770</td>\n      <td>-180.575195</td>\n      <td>23281.244304</td>\n      <td>36381.600791</td>\n    </tr>\n    <tr>\n      <th>2002-09-04</th>\n      <td>-9464.185925</td>\n      <td>-175.909713</td>\n      <td>23292.153084</td>\n      <td>36430.524137</td>\n    </tr>\n    <tr>\n      <th>2002-09-05</th>\n      <td>-9474.665569</td>\n      <td>-170.842097</td>\n      <td>23303.200259</td>\n      <td>36479.959732</td>\n    </tr>\n    <tr>\n      <th>2002-09-06</th>\n      <td>-9483.614922</td>\n      <td>-163.913313</td>\n      <td>23314.354461</td>\n      <td>36529.956608</td>\n    </tr>\n    <tr>\n      <th>2002-09-07</th>\n      <td>-9493.914652</td>\n      <td>-156.984591</td>\n      <td>23325.462524</td>\n      <td>36580.261474</td>\n    </tr>\n    <tr>\n      <th>2002-09-08</th>\n      <td>-9502.159296</td>\n      <td>-150.499326</td>\n      <td>23336.019305</td>\n      <td>36631.132458</td>\n    </tr>\n    <tr>\n      <th>2002-09-09</th>\n      <td>-9511.287139</td>\n      <td>-144.159080</td>\n      <td>23347.762646</td>\n      <td>36682.759099</td>\n    </tr>\n    <tr>\n      <th>2002-09-10</th>\n      <td>-9520.190512</td>\n      <td>-138.548161</td>\n      <td>23359.703476</td>\n      <td>36735.114532</td>\n    </tr>\n    <tr>\n      <th>2002-09-11</th>\n      <td>-9529.488871</td>\n      <td>-133.359712</td>\n      <td>23371.694713</td>\n      <td>36787.367112</td>\n    </tr>\n    <tr>\n      <th>2002-09-12</th>\n      <td>-9538.188480</td>\n      <td>-128.616341</td>\n      <td>23383.608500</td>\n      <td>36840.215227</td>\n    </tr>\n    <tr>\n      <th>2002-09-13</th>\n      <td>-9548.300068</td>\n      <td>-124.374420</td>\n      <td>23396.086336</td>\n      <td>36892.196087</td>\n    </tr>\n    <tr>\n      <th>2002-09-14</th>\n      <td>-9559.892816</td>\n      <td>-120.598667</td>\n      <td>23408.604366</td>\n      <td>36946.192917</td>\n    </tr>\n    <tr>\n      <th>2002-09-15</th>\n      <td>-9571.309198</td>\n      <td>-115.971139</td>\n      <td>23419.951762</td>\n      <td>36999.618773</td>\n    </tr>\n    <tr>\n      <th>2002-09-16</th>\n      <td>-9582.064081</td>\n      <td>-111.341852</td>\n      <td>23432.620431</td>\n      <td>37053.112141</td>\n    </tr>\n    <tr>\n      <th>2002-09-17</th>\n      <td>-9593.332311</td>\n      <td>-109.545240</td>\n      <td>23445.122385</td>\n      <td>37105.966212</td>\n    </tr>\n    <tr>\n      <th>2002-09-18</th>\n      <td>-9603.573877</td>\n      <td>-108.625316</td>\n      <td>23458.268338</td>\n      <td>37158.407909</td>\n    </tr>\n    <tr>\n      <th>2002-09-19</th>\n      <td>-9612.377215</td>\n      <td>-106.163791</td>\n      <td>23471.096411</td>\n      <td>37211.449737</td>\n    </tr>\n    <tr>\n      <th>2002-09-20</th>\n      <td>-9621.682493</td>\n      <td>-103.251924</td>\n      <td>23483.060058</td>\n      <td>37265.292004</td>\n    </tr>\n    <tr>\n      <th>2002-09-21</th>\n      <td>-9632.790599</td>\n      <td>-99.488445</td>\n      <td>23494.576505</td>\n      <td>37319.803190</td>\n    </tr>\n    <tr>\n      <th>2002-09-22</th>\n      <td>-9644.649481</td>\n      <td>-95.444620</td>\n      <td>23505.100858</td>\n      <td>37372.266586</td>\n    </tr>\n    <tr>\n      <th>2002-09-23</th>\n      <td>-9656.194560</td>\n      <td>-90.401625</td>\n      <td>23514.732732</td>\n      <td>37423.759885</td>\n    </tr>\n    <tr>\n      <th>2002-09-24</th>\n      <td>-9667.979473</td>\n      <td>-86.791125</td>\n      <td>23524.343652</td>\n      <td>37473.688282</td>\n    </tr>\n    <tr>\n      <th>2002-09-25</th>\n      <td>-9678.630200</td>\n      <td>-83.067052</td>\n      <td>23533.898476</td>\n      <td>37523.733873</td>\n    </tr>\n    <tr>\n      <th>2002-09-26</th>\n      <td>-9686.213769</td>\n      <td>-79.088370</td>\n      <td>23543.500491</td>\n      <td>37573.743016</td>\n    </tr>\n  </tbody>\n</table>\n<p>1000 rows \u00d7 4 columns</p>\n</div>", 
                        "text/plain": "                      A           B             C             D\n2000-01-01    -0.132008   -0.407705     -1.238131      0.942520\n2000-01-02    -0.762082   -2.045680     -0.853951      3.408551\n2000-01-03    -1.504711   -3.249943      0.666713      6.393698\n2000-01-04    -1.277983   -5.923795      3.503208      8.306668\n2000-01-05    -3.422616   -9.049800      6.275546     10.282622\n2000-01-06    -4.680951  -10.681713      9.331942     11.570156\n2000-01-07    -4.819256  -11.830747     12.258812     12.654313\n2000-01-08    -4.922893  -13.948415     15.589756     12.884033\n2000-01-09    -6.089004  -15.017398     19.794710     13.069786\n2000-01-10    -5.061212  -17.401856     23.691178     14.462776\n2000-01-11    -3.792574  -18.523971     27.201731     16.205817\n2000-01-12    -2.038472  -20.837956     30.789363     18.831878\n2000-01-13    -0.384223  -22.552072     35.370018     22.481911\n2000-01-14     0.031913  -24.009144     39.741807     26.764195\n2000-01-15    -0.407310  -26.622839     44.742140     31.066221\n2000-01-16    -1.841832  -27.477584     50.620367     36.465909\n2000-01-17    -4.941489  -30.332252     56.211397     42.494364\n2000-01-18    -7.812810  -34.586006     61.409877     47.192811\n2000-01-19   -11.803526  -38.101495     67.770812     51.063170\n2000-01-20   -15.799015  -41.612585     74.078664     55.979748\n2000-01-21   -20.154852  -45.823301     81.922133     63.059426\n2000-01-22   -24.178038  -51.737195     90.841913     70.851021\n2000-01-23   -29.226455  -57.744421     98.579516     79.136278\n2000-01-24   -33.277694  -63.902407    108.129667     86.835713\n2000-01-25   -37.948704  -70.238281    117.379371     95.653217\n2000-01-26   -44.005798  -77.314651    126.790772    104.526651\n2000-01-27   -49.944016  -85.790407    134.843283    113.714098\n2000-01-28   -55.945648  -96.222592    141.931542    122.988054\n2000-01-29   -60.808173 -106.803386    149.920613    134.085574\n2000-01-30   -65.578369 -117.932095    156.440105    145.006345\n...                 ...         ...           ...           ...\n2002-08-28 -9390.237239 -216.723190  23207.268161  36076.055453\n2002-08-29 -9400.019891 -210.134495  23221.034219  36127.317334\n2002-08-30 -9410.555929 -203.366730  23233.861733  36178.073924\n2002-08-31 -9421.362886 -196.924966  23245.793818  36229.701685\n2002-09-01 -9431.753339 -191.169202  23257.721200  36281.095305\n2002-09-02 -9442.960678 -185.918654  23268.985181  36331.532173\n2002-09-03 -9454.242770 -180.575195  23281.244304  36381.600791\n2002-09-04 -9464.185925 -175.909713  23292.153084  36430.524137\n2002-09-05 -9474.665569 -170.842097  23303.200259  36479.959732\n2002-09-06 -9483.614922 -163.913313  23314.354461  36529.956608\n2002-09-07 -9493.914652 -156.984591  23325.462524  36580.261474\n2002-09-08 -9502.159296 -150.499326  23336.019305  36631.132458\n2002-09-09 -9511.287139 -144.159080  23347.762646  36682.759099\n2002-09-10 -9520.190512 -138.548161  23359.703476  36735.114532\n2002-09-11 -9529.488871 -133.359712  23371.694713  36787.367112\n2002-09-12 -9538.188480 -128.616341  23383.608500  36840.215227\n2002-09-13 -9548.300068 -124.374420  23396.086336  36892.196087\n2002-09-14 -9559.892816 -120.598667  23408.604366  36946.192917\n2002-09-15 -9571.309198 -115.971139  23419.951762  36999.618773\n2002-09-16 -9582.064081 -111.341852  23432.620431  37053.112141\n2002-09-17 -9593.332311 -109.545240  23445.122385  37105.966212\n2002-09-18 -9603.573877 -108.625316  23458.268338  37158.407909\n2002-09-19 -9612.377215 -106.163791  23471.096411  37211.449737\n2002-09-20 -9621.682493 -103.251924  23483.060058  37265.292004\n2002-09-21 -9632.790599  -99.488445  23494.576505  37319.803190\n2002-09-22 -9644.649481  -95.444620  23505.100858  37372.266586\n2002-09-23 -9656.194560  -90.401625  23514.732732  37423.759885\n2002-09-24 -9667.979473  -86.791125  23524.343652  37473.688282\n2002-09-25 -9678.630200  -83.067052  23533.898476  37523.733873\n2002-09-26 -9686.213769  -79.088370  23543.500491  37573.743016\n\n[1000 rows x 4 columns]"
                    }, 
                    "metadata": {}, 
                    "execution_count": 55, 
                    "output_type": "execute_result"
                }
            ]
        }, 
        {
            "source": "df.apply(lambda x: x.max() - x.min())", 
            "metadata": {
                "collapsed": false
            }, 
            "execution_count": 56, 
            "cell_type": "code", 
            "outputs": [
                {
                    "data": {
                        "text/plain": "A    22.615714\nB    36.581666\nC    44.895857\nD    58.766022\ndtype: float64"
                    }, 
                    "metadata": {}, 
                    "execution_count": 56, 
                    "output_type": "execute_result"
                }
            ]
        }, 
        {
            "metadata": {}, 
            "source": "## Histogramming", 
            "cell_type": "markdown"
        }, 
        {
            "source": "s = pd.Series(np.random.randint(0,7,size=10))\ns", 
            "metadata": {
                "scrolled": true, 
                "collapsed": false
            }, 
            "execution_count": 57, 
            "cell_type": "code", 
            "outputs": [
                {
                    "data": {
                        "text/plain": "0    4\n1    5\n2    6\n3    0\n4    2\n5    2\n6    6\n7    0\n8    5\n9    0\ndtype: int64"
                    }, 
                    "metadata": {}, 
                    "execution_count": 57, 
                    "output_type": "execute_result"
                }
            ]
        }, 
        {
            "source": "s.value_counts()", 
            "metadata": {
                "collapsed": false
            }, 
            "execution_count": 58, 
            "cell_type": "code", 
            "outputs": [
                {
                    "data": {
                        "text/plain": "0    3\n6    2\n5    2\n2    2\n4    1\ndtype: int64"
                    }, 
                    "metadata": {}, 
                    "execution_count": 58, 
                    "output_type": "execute_result"
                }
            ]
        }, 
        {
            "metadata": {}, 
            "source": "# String Methods\nSeries is equipped with a set of string processing methods in the str attribute that make it easy to operate on each element of the array, as in the code snippet below. Note that pattern-matching in str generally uses regular expressions by default (and in some cases always uses them).", 
            "cell_type": "markdown"
        }, 
        {
            "source": "s = pd.Series(['A', 'B', 'C', 'Aaba', 'Baca', np.nan, 'CABA', 'dog', 'cat'])\n\ns.str.lower()", 
            "metadata": {
                "collapsed": false
            }, 
            "execution_count": 59, 
            "cell_type": "code", 
            "outputs": [
                {
                    "data": {
                        "text/plain": "0       a\n1       b\n2       c\n3    aaba\n4    baca\n5     NaN\n6    caba\n7     dog\n8     cat\ndtype: object"
                    }, 
                    "metadata": {}, 
                    "execution_count": 59, 
                    "output_type": "execute_result"
                }
            ]
        }, 
        {
            "metadata": {}, 
            "source": "# Merge", 
            "cell_type": "markdown"
        }, 
        {
            "metadata": {}, 
            "source": "## Concat\n\nPandas provides various facilities for easily combining together Series, DataFrame, and Panel objects with various kinds of set logic for the indexes and relational algebra functionality in the case of join / merge-type operations.", 
            "cell_type": "markdown"
        }, 
        {
            "source": "df = pd.DataFrame(np.random.randn(10, 4))\ndf", 
            "metadata": {
                "collapsed": false
            }, 
            "execution_count": 60, 
            "cell_type": "code", 
            "outputs": [
                {
                    "data": {
                        "text/html": "<div>\n<table border=\"1\" class=\"dataframe\">\n  <thead>\n    <tr style=\"text-align: right;\">\n      <th></th>\n      <th>0</th>\n      <th>1</th>\n      <th>2</th>\n      <th>3</th>\n    </tr>\n  </thead>\n  <tbody>\n    <tr>\n      <th>0</th>\n      <td>0.554612</td>\n      <td>1.123634</td>\n      <td>0.196193</td>\n      <td>-1.232988</td>\n    </tr>\n    <tr>\n      <th>1</th>\n      <td>-0.381554</td>\n      <td>0.014614</td>\n      <td>0.987040</td>\n      <td>0.675186</td>\n    </tr>\n    <tr>\n      <th>2</th>\n      <td>-0.731394</td>\n      <td>-0.954823</td>\n      <td>0.329985</td>\n      <td>0.639634</td>\n    </tr>\n    <tr>\n      <th>3</th>\n      <td>-0.384592</td>\n      <td>0.864996</td>\n      <td>0.146612</td>\n      <td>-1.487689</td>\n    </tr>\n    <tr>\n      <th>4</th>\n      <td>-1.176875</td>\n      <td>0.799562</td>\n      <td>0.684899</td>\n      <td>-0.117366</td>\n    </tr>\n    <tr>\n      <th>5</th>\n      <td>-0.765181</td>\n      <td>0.154681</td>\n      <td>0.705292</td>\n      <td>1.901312</td>\n    </tr>\n    <tr>\n      <th>6</th>\n      <td>-1.514270</td>\n      <td>0.706738</td>\n      <td>1.487847</td>\n      <td>-1.286519</td>\n    </tr>\n    <tr>\n      <th>7</th>\n      <td>-0.679833</td>\n      <td>-0.658902</td>\n      <td>-0.603593</td>\n      <td>0.325996</td>\n    </tr>\n    <tr>\n      <th>8</th>\n      <td>-1.114124</td>\n      <td>-0.549814</td>\n      <td>-0.934986</td>\n      <td>0.403836</td>\n    </tr>\n    <tr>\n      <th>9</th>\n      <td>0.217628</td>\n      <td>-0.115368</td>\n      <td>0.004008</td>\n      <td>1.211544</td>\n    </tr>\n  </tbody>\n</table>\n</div>", 
                        "text/plain": "          0         1         2         3\n0  0.554612  1.123634  0.196193 -1.232988\n1 -0.381554  0.014614  0.987040  0.675186\n2 -0.731394 -0.954823  0.329985  0.639634\n3 -0.384592  0.864996  0.146612 -1.487689\n4 -1.176875  0.799562  0.684899 -0.117366\n5 -0.765181  0.154681  0.705292  1.901312\n6 -1.514270  0.706738  1.487847 -1.286519\n7 -0.679833 -0.658902 -0.603593  0.325996\n8 -1.114124 -0.549814 -0.934986  0.403836\n9  0.217628 -0.115368  0.004008  1.211544"
                    }, 
                    "metadata": {}, 
                    "execution_count": 60, 
                    "output_type": "execute_result"
                }
            ]
        }, 
        {
            "source": "# break it into pieces\npieces = [df[:3], df[3:7], df[7:]]", 
            "metadata": {
                "collapsed": false
            }, 
            "execution_count": 61, 
            "cell_type": "code", 
            "outputs": []
        }, 
        {
            "source": "pieces", 
            "metadata": {
                "collapsed": false
            }, 
            "execution_count": 65, 
            "cell_type": "code", 
            "outputs": [
                {
                    "data": {
                        "text/plain": "[          0         1         2         3\n 0  0.554612  1.123634  0.196193 -1.232988\n 1 -0.381554  0.014614  0.987040  0.675186\n 2 -0.731394 -0.954823  0.329985  0.639634,\n           0         1         2         3\n 3 -0.384592  0.864996  0.146612 -1.487689\n 4 -1.176875  0.799562  0.684899 -0.117366\n 5 -0.765181  0.154681  0.705292  1.901312\n 6 -1.514270  0.706738  1.487847 -1.286519,\n           0         1         2         3\n 7 -0.679833 -0.658902 -0.603593  0.325996\n 8 -1.114124 -0.549814 -0.934986  0.403836\n 9  0.217628 -0.115368  0.004008  1.211544]"
                    }, 
                    "metadata": {}, 
                    "execution_count": 65, 
                    "output_type": "execute_result"
                }
            ]
        }, 
        {
            "source": "pd.concat(pieces)", 
            "metadata": {
                "collapsed": false
            }, 
            "execution_count": 62, 
            "cell_type": "code", 
            "outputs": [
                {
                    "data": {
                        "text/html": "<div>\n<table border=\"1\" class=\"dataframe\">\n  <thead>\n    <tr style=\"text-align: right;\">\n      <th></th>\n      <th>0</th>\n      <th>1</th>\n      <th>2</th>\n      <th>3</th>\n    </tr>\n  </thead>\n  <tbody>\n    <tr>\n      <th>0</th>\n      <td>0.554612</td>\n      <td>1.123634</td>\n      <td>0.196193</td>\n      <td>-1.232988</td>\n    </tr>\n    <tr>\n      <th>1</th>\n      <td>-0.381554</td>\n      <td>0.014614</td>\n      <td>0.987040</td>\n      <td>0.675186</td>\n    </tr>\n    <tr>\n      <th>2</th>\n      <td>-0.731394</td>\n      <td>-0.954823</td>\n      <td>0.329985</td>\n      <td>0.639634</td>\n    </tr>\n    <tr>\n      <th>3</th>\n      <td>-0.384592</td>\n      <td>0.864996</td>\n      <td>0.146612</td>\n      <td>-1.487689</td>\n    </tr>\n    <tr>\n      <th>4</th>\n      <td>-1.176875</td>\n      <td>0.799562</td>\n      <td>0.684899</td>\n      <td>-0.117366</td>\n    </tr>\n    <tr>\n      <th>5</th>\n      <td>-0.765181</td>\n      <td>0.154681</td>\n      <td>0.705292</td>\n      <td>1.901312</td>\n    </tr>\n    <tr>\n      <th>6</th>\n      <td>-1.514270</td>\n      <td>0.706738</td>\n      <td>1.487847</td>\n      <td>-1.286519</td>\n    </tr>\n    <tr>\n      <th>7</th>\n      <td>-0.679833</td>\n      <td>-0.658902</td>\n      <td>-0.603593</td>\n      <td>0.325996</td>\n    </tr>\n    <tr>\n      <th>8</th>\n      <td>-1.114124</td>\n      <td>-0.549814</td>\n      <td>-0.934986</td>\n      <td>0.403836</td>\n    </tr>\n    <tr>\n      <th>9</th>\n      <td>0.217628</td>\n      <td>-0.115368</td>\n      <td>0.004008</td>\n      <td>1.211544</td>\n    </tr>\n  </tbody>\n</table>\n</div>", 
                        "text/plain": "          0         1         2         3\n0  0.554612  1.123634  0.196193 -1.232988\n1 -0.381554  0.014614  0.987040  0.675186\n2 -0.731394 -0.954823  0.329985  0.639634\n3 -0.384592  0.864996  0.146612 -1.487689\n4 -1.176875  0.799562  0.684899 -0.117366\n5 -0.765181  0.154681  0.705292  1.901312\n6 -1.514270  0.706738  1.487847 -1.286519\n7 -0.679833 -0.658902 -0.603593  0.325996\n8 -1.114124 -0.549814 -0.934986  0.403836\n9  0.217628 -0.115368  0.004008  1.211544"
                    }, 
                    "metadata": {}, 
                    "execution_count": 62, 
                    "output_type": "execute_result"
                }
            ]
        }, 
        {
            "metadata": {}, 
            "source": "## Join\nSQL style merges.", 
            "cell_type": "markdown"
        }, 
        {
            "source": "left = pd.DataFrame({'key': ['foo', 'foo'], 'lval': [1, 2]})", 
            "metadata": {
                "collapsed": false
            }, 
            "execution_count": 25, 
            "cell_type": "code", 
            "outputs": []
        }, 
        {
            "source": "right = pd.DataFrame({'key': ['foo', 'foo'], 'rval': [4, 5]})", 
            "metadata": {
                "collapsed": false
            }, 
            "execution_count": 26, 
            "cell_type": "code", 
            "outputs": []
        }, 
        {
            "source": "left", 
            "metadata": {
                "collapsed": false
            }, 
            "execution_count": 27, 
            "cell_type": "code", 
            "outputs": [
                {
                    "data": {
                        "text/html": "<div>\n<table border=\"1\" class=\"dataframe\">\n  <thead>\n    <tr style=\"text-align: right;\">\n      <th></th>\n      <th>key</th>\n      <th>lval</th>\n    </tr>\n  </thead>\n  <tbody>\n    <tr>\n      <th>0</th>\n      <td>foo</td>\n      <td>1</td>\n    </tr>\n    <tr>\n      <th>1</th>\n      <td>foo</td>\n      <td>2</td>\n    </tr>\n  </tbody>\n</table>\n</div>", 
                        "text/plain": "   key  lval\n0  foo     1\n1  foo     2"
                    }, 
                    "metadata": {}, 
                    "execution_count": 27, 
                    "output_type": "execute_result"
                }
            ]
        }, 
        {
            "source": "right", 
            "metadata": {
                "collapsed": false
            }, 
            "execution_count": 28, 
            "cell_type": "code", 
            "outputs": [
                {
                    "data": {
                        "text/html": "<div>\n<table border=\"1\" class=\"dataframe\">\n  <thead>\n    <tr style=\"text-align: right;\">\n      <th></th>\n      <th>key</th>\n      <th>rval</th>\n    </tr>\n  </thead>\n  <tbody>\n    <tr>\n      <th>0</th>\n      <td>foo</td>\n      <td>4</td>\n    </tr>\n    <tr>\n      <th>1</th>\n      <td>foo</td>\n      <td>5</td>\n    </tr>\n  </tbody>\n</table>\n</div>", 
                        "text/plain": "   key  rval\n0  foo     4\n1  foo     5"
                    }, 
                    "metadata": {}, 
                    "execution_count": 28, 
                    "output_type": "execute_result"
                }
            ]
        }, 
        {
            "source": "pd.merge(left, right, on='key')", 
            "metadata": {
                "collapsed": false
            }, 
            "execution_count": 29, 
            "cell_type": "code", 
            "outputs": [
                {
                    "data": {
                        "text/html": "<div>\n<table border=\"1\" class=\"dataframe\">\n  <thead>\n    <tr style=\"text-align: right;\">\n      <th></th>\n      <th>key</th>\n      <th>lval</th>\n      <th>rval</th>\n    </tr>\n  </thead>\n  <tbody>\n    <tr>\n      <th>0</th>\n      <td>foo</td>\n      <td>1</td>\n      <td>4</td>\n    </tr>\n    <tr>\n      <th>1</th>\n      <td>foo</td>\n      <td>1</td>\n      <td>5</td>\n    </tr>\n    <tr>\n      <th>2</th>\n      <td>foo</td>\n      <td>2</td>\n      <td>4</td>\n    </tr>\n    <tr>\n      <th>3</th>\n      <td>foo</td>\n      <td>2</td>\n      <td>5</td>\n    </tr>\n  </tbody>\n</table>\n</div>", 
                        "text/plain": "   key  lval  rval\n0  foo     1     4\n1  foo     1     5\n2  foo     2     4\n3  foo     2     5"
                    }, 
                    "metadata": {}, 
                    "execution_count": 29, 
                    "output_type": "execute_result"
                }
            ]
        }, 
        {
            "source": "## Append\nAppend rows to a dataframe", 
            "metadata": {
                "collapsed": true
            }, 
            "execution_count": null, 
            "cell_type": "code", 
            "outputs": []
        }, 
        {
            "source": "df = pd.DataFrame(np.random.randn(8, 4), columns=['A','B','C','D'])\ndf", 
            "metadata": {
                "collapsed": false
            }, 
            "execution_count": 30, 
            "cell_type": "code", 
            "outputs": [
                {
                    "data": {
                        "text/html": "<div>\n<table border=\"1\" class=\"dataframe\">\n  <thead>\n    <tr style=\"text-align: right;\">\n      <th></th>\n      <th>A</th>\n      <th>B</th>\n      <th>C</th>\n      <th>D</th>\n    </tr>\n  </thead>\n  <tbody>\n    <tr>\n      <th>0</th>\n      <td>1.295962</td>\n      <td>-1.599057</td>\n      <td>-0.855145</td>\n      <td>-0.196940</td>\n    </tr>\n    <tr>\n      <th>1</th>\n      <td>0.116632</td>\n      <td>0.584646</td>\n      <td>0.442535</td>\n      <td>-0.398017</td>\n    </tr>\n    <tr>\n      <th>2</th>\n      <td>-0.460242</td>\n      <td>-2.054051</td>\n      <td>-0.715205</td>\n      <td>-0.081138</td>\n    </tr>\n    <tr>\n      <th>3</th>\n      <td>0.050380</td>\n      <td>-2.745408</td>\n      <td>-0.381378</td>\n      <td>0.856709</td>\n    </tr>\n    <tr>\n      <th>4</th>\n      <td>0.810850</td>\n      <td>0.598160</td>\n      <td>-0.283845</td>\n      <td>0.311218</td>\n    </tr>\n    <tr>\n      <th>5</th>\n      <td>-0.331633</td>\n      <td>-0.272198</td>\n      <td>-1.134590</td>\n      <td>0.642826</td>\n    </tr>\n    <tr>\n      <th>6</th>\n      <td>-0.105570</td>\n      <td>0.035294</td>\n      <td>0.875217</td>\n      <td>0.567215</td>\n    </tr>\n    <tr>\n      <th>7</th>\n      <td>1.712555</td>\n      <td>-0.947844</td>\n      <td>-1.379975</td>\n      <td>-0.089358</td>\n    </tr>\n  </tbody>\n</table>\n</div>", 
                        "text/plain": "          A         B         C         D\n0  1.295962 -1.599057 -0.855145 -0.196940\n1  0.116632  0.584646  0.442535 -0.398017\n2 -0.460242 -2.054051 -0.715205 -0.081138\n3  0.050380 -2.745408 -0.381378  0.856709\n4  0.810850  0.598160 -0.283845  0.311218\n5 -0.331633 -0.272198 -1.134590  0.642826\n6 -0.105570  0.035294  0.875217  0.567215\n7  1.712555 -0.947844 -1.379975 -0.089358"
                    }, 
                    "metadata": {}, 
                    "execution_count": 30, 
                    "output_type": "execute_result"
                }
            ]
        }, 
        {
            "source": "s = df.iloc[3]", 
            "metadata": {
                "collapsed": true
            }, 
            "execution_count": null, 
            "cell_type": "code", 
            "outputs": []
        }, 
        {
            "source": "df.append(s, ignore_index=True)", 
            "metadata": {
                "scrolled": true, 
                "collapsed": false
            }, 
            "execution_count": 31, 
            "cell_type": "code", 
            "outputs": [
                {
                    "data": {
                        "text/html": "<div>\n<table border=\"1\" class=\"dataframe\">\n  <thead>\n    <tr style=\"text-align: right;\">\n      <th></th>\n      <th>A</th>\n      <th>B</th>\n      <th>C</th>\n      <th>D</th>\n      <th>0</th>\n      <th>1</th>\n      <th>2</th>\n      <th>3</th>\n      <th>4</th>\n      <th>5</th>\n      <th>6</th>\n      <th>7</th>\n      <th>8</th>\n    </tr>\n  </thead>\n  <tbody>\n    <tr>\n      <th>0</th>\n      <td>1.295962</td>\n      <td>-1.599057</td>\n      <td>-0.855145</td>\n      <td>-0.196940</td>\n      <td>NaN</td>\n      <td>NaN</td>\n      <td>NaN</td>\n      <td>NaN</td>\n      <td>NaN</td>\n      <td>NaN</td>\n      <td>NaN</td>\n      <td>NaN</td>\n      <td>NaN</td>\n    </tr>\n    <tr>\n      <th>1</th>\n      <td>0.116632</td>\n      <td>0.584646</td>\n      <td>0.442535</td>\n      <td>-0.398017</td>\n      <td>NaN</td>\n      <td>NaN</td>\n      <td>NaN</td>\n      <td>NaN</td>\n      <td>NaN</td>\n      <td>NaN</td>\n      <td>NaN</td>\n      <td>NaN</td>\n      <td>NaN</td>\n    </tr>\n    <tr>\n      <th>2</th>\n      <td>-0.460242</td>\n      <td>-2.054051</td>\n      <td>-0.715205</td>\n      <td>-0.081138</td>\n      <td>NaN</td>\n      <td>NaN</td>\n      <td>NaN</td>\n      <td>NaN</td>\n      <td>NaN</td>\n      <td>NaN</td>\n      <td>NaN</td>\n      <td>NaN</td>\n      <td>NaN</td>\n    </tr>\n    <tr>\n      <th>3</th>\n      <td>0.050380</td>\n      <td>-2.745408</td>\n      <td>-0.381378</td>\n      <td>0.856709</td>\n      <td>NaN</td>\n      <td>NaN</td>\n      <td>NaN</td>\n      <td>NaN</td>\n      <td>NaN</td>\n      <td>NaN</td>\n      <td>NaN</td>\n      <td>NaN</td>\n      <td>NaN</td>\n    </tr>\n    <tr>\n      <th>4</th>\n      <td>0.810850</td>\n      <td>0.598160</td>\n      <td>-0.283845</td>\n      <td>0.311218</td>\n      <td>NaN</td>\n      <td>NaN</td>\n      <td>NaN</td>\n      <td>NaN</td>\n      <td>NaN</td>\n      <td>NaN</td>\n      <td>NaN</td>\n      <td>NaN</td>\n      <td>NaN</td>\n    </tr>\n    <tr>\n      <th>5</th>\n      <td>-0.331633</td>\n      <td>-0.272198</td>\n      <td>-1.134590</td>\n      <td>0.642826</td>\n      <td>NaN</td>\n      <td>NaN</td>\n      <td>NaN</td>\n      <td>NaN</td>\n      <td>NaN</td>\n      <td>NaN</td>\n      <td>NaN</td>\n      <td>NaN</td>\n      <td>NaN</td>\n    </tr>\n    <tr>\n      <th>6</th>\n      <td>-0.105570</td>\n      <td>0.035294</td>\n      <td>0.875217</td>\n      <td>0.567215</td>\n      <td>NaN</td>\n      <td>NaN</td>\n      <td>NaN</td>\n      <td>NaN</td>\n      <td>NaN</td>\n      <td>NaN</td>\n      <td>NaN</td>\n      <td>NaN</td>\n      <td>NaN</td>\n    </tr>\n    <tr>\n      <th>7</th>\n      <td>1.712555</td>\n      <td>-0.947844</td>\n      <td>-1.379975</td>\n      <td>-0.089358</td>\n      <td>NaN</td>\n      <td>NaN</td>\n      <td>NaN</td>\n      <td>NaN</td>\n      <td>NaN</td>\n      <td>NaN</td>\n      <td>NaN</td>\n      <td>NaN</td>\n      <td>NaN</td>\n    </tr>\n    <tr>\n      <th>8</th>\n      <td>NaN</td>\n      <td>NaN</td>\n      <td>NaN</td>\n      <td>NaN</td>\n      <td>A</td>\n      <td>B</td>\n      <td>C</td>\n      <td>Aaba</td>\n      <td>Baca</td>\n      <td>NaN</td>\n      <td>CABA</td>\n      <td>dog</td>\n      <td>cat</td>\n    </tr>\n  </tbody>\n</table>\n</div>", 
                        "text/plain": "          A         B         C         D    0    1    2     3     4   5  \\\n0  1.295962 -1.599057 -0.855145 -0.196940  NaN  NaN  NaN   NaN   NaN NaN   \n1  0.116632  0.584646  0.442535 -0.398017  NaN  NaN  NaN   NaN   NaN NaN   \n2 -0.460242 -2.054051 -0.715205 -0.081138  NaN  NaN  NaN   NaN   NaN NaN   \n3  0.050380 -2.745408 -0.381378  0.856709  NaN  NaN  NaN   NaN   NaN NaN   \n4  0.810850  0.598160 -0.283845  0.311218  NaN  NaN  NaN   NaN   NaN NaN   \n5 -0.331633 -0.272198 -1.134590  0.642826  NaN  NaN  NaN   NaN   NaN NaN   \n6 -0.105570  0.035294  0.875217  0.567215  NaN  NaN  NaN   NaN   NaN NaN   \n7  1.712555 -0.947844 -1.379975 -0.089358  NaN  NaN  NaN   NaN   NaN NaN   \n8       NaN       NaN       NaN       NaN    A    B    C  Aaba  Baca NaN   \n\n      6    7    8  \n0   NaN  NaN  NaN  \n1   NaN  NaN  NaN  \n2   NaN  NaN  NaN  \n3   NaN  NaN  NaN  \n4   NaN  NaN  NaN  \n5   NaN  NaN  NaN  \n6   NaN  NaN  NaN  \n7   NaN  NaN  NaN  \n8  CABA  dog  cat  "
                    }, 
                    "metadata": {}, 
                    "execution_count": 31, 
                    "output_type": "execute_result"
                }
            ]
        }, 
        {
            "metadata": {}, 
            "source": "## Grouping\nBy \u201cgroup by\u201d we are referring to a process involving one or more of the following steps\n\nSplitting the data into groups based on some criteria\nApplying a function to each group independently\nCombining the results into a data structure", 
            "cell_type": "markdown"
        }, 
        {
            "source": " df = pd.DataFrame({'A' : ['foo', 'bar', 'foo', 'bar',\n   ....:                          'foo', 'bar', 'foo', 'foo'],\n   ....:                    'B' : ['one', 'one', 'two', 'three',\n   ....:                          'two', 'two', 'one', 'three'],\n   ....:                    'C' : np.random.randn(8),\n   ....:                    'D' : np.random.randn(8)})\n    \ndf", 
            "metadata": {
                "scrolled": true, 
                "collapsed": false
            }, 
            "execution_count": 33, 
            "cell_type": "code", 
            "outputs": [
                {
                    "data": {
                        "text/html": "<div>\n<table border=\"1\" class=\"dataframe\">\n  <thead>\n    <tr style=\"text-align: right;\">\n      <th></th>\n      <th>A</th>\n      <th>B</th>\n      <th>C</th>\n      <th>D</th>\n    </tr>\n  </thead>\n  <tbody>\n    <tr>\n      <th>0</th>\n      <td>foo</td>\n      <td>one</td>\n      <td>0.507453</td>\n      <td>0.556902</td>\n    </tr>\n    <tr>\n      <th>1</th>\n      <td>bar</td>\n      <td>one</td>\n      <td>0.552151</td>\n      <td>0.009224</td>\n    </tr>\n    <tr>\n      <th>2</th>\n      <td>foo</td>\n      <td>two</td>\n      <td>0.528678</td>\n      <td>-1.659876</td>\n    </tr>\n    <tr>\n      <th>3</th>\n      <td>bar</td>\n      <td>three</td>\n      <td>0.122982</td>\n      <td>1.338676</td>\n    </tr>\n    <tr>\n      <th>4</th>\n      <td>foo</td>\n      <td>two</td>\n      <td>-0.378756</td>\n      <td>1.309376</td>\n    </tr>\n    <tr>\n      <th>5</th>\n      <td>bar</td>\n      <td>two</td>\n      <td>1.047982</td>\n      <td>0.215546</td>\n    </tr>\n    <tr>\n      <th>6</th>\n      <td>foo</td>\n      <td>one</td>\n      <td>0.088784</td>\n      <td>0.387090</td>\n    </tr>\n    <tr>\n      <th>7</th>\n      <td>foo</td>\n      <td>three</td>\n      <td>1.041736</td>\n      <td>-1.265618</td>\n    </tr>\n  </tbody>\n</table>\n</div>", 
                        "text/plain": "     A      B         C         D\n0  foo    one  0.507453  0.556902\n1  bar    one  0.552151  0.009224\n2  foo    two  0.528678 -1.659876\n3  bar  three  0.122982  1.338676\n4  foo    two -0.378756  1.309376\n5  bar    two  1.047982  0.215546\n6  foo    one  0.088784  0.387090\n7  foo  three  1.041736 -1.265618"
                    }, 
                    "metadata": {}, 
                    "execution_count": 33, 
                    "output_type": "execute_result"
                }
            ]
        }, 
        {
            "source": "# Grouping and then applying a function sum to the resulting groups\ndf.groupby('A').sum()", 
            "metadata": {
                "scrolled": true, 
                "collapsed": false
            }, 
            "execution_count": 34, 
            "cell_type": "code", 
            "outputs": [
                {
                    "data": {
                        "text/html": "<div>\n<table border=\"1\" class=\"dataframe\">\n  <thead>\n    <tr style=\"text-align: right;\">\n      <th></th>\n      <th>C</th>\n      <th>D</th>\n    </tr>\n    <tr>\n      <th>A</th>\n      <th></th>\n      <th></th>\n    </tr>\n  </thead>\n  <tbody>\n    <tr>\n      <th>bar</th>\n      <td>1.723115</td>\n      <td>1.563447</td>\n    </tr>\n    <tr>\n      <th>foo</th>\n      <td>1.787896</td>\n      <td>-0.672126</td>\n    </tr>\n  </tbody>\n</table>\n</div>", 
                        "text/plain": "            C         D\nA                      \nbar  1.723115  1.563447\nfoo  1.787896 -0.672126"
                    }, 
                    "metadata": {}, 
                    "execution_count": 34, 
                    "output_type": "execute_result"
                }
            ]
        }, 
        {
            "source": "#Grouping by multiple columns forms a hierarchical index, which we then apply the function.\ndf.groupby(['A','B']).sum()", 
            "metadata": {
                "scrolled": true, 
                "collapsed": false
            }, 
            "execution_count": 35, 
            "cell_type": "code", 
            "outputs": [
                {
                    "data": {
                        "text/html": "<div>\n<table border=\"1\" class=\"dataframe\">\n  <thead>\n    <tr style=\"text-align: right;\">\n      <th></th>\n      <th></th>\n      <th>C</th>\n      <th>D</th>\n    </tr>\n    <tr>\n      <th>A</th>\n      <th>B</th>\n      <th></th>\n      <th></th>\n    </tr>\n  </thead>\n  <tbody>\n    <tr>\n      <th rowspan=\"3\" valign=\"top\">bar</th>\n      <th>one</th>\n      <td>0.552151</td>\n      <td>0.009224</td>\n    </tr>\n    <tr>\n      <th>three</th>\n      <td>0.122982</td>\n      <td>1.338676</td>\n    </tr>\n    <tr>\n      <th>two</th>\n      <td>1.047982</td>\n      <td>0.215546</td>\n    </tr>\n    <tr>\n      <th rowspan=\"3\" valign=\"top\">foo</th>\n      <th>one</th>\n      <td>0.596237</td>\n      <td>0.943993</td>\n    </tr>\n    <tr>\n      <th>three</th>\n      <td>1.041736</td>\n      <td>-1.265618</td>\n    </tr>\n    <tr>\n      <th>two</th>\n      <td>0.149922</td>\n      <td>-0.350500</td>\n    </tr>\n  </tbody>\n</table>\n</div>", 
                        "text/plain": "                  C         D\nA   B                        \nbar one    0.552151  0.009224\n    three  0.122982  1.338676\n    two    1.047982  0.215546\nfoo one    0.596237  0.943993\n    three  1.041736 -1.265618\n    two    0.149922 -0.350500"
                    }, 
                    "metadata": {}, 
                    "execution_count": 35, 
                    "output_type": "execute_result"
                }
            ]
        }, 
        {
            "metadata": {}, 
            "source": "## Reshaping", 
            "cell_type": "markdown"
        }, 
        {
            "source": "tuples = list(zip(*[['bar', 'bar', 'baz', 'baz',\n   ....:                      'foo', 'foo', 'qux', 'qux'],\n   ....:                     ['one', 'two', 'one', 'two',\n   ....:                      'one', 'two', 'one', 'two']]))\ntuples", 
            "metadata": {
                "scrolled": true, 
                "collapsed": false
            }, 
            "execution_count": 36, 
            "cell_type": "code", 
            "outputs": [
                {
                    "data": {
                        "text/plain": "[('bar', 'one'),\n ('bar', 'two'),\n ('baz', 'one'),\n ('baz', 'two'),\n ('foo', 'one'),\n ('foo', 'two'),\n ('qux', 'one'),\n ('qux', 'two')]"
                    }, 
                    "metadata": {}, 
                    "execution_count": 36, 
                    "output_type": "execute_result"
                }
            ]
        }, 
        {
            "source": "index = pd.MultiIndex.from_tuples(tuples, names=['first', 'second'])", 
            "metadata": {
                "collapsed": true
            }, 
            "execution_count": 37, 
            "cell_type": "code", 
            "outputs": []
        }, 
        {
            "source": "df = pd.DataFrame(np.random.randn(8, 2), index=index, columns=['A', 'B'])", 
            "metadata": {
                "collapsed": true
            }, 
            "execution_count": 38, 
            "cell_type": "code", 
            "outputs": []
        }, 
        {
            "source": "df2 = df[:4]\ndf2", 
            "metadata": {
                "scrolled": true, 
                "collapsed": false
            }, 
            "execution_count": 40, 
            "cell_type": "code", 
            "outputs": [
                {
                    "data": {
                        "text/html": "<div>\n<table border=\"1\" class=\"dataframe\">\n  <thead>\n    <tr style=\"text-align: right;\">\n      <th></th>\n      <th></th>\n      <th>A</th>\n      <th>B</th>\n    </tr>\n    <tr>\n      <th>first</th>\n      <th>second</th>\n      <th></th>\n      <th></th>\n    </tr>\n  </thead>\n  <tbody>\n    <tr>\n      <th rowspan=\"2\" valign=\"top\">bar</th>\n      <th>one</th>\n      <td>-0.242738</td>\n      <td>-0.570858</td>\n    </tr>\n    <tr>\n      <th>two</th>\n      <td>-0.065059</td>\n      <td>0.738970</td>\n    </tr>\n    <tr>\n      <th rowspan=\"2\" valign=\"top\">baz</th>\n      <th>one</th>\n      <td>-1.378310</td>\n      <td>-1.155642</td>\n    </tr>\n    <tr>\n      <th>two</th>\n      <td>-0.638527</td>\n      <td>-1.566636</td>\n    </tr>\n  </tbody>\n</table>\n</div>", 
                        "text/plain": "                     A         B\nfirst second                    \nbar   one    -0.242738 -0.570858\n      two    -0.065059  0.738970\nbaz   one    -1.378310 -1.155642\n      two    -0.638527 -1.566636"
                    }, 
                    "metadata": {}, 
                    "execution_count": 40, 
                    "output_type": "execute_result"
                }
            ]
        }, 
        {
            "source": "#The stack function \u201ccompresses\u201d a level in the DataFrame\u2019s columns.\nstacked = df2.stack()\nstacked", 
            "metadata": {
                "scrolled": true, 
                "collapsed": false
            }, 
            "execution_count": 42, 
            "cell_type": "code", 
            "outputs": [
                {
                    "data": {
                        "text/plain": "first  second   \nbar    one     A   -0.242738\n               B   -0.570858\n       two     A   -0.065059\n               B    0.738970\nbaz    one     A   -1.378310\n               B   -1.155642\n       two     A   -0.638527\n               B   -1.566636\ndtype: float64"
                    }, 
                    "metadata": {}, 
                    "execution_count": 42, 
                    "output_type": "execute_result"
                }
            ]
        }, 
        {
            "source": "# With a \u201cstacked\u201d DataFrame or Series (having a MultiIndex as the index), the inverse operation of stack is unstack, which by default unstacks the last level:\nstacked.unstack()", 
            "metadata": {
                "collapsed": false
            }, 
            "execution_count": 43, 
            "cell_type": "code", 
            "outputs": [
                {
                    "data": {
                        "text/html": "<div>\n<table border=\"1\" class=\"dataframe\">\n  <thead>\n    <tr style=\"text-align: right;\">\n      <th></th>\n      <th></th>\n      <th>A</th>\n      <th>B</th>\n    </tr>\n    <tr>\n      <th>first</th>\n      <th>second</th>\n      <th></th>\n      <th></th>\n    </tr>\n  </thead>\n  <tbody>\n    <tr>\n      <th rowspan=\"2\" valign=\"top\">bar</th>\n      <th>one</th>\n      <td>-0.242738</td>\n      <td>-0.570858</td>\n    </tr>\n    <tr>\n      <th>two</th>\n      <td>-0.065059</td>\n      <td>0.738970</td>\n    </tr>\n    <tr>\n      <th rowspan=\"2\" valign=\"top\">baz</th>\n      <th>one</th>\n      <td>-1.378310</td>\n      <td>-1.155642</td>\n    </tr>\n    <tr>\n      <th>two</th>\n      <td>-0.638527</td>\n      <td>-1.566636</td>\n    </tr>\n  </tbody>\n</table>\n</div>", 
                        "text/plain": "                     A         B\nfirst second                    \nbar   one    -0.242738 -0.570858\n      two    -0.065059  0.738970\nbaz   one    -1.378310 -1.155642\n      two    -0.638527 -1.566636"
                    }, 
                    "metadata": {}, 
                    "execution_count": 43, 
                    "output_type": "execute_result"
                }
            ]
        }, 
        {
            "source": "stacked.unstack(1)", 
            "metadata": {
                "collapsed": false
            }, 
            "execution_count": 44, 
            "cell_type": "code", 
            "outputs": [
                {
                    "data": {
                        "text/html": "<div>\n<table border=\"1\" class=\"dataframe\">\n  <thead>\n    <tr style=\"text-align: right;\">\n      <th></th>\n      <th>second</th>\n      <th>one</th>\n      <th>two</th>\n    </tr>\n    <tr>\n      <th>first</th>\n      <th></th>\n      <th></th>\n      <th></th>\n    </tr>\n  </thead>\n  <tbody>\n    <tr>\n      <th rowspan=\"2\" valign=\"top\">bar</th>\n      <th>A</th>\n      <td>-0.242738</td>\n      <td>-0.065059</td>\n    </tr>\n    <tr>\n      <th>B</th>\n      <td>-0.570858</td>\n      <td>0.738970</td>\n    </tr>\n    <tr>\n      <th rowspan=\"2\" valign=\"top\">baz</th>\n      <th>A</th>\n      <td>-1.378310</td>\n      <td>-0.638527</td>\n    </tr>\n    <tr>\n      <th>B</th>\n      <td>-1.155642</td>\n      <td>-1.566636</td>\n    </tr>\n  </tbody>\n</table>\n</div>", 
                        "text/plain": "second        one       two\nfirst                      \nbar   A -0.242738 -0.065059\n      B -0.570858  0.738970\nbaz   A -1.378310 -0.638527\n      B -1.155642 -1.566636"
                    }, 
                    "metadata": {}, 
                    "execution_count": 44, 
                    "output_type": "execute_result"
                }
            ]
        }, 
        {
            "source": "stacked.unstack(0)", 
            "metadata": {
                "collapsed": false
            }, 
            "execution_count": 45, 
            "cell_type": "code", 
            "outputs": [
                {
                    "data": {
                        "text/html": "<div>\n<table border=\"1\" class=\"dataframe\">\n  <thead>\n    <tr style=\"text-align: right;\">\n      <th></th>\n      <th>first</th>\n      <th>bar</th>\n      <th>baz</th>\n    </tr>\n    <tr>\n      <th>second</th>\n      <th></th>\n      <th></th>\n      <th></th>\n    </tr>\n  </thead>\n  <tbody>\n    <tr>\n      <th rowspan=\"2\" valign=\"top\">one</th>\n      <th>A</th>\n      <td>-0.242738</td>\n      <td>-1.378310</td>\n    </tr>\n    <tr>\n      <th>B</th>\n      <td>-0.570858</td>\n      <td>-1.155642</td>\n    </tr>\n    <tr>\n      <th rowspan=\"2\" valign=\"top\">two</th>\n      <th>A</th>\n      <td>-0.065059</td>\n      <td>-0.638527</td>\n    </tr>\n    <tr>\n      <th>B</th>\n      <td>0.738970</td>\n      <td>-1.566636</td>\n    </tr>\n  </tbody>\n</table>\n</div>", 
                        "text/plain": "first          bar       baz\nsecond                      \none    A -0.242738 -1.378310\n       B -0.570858 -1.155642\ntwo    A -0.065059 -0.638527\n       B  0.738970 -1.566636"
                    }, 
                    "metadata": {}, 
                    "execution_count": 45, 
                    "output_type": "execute_result"
                }
            ]
        }, 
        {
            "source": "## Pivot Tables", 
            "metadata": {
                "collapsed": true
            }, 
            "execution_count": null, 
            "cell_type": "code", 
            "outputs": []
        }, 
        {
            "source": "#We can produce pivot tables from this data very easily:\npd.pivot_table(df, values='D', index=['A', 'B'], columns=['C'])", 
            "metadata": {
                "scrolled": true, 
                "collapsed": false
            }, 
            "execution_count": 47, 
            "cell_type": "code", 
            "outputs": [
                {
                    "data": {
                        "text/html": "<div>\n<table border=\"1\" class=\"dataframe\">\n  <thead>\n    <tr style=\"text-align: right;\">\n      <th></th>\n      <th>C</th>\n      <th>bar</th>\n      <th>foo</th>\n    </tr>\n    <tr>\n      <th>A</th>\n      <th>B</th>\n      <th></th>\n      <th></th>\n    </tr>\n  </thead>\n  <tbody>\n    <tr>\n      <th rowspan=\"3\" valign=\"top\">one</th>\n      <th>A</th>\n      <td>-0.511609</td>\n      <td>-0.904576</td>\n    </tr>\n    <tr>\n      <th>B</th>\n      <td>0.586831</td>\n      <td>0.117681</td>\n    </tr>\n    <tr>\n      <th>C</th>\n      <td>0.746090</td>\n      <td>0.194456</td>\n    </tr>\n    <tr>\n      <th rowspan=\"3\" valign=\"top\">three</th>\n      <th>A</th>\n      <td>-0.484408</td>\n      <td>NaN</td>\n    </tr>\n    <tr>\n      <th>B</th>\n      <td>NaN</td>\n      <td>-0.198715</td>\n    </tr>\n    <tr>\n      <th>C</th>\n      <td>0.086675</td>\n      <td>NaN</td>\n    </tr>\n    <tr>\n      <th rowspan=\"3\" valign=\"top\">two</th>\n      <th>A</th>\n      <td>NaN</td>\n      <td>-1.368742</td>\n    </tr>\n    <tr>\n      <th>B</th>\n      <td>-0.062546</td>\n      <td>NaN</td>\n    </tr>\n    <tr>\n      <th>C</th>\n      <td>NaN</td>\n      <td>0.244989</td>\n    </tr>\n  </tbody>\n</table>\n</div>", 
                        "text/plain": "C             bar       foo\nA     B                    \none   A -0.511609 -0.904576\n      B  0.586831  0.117681\n      C  0.746090  0.194456\nthree A -0.484408       NaN\n      B       NaN -0.198715\n      C  0.086675       NaN\ntwo   A       NaN -1.368742\n      B -0.062546       NaN\n      C       NaN  0.244989"
                    }, 
                    "metadata": {}, 
                    "execution_count": 47, 
                    "output_type": "execute_result"
                }
            ]
        }, 
        {
            "metadata": {}, 
            "source": "# Time series", 
            "cell_type": "markdown"
        }, 
        {
            "metadata": {}, 
            "source": "Pandas has simple, powerful, and efficient functionality for performing resampling operations during frequency conversion (e.g., converting secondly data into 5-minutely data). This is extremely common in, but not limited to, financial applications.", 
            "cell_type": "markdown"
        }, 
        {
            "source": "rng = pd.date_range('1/1/2012', periods=100, freq='S')", 
            "metadata": {
                "collapsed": true
            }, 
            "execution_count": 35, 
            "cell_type": "code", 
            "outputs": []
        }, 
        {
            "source": "ts = pd.Series(np.random.randint(0, 500, len(rng)), index=rng)", 
            "metadata": {
                "collapsed": true
            }, 
            "execution_count": 36, 
            "cell_type": "code", 
            "outputs": []
        }, 
        {
            "source": "ts.resample('5Min', how='sum')", 
            "metadata": {
                "collapsed": false
            }, 
            "execution_count": 37, 
            "cell_type": "code", 
            "outputs": [
                {
                    "name": "stderr", 
                    "output_type": "stream", 
                    "text": "/usr/local/src/conda3_runtime.v10/4.1.1/lib/python3.5/site-packages/ipykernel/__main__.py:1: FutureWarning: how in .resample() is deprecated\nthe new syntax is .resample(...).sum()\n  if __name__ == '__main__':\n"
                }, 
                {
                    "data": {
                        "text/plain": "2012-01-01    25996\nFreq: 5T, dtype: int64"
                    }, 
                    "metadata": {}, 
                    "execution_count": 37, 
                    "output_type": "execute_result"
                }
            ]
        }, 
        {
            "source": "#Time zone representation\nrng = pd.date_range('3/6/2012 00:00', periods=5, freq='D')\nts = pd.Series(np.random.randn(len(rng)), rng)\nts", 
            "metadata": {
                "scrolled": true, 
                "collapsed": false
            }, 
            "execution_count": 52, 
            "cell_type": "code", 
            "outputs": [
                {
                    "data": {
                        "text/plain": "2012-03-06   -2.004488\n2012-03-07    1.186332\n2012-03-08    1.494316\n2012-03-09   -1.399431\n2012-03-10    1.422653\nFreq: D, dtype: float64"
                    }, 
                    "metadata": {}, 
                    "execution_count": 52, 
                    "output_type": "execute_result"
                }
            ]
        }, 
        {
            "source": "ts_utc = ts.tz_localize('UTC')\nts_utc", 
            "metadata": {
                "scrolled": true, 
                "collapsed": false
            }, 
            "execution_count": 53, 
            "cell_type": "code", 
            "outputs": [
                {
                    "data": {
                        "text/plain": "2012-03-06 00:00:00+00:00   -2.004488\n2012-03-07 00:00:00+00:00    1.186332\n2012-03-08 00:00:00+00:00    1.494316\n2012-03-09 00:00:00+00:00   -1.399431\n2012-03-10 00:00:00+00:00    1.422653\nFreq: D, dtype: float64"
                    }, 
                    "metadata": {}, 
                    "execution_count": 53, 
                    "output_type": "execute_result"
                }
            ]
        }, 
        {
            "source": "#Convert to another time zone\nts_utc.tz_convert('US/Eastern')", 
            "metadata": {
                "collapsed": false
            }, 
            "execution_count": 54, 
            "cell_type": "code", 
            "outputs": [
                {
                    "data": {
                        "text/plain": "2012-03-05 19:00:00-05:00   -2.004488\n2012-03-06 19:00:00-05:00    1.186332\n2012-03-07 19:00:00-05:00    1.494316\n2012-03-08 19:00:00-05:00   -1.399431\n2012-03-09 19:00:00-05:00    1.422653\nFreq: D, dtype: float64"
                    }, 
                    "metadata": {}, 
                    "execution_count": 54, 
                    "output_type": "execute_result"
                }
            ]
        }, 
        {
            "source": "#Converting between time span representations\nrng = pd.date_range('1/1/2012', periods=5, freq='M')\nts = pd.Series(np.random.randn(len(rng)), index=rng)\nts", 
            "metadata": {
                "collapsed": false
            }, 
            "execution_count": 55, 
            "cell_type": "code", 
            "outputs": [
                {
                    "data": {
                        "text/plain": "2012-01-31   -0.282828\n2012-02-29   -1.344829\n2012-03-31   -2.326520\n2012-04-30    1.062796\n2012-05-31   -0.458002\nFreq: M, dtype: float64"
                    }, 
                    "metadata": {}, 
                    "execution_count": 55, 
                    "output_type": "execute_result"
                }
            ]
        }, 
        {
            "source": "ps = ts.to_period()\nps", 
            "metadata": {
                "scrolled": true, 
                "collapsed": false
            }, 
            "execution_count": 57, 
            "cell_type": "code", 
            "outputs": [
                {
                    "data": {
                        "text/plain": "2012-01   -0.282828\n2012-02   -1.344829\n2012-03   -2.326520\n2012-04    1.062796\n2012-05   -0.458002\nFreq: M, dtype: float64"
                    }, 
                    "metadata": {}, 
                    "execution_count": 57, 
                    "output_type": "execute_result"
                }
            ]
        }, 
        {
            "source": "ps.to_timestamp()\nps", 
            "metadata": {
                "scrolled": true, 
                "collapsed": false
            }, 
            "execution_count": 58, 
            "cell_type": "code", 
            "outputs": [
                {
                    "data": {
                        "text/plain": "2012-01   -0.282828\n2012-02   -1.344829\n2012-03   -2.326520\n2012-04    1.062796\n2012-05   -0.458002\nFreq: M, dtype: float64"
                    }, 
                    "metadata": {}, 
                    "execution_count": 58, 
                    "output_type": "execute_result"
                }
            ]
        }, 
        {
            "metadata": {}, 
            "source": "Converting between period and timestamp enables some convenient arithmetic functions to be used. In the following example, we convert a quarterly frequency with year ending in November to 9am of the end of the month following the quarter end:", 
            "cell_type": "markdown"
        }, 
        {
            "source": "prng = pd.period_range('1990Q1', '2000Q4', freq='Q-NOV')\nts = pd.Series(np.random.randn(len(prng)), prng)\nts.index = (prng.asfreq('M', 'e') + 1).asfreq('H', 's') + 9\nts.head()", 
            "metadata": {
                "scrolled": true, 
                "collapsed": false
            }, 
            "execution_count": 60, 
            "cell_type": "code", 
            "outputs": [
                {
                    "data": {
                        "text/plain": "1990-03-01 09:00   -1.102384\n1990-06-01 09:00   -0.449873\n1990-09-01 09:00   -0.402938\n1990-12-01 09:00   -1.719376\n1991-03-01 09:00    0.532242\nFreq: H, dtype: float64"
                    }, 
                    "metadata": {}, 
                    "execution_count": 60, 
                    "output_type": "execute_result"
                }
            ]
        }, 
        {
            "metadata": {}, 
            "source": "# Categoricals", 
            "cell_type": "markdown"
        }, 
        {
            "source": "df = pd.DataFrame({\"id\":[1,2,3,4,5,6], \"raw_grade\":['a', 'b', 'b', 'a', 'a', 'e']})\ndf", 
            "metadata": {
                "scrolled": true, 
                "collapsed": false
            }, 
            "execution_count": 38, 
            "cell_type": "code", 
            "outputs": [
                {
                    "data": {
                        "text/html": "<div>\n<table border=\"1\" class=\"dataframe\">\n  <thead>\n    <tr style=\"text-align: right;\">\n      <th></th>\n      <th>id</th>\n      <th>raw_grade</th>\n    </tr>\n  </thead>\n  <tbody>\n    <tr>\n      <th>0</th>\n      <td>1</td>\n      <td>a</td>\n    </tr>\n    <tr>\n      <th>1</th>\n      <td>2</td>\n      <td>b</td>\n    </tr>\n    <tr>\n      <th>2</th>\n      <td>3</td>\n      <td>b</td>\n    </tr>\n    <tr>\n      <th>3</th>\n      <td>4</td>\n      <td>a</td>\n    </tr>\n    <tr>\n      <th>4</th>\n      <td>5</td>\n      <td>a</td>\n    </tr>\n    <tr>\n      <th>5</th>\n      <td>6</td>\n      <td>e</td>\n    </tr>\n  </tbody>\n</table>\n</div>", 
                        "text/plain": "   id raw_grade\n0   1         a\n1   2         b\n2   3         b\n3   4         a\n4   5         a\n5   6         e"
                    }, 
                    "metadata": {}, 
                    "execution_count": 38, 
                    "output_type": "execute_result"
                }
            ]
        }, 
        {
            "source": "df[\"grade\"] = df[\"raw_grade\"].astype(\"category\")\ndf[\"grade\"]", 
            "metadata": {
                "scrolled": true, 
                "collapsed": false
            }, 
            "execution_count": 39, 
            "cell_type": "code", 
            "outputs": [
                {
                    "data": {
                        "text/plain": "0    a\n1    b\n2    b\n3    a\n4    a\n5    e\nName: grade, dtype: category\nCategories (3, object): [a, b, e]"
                    }, 
                    "metadata": {}, 
                    "execution_count": 39, 
                    "output_type": "execute_result"
                }
            ]
        }, 
        {
            "source": "#Rename the categories to more meaningful names (assigning to Series.cat.categories is inplace!)\ndf[\"grade\"].cat.categories = [\"very good\", \"good\", \"very bad\"]\n", 
            "metadata": {
                "collapsed": true
            }, 
            "execution_count": 40, 
            "cell_type": "code", 
            "outputs": []
        }, 
        {
            "source": "#Reorder the categories and simultaneously add the missing categories (methods under Series .cat return a new Series per default).\ndf[\"grade\"] = df[\"grade\"].cat.set_categories([\"very bad\", \"bad\", \"medium\", \"good\", \"very good\"])\ndf[\"grade\"]", 
            "metadata": {
                "scrolled": true, 
                "collapsed": false
            }, 
            "execution_count": 41, 
            "cell_type": "code", 
            "outputs": [
                {
                    "data": {
                        "text/plain": "0    very good\n1         good\n2         good\n3    very good\n4    very good\n5     very bad\nName: grade, dtype: category\nCategories (5, object): [very bad, bad, medium, good, very good]"
                    }, 
                    "metadata": {}, 
                    "execution_count": 41, 
                    "output_type": "execute_result"
                }
            ]
        }, 
        {
            "source": "#Sorting is per order in the categories, not lexical order.\ndf.sort_values(\"grade\")", 
            "metadata": {
                "scrolled": true, 
                "collapsed": false
            }, 
            "execution_count": 42, 
            "cell_type": "code", 
            "outputs": [
                {
                    "data": {
                        "text/html": "<div>\n<table border=\"1\" class=\"dataframe\">\n  <thead>\n    <tr style=\"text-align: right;\">\n      <th></th>\n      <th>id</th>\n      <th>raw_grade</th>\n      <th>grade</th>\n    </tr>\n  </thead>\n  <tbody>\n    <tr>\n      <th>5</th>\n      <td>6</td>\n      <td>e</td>\n      <td>very bad</td>\n    </tr>\n    <tr>\n      <th>1</th>\n      <td>2</td>\n      <td>b</td>\n      <td>good</td>\n    </tr>\n    <tr>\n      <th>2</th>\n      <td>3</td>\n      <td>b</td>\n      <td>good</td>\n    </tr>\n    <tr>\n      <th>0</th>\n      <td>1</td>\n      <td>a</td>\n      <td>very good</td>\n    </tr>\n    <tr>\n      <th>3</th>\n      <td>4</td>\n      <td>a</td>\n      <td>very good</td>\n    </tr>\n    <tr>\n      <th>4</th>\n      <td>5</td>\n      <td>a</td>\n      <td>very good</td>\n    </tr>\n  </tbody>\n</table>\n</div>", 
                        "text/plain": "   id raw_grade      grade\n5   6         e   very bad\n1   2         b       good\n2   3         b       good\n0   1         a  very good\n3   4         a  very good\n4   5         a  very good"
                    }, 
                    "metadata": {}, 
                    "execution_count": 42, 
                    "output_type": "execute_result"
                }
            ]
        }, 
        {
            "source": "#Grouping by a categorical column shows also empty categories.\ndf.groupby(\"grade\").size()", 
            "metadata": {
                "scrolled": true, 
                "collapsed": false
            }, 
            "execution_count": 43, 
            "cell_type": "code", 
            "outputs": [
                {
                    "data": {
                        "text/plain": "grade\nvery bad     1\nbad          0\nmedium       0\ngood         2\nvery good    3\ndtype: int64"
                    }, 
                    "metadata": {}, 
                    "execution_count": 43, 
                    "output_type": "execute_result"
                }
            ]
        }, 
        {
            "source": "# Plotting", 
            "metadata": {
                "collapsed": true
            }, 
            "execution_count": 44, 
            "cell_type": "code", 
            "outputs": []
        }, 
        {
            "source": "ts = pd.Series(np.random.randn(1000), index=pd.date_range('1/1/2000', periods=1000))\nts = ts.cumsum()\n%matplotlib inline\nts.plot()", 
            "metadata": {
                "scrolled": true, 
                "collapsed": false
            }, 
            "execution_count": 45, 
            "cell_type": "code", 
            "outputs": [
                {
                    "name": "stderr", 
                    "output_type": "stream", 
                    "text": "/usr/local/src/conda3_runtime.v10/4.1.1/lib/python3.5/site-packages/matplotlib/font_manager.py:273: UserWarning: Matplotlib is building the font cache using fc-list. This may take a moment.\n  warnings.warn('Matplotlib is building the font cache using fc-list. This may take a moment.')\n/usr/local/src/conda3_runtime.v10/4.1.1/lib/python3.5/site-packages/matplotlib/font_manager.py:273: UserWarning: Matplotlib is building the font cache using fc-list. This may take a moment.\n  warnings.warn('Matplotlib is building the font cache using fc-list. This may take a moment.')\n"
                }, 
                {
                    "data": {
                        "text/plain": "<matplotlib.axes._subplots.AxesSubplot at 0x7fbfda885198>"
                    }, 
                    "metadata": {}, 
                    "execution_count": 45, 
                    "output_type": "execute_result"
                }, 
                {
                    "data": {
                        "text/plain": "<matplotlib.figure.Figure at 0x7fbfe7bf94e0>", 
                        "image/png": "[encoded data removed]"
                    }, 
                    "metadata": {}, 
                    "output_type": "display_data"
                }
            ]
        }, 
        {
            "source": "df = pd.DataFrame(np.random.randn(1000, 4), index=ts.index,\n   .....:                   columns=['A', 'B', 'C', 'D'])\n   .....: \ndf = df.cumsum()\nimport matplotlib.pyplot as plt\nplt.figure(); df.plot(); plt.legend(loc='best')", 
            "metadata": {
                "scrolled": true, 
                "collapsed": false
            }, 
            "execution_count": 46, 
            "cell_type": "code", 
            "outputs": [
                {
                    "data": {
                        "text/plain": "<matplotlib.legend.Legend at 0x7fbfd94c54e0>"
                    }, 
                    "metadata": {}, 
                    "execution_count": 46, 
                    "output_type": "execute_result"
                }, 
                {
                    "data": {
                        "text/plain": "<matplotlib.figure.Figure at 0x7fbfe7022438>"
                    }, 
                    "metadata": {}, 
                    "output_type": "display_data"
                }, 
                {
                    "data": {
                        "text/plain": "<matplotlib.figure.Figure at 0x7fbfd94c5ba8>", 
                        "image/png": "[encoded data removed]"
                    }, 
                    "metadata": {}, 
                    "output_type": "display_data"
                }
            ]
        }, 
        {
            "metadata": {}, 
            "source": "# Getting data in and out", 
            "cell_type": "markdown"
        }, 
        {
            "metadata": {}, 
            "source": "## CSV", 
            "cell_type": "markdown"
        }, 
        {
            "source": "#Writing to a csv file\ndf.to_csv('foo.csv')", 
            "metadata": {
                "collapsed": true
            }, 
            "execution_count": 47, 
            "cell_type": "code", 
            "outputs": []
        }, 
        {
            "source": "#Reading from a csv file\npd.read_csv('foo.csv')", 
            "metadata": {
                "collapsed": false
            }, 
            "execution_count": 48, 
            "cell_type": "code", 
            "outputs": [
                {
                    "data": {
                        "text/html": "<div>\n<table border=\"1\" class=\"dataframe\">\n  <thead>\n    <tr style=\"text-align: right;\">\n      <th></th>\n      <th>Unnamed: 0</th>\n      <th>A</th>\n      <th>B</th>\n      <th>C</th>\n      <th>D</th>\n    </tr>\n  </thead>\n  <tbody>\n    <tr>\n      <th>0</th>\n      <td>2000-01-01</td>\n      <td>-0.132008</td>\n      <td>-0.407705</td>\n      <td>-1.238131</td>\n      <td>0.942520</td>\n    </tr>\n    <tr>\n      <th>1</th>\n      <td>2000-01-02</td>\n      <td>-0.630074</td>\n      <td>-1.637975</td>\n      <td>0.384180</td>\n      <td>2.466032</td>\n    </tr>\n    <tr>\n      <th>2</th>\n      <td>2000-01-03</td>\n      <td>-0.742629</td>\n      <td>-1.204263</td>\n      <td>1.520664</td>\n      <td>2.985147</td>\n    </tr>\n    <tr>\n      <th>3</th>\n      <td>2000-01-04</td>\n      <td>0.226728</td>\n      <td>-2.673852</td>\n      <td>2.836494</td>\n      <td>1.912969</td>\n    </tr>\n    <tr>\n      <th>4</th>\n      <td>2000-01-05</td>\n      <td>-2.144632</td>\n      <td>-3.126005</td>\n      <td>2.772338</td>\n      <td>1.975954</td>\n    </tr>\n    <tr>\n      <th>5</th>\n      <td>2000-01-06</td>\n      <td>-1.258336</td>\n      <td>-1.631914</td>\n      <td>3.056396</td>\n      <td>1.287534</td>\n    </tr>\n    <tr>\n      <th>6</th>\n      <td>2000-01-07</td>\n      <td>-0.138305</td>\n      <td>-1.149034</td>\n      <td>2.926870</td>\n      <td>1.084157</td>\n    </tr>\n    <tr>\n      <th>7</th>\n      <td>2000-01-08</td>\n      <td>-0.103637</td>\n      <td>-2.117667</td>\n      <td>3.330944</td>\n      <td>0.229721</td>\n    </tr>\n    <tr>\n      <th>8</th>\n      <td>2000-01-09</td>\n      <td>-1.166111</td>\n      <td>-1.068983</td>\n      <td>4.204954</td>\n      <td>0.185753</td>\n    </tr>\n    <tr>\n      <th>9</th>\n      <td>2000-01-10</td>\n      <td>1.027792</td>\n      <td>-2.384457</td>\n      <td>3.896468</td>\n      <td>1.392990</td>\n    </tr>\n    <tr>\n      <th>10</th>\n      <td>2000-01-11</td>\n      <td>1.268638</td>\n      <td>-1.122115</td>\n      <td>3.510553</td>\n      <td>1.743041</td>\n    </tr>\n    <tr>\n      <th>11</th>\n      <td>2000-01-12</td>\n      <td>1.754102</td>\n      <td>-2.313985</td>\n      <td>3.587633</td>\n      <td>2.626061</td>\n    </tr>\n    <tr>\n      <th>12</th>\n      <td>2000-01-13</td>\n      <td>1.654249</td>\n      <td>-1.714115</td>\n      <td>4.580655</td>\n      <td>3.650033</td>\n    </tr>\n    <tr>\n      <th>13</th>\n      <td>2000-01-14</td>\n      <td>0.416136</td>\n      <td>-1.457073</td>\n      <td>4.371789</td>\n      <td>4.282285</td>\n    </tr>\n    <tr>\n      <th>14</th>\n      <td>2000-01-15</td>\n      <td>-0.439223</td>\n      <td>-2.613694</td>\n      <td>5.000334</td>\n      <td>4.302026</td>\n    </tr>\n    <tr>\n      <th>15</th>\n      <td>2000-01-16</td>\n      <td>-1.434522</td>\n      <td>-0.854745</td>\n      <td>5.878227</td>\n      <td>5.399687</td>\n    </tr>\n    <tr>\n      <th>16</th>\n      <td>2000-01-17</td>\n      <td>-3.099658</td>\n      <td>-2.854668</td>\n      <td>5.591030</td>\n      <td>6.028455</td>\n    </tr>\n    <tr>\n      <th>17</th>\n      <td>2000-01-18</td>\n      <td>-2.871321</td>\n      <td>-4.253754</td>\n      <td>5.198480</td>\n      <td>4.698448</td>\n    </tr>\n    <tr>\n      <th>18</th>\n      <td>2000-01-19</td>\n      <td>-3.990716</td>\n      <td>-3.515489</td>\n      <td>6.360935</td>\n      <td>3.870359</td>\n    </tr>\n    <tr>\n      <th>19</th>\n      <td>2000-01-20</td>\n      <td>-3.995489</td>\n      <td>-3.511090</td>\n      <td>6.307852</td>\n      <td>4.916578</td>\n    </tr>\n    <tr>\n      <th>20</th>\n      <td>2000-01-21</td>\n      <td>-4.355836</td>\n      <td>-4.210716</td>\n      <td>7.843469</td>\n      <td>7.079678</td>\n    </tr>\n    <tr>\n      <th>21</th>\n      <td>2000-01-22</td>\n      <td>-4.023186</td>\n      <td>-5.913894</td>\n      <td>8.919780</td>\n      <td>7.791595</td>\n    </tr>\n    <tr>\n      <th>22</th>\n      <td>2000-01-23</td>\n      <td>-5.048418</td>\n      <td>-6.007226</td>\n      <td>7.737602</td>\n      <td>8.285257</td>\n    </tr>\n    <tr>\n      <th>23</th>\n      <td>2000-01-24</td>\n      <td>-4.051239</td>\n      <td>-6.157986</td>\n      <td>9.550151</td>\n      <td>7.699436</td>\n    </tr>\n    <tr>\n      <th>24</th>\n      <td>2000-01-25</td>\n      <td>-4.671009</td>\n      <td>-6.335873</td>\n      <td>9.249704</td>\n      <td>8.817504</td>\n    </tr>\n    <tr>\n      <th>25</th>\n      <td>2000-01-26</td>\n      <td>-6.057095</td>\n      <td>-7.076371</td>\n      <td>9.411400</td>\n      <td>8.873434</td>\n    </tr>\n    <tr>\n      <th>26</th>\n      <td>2000-01-27</td>\n      <td>-5.938217</td>\n      <td>-8.475756</td>\n      <td>8.052511</td>\n      <td>9.187448</td>\n    </tr>\n    <tr>\n      <th>27</th>\n      <td>2000-01-28</td>\n      <td>-6.001633</td>\n      <td>-10.432185</td>\n      <td>7.088259</td>\n      <td>9.273956</td>\n    </tr>\n    <tr>\n      <th>28</th>\n      <td>2000-01-29</td>\n      <td>-4.862525</td>\n      <td>-10.580794</td>\n      <td>7.989071</td>\n      <td>11.097520</td>\n    </tr>\n    <tr>\n      <th>29</th>\n      <td>2000-01-30</td>\n      <td>-4.770196</td>\n      <td>-11.128710</td>\n      <td>6.519492</td>\n      <td>10.920771</td>\n    </tr>\n    <tr>\n      <th>...</th>\n      <td>...</td>\n      <td>...</td>\n      <td>...</td>\n      <td>...</td>\n      <td>...</td>\n    </tr>\n    <tr>\n      <th>970</th>\n      <td>2002-08-28</td>\n      <td>-10.435434</td>\n      <td>7.443743</td>\n      <td>14.610311</td>\n      <td>50.943989</td>\n    </tr>\n    <tr>\n      <th>971</th>\n      <td>2002-08-29</td>\n      <td>-9.782652</td>\n      <td>6.588694</td>\n      <td>13.766059</td>\n      <td>51.261881</td>\n    </tr>\n    <tr>\n      <th>972</th>\n      <td>2002-08-30</td>\n      <td>-10.536039</td>\n      <td>6.767765</td>\n      <td>12.827514</td>\n      <td>50.756591</td>\n    </tr>\n    <tr>\n      <th>973</th>\n      <td>2002-08-31</td>\n      <td>-10.806956</td>\n      <td>6.441764</td>\n      <td>11.932084</td>\n      <td>51.627760</td>\n    </tr>\n    <tr>\n      <th>974</th>\n      <td>2002-09-01</td>\n      <td>-10.390453</td>\n      <td>5.755764</td>\n      <td>11.927383</td>\n      <td>51.393620</td>\n    </tr>\n    <tr>\n      <th>975</th>\n      <td>2002-09-02</td>\n      <td>-11.207339</td>\n      <td>5.250548</td>\n      <td>11.263981</td>\n      <td>50.436869</td>\n    </tr>\n    <tr>\n      <th>976</th>\n      <td>2002-09-03</td>\n      <td>-11.282092</td>\n      <td>5.343459</td>\n      <td>12.259123</td>\n      <td>50.068617</td>\n    </tr>\n    <tr>\n      <th>977</th>\n      <td>2002-09-04</td>\n      <td>-9.943155</td>\n      <td>4.665482</td>\n      <td>10.908781</td>\n      <td>48.923347</td>\n    </tr>\n    <tr>\n      <th>978</th>\n      <td>2002-09-05</td>\n      <td>-10.479644</td>\n      <td>5.067617</td>\n      <td>11.047175</td>\n      <td>49.435594</td>\n    </tr>\n    <tr>\n      <th>979</th>\n      <td>2002-09-06</td>\n      <td>-8.949353</td>\n      <td>6.928784</td>\n      <td>11.154201</td>\n      <td>49.996876</td>\n    </tr>\n    <tr>\n      <th>980</th>\n      <td>2002-09-07</td>\n      <td>-10.299730</td>\n      <td>6.928722</td>\n      <td>11.108064</td>\n      <td>50.304866</td>\n    </tr>\n    <tr>\n      <th>981</th>\n      <td>2002-09-08</td>\n      <td>-8.244644</td>\n      <td>6.485266</td>\n      <td>10.556781</td>\n      <td>50.870984</td>\n    </tr>\n    <tr>\n      <th>982</th>\n      <td>2002-09-09</td>\n      <td>-9.127842</td>\n      <td>6.340246</td>\n      <td>11.743341</td>\n      <td>51.626641</td>\n    </tr>\n    <tr>\n      <th>983</th>\n      <td>2002-09-10</td>\n      <td>-8.903374</td>\n      <td>5.610918</td>\n      <td>11.940830</td>\n      <td>52.355432</td>\n    </tr>\n    <tr>\n      <th>984</th>\n      <td>2002-09-11</td>\n      <td>-9.298358</td>\n      <td>5.188450</td>\n      <td>11.991237</td>\n      <td>52.252580</td>\n    </tr>\n    <tr>\n      <th>985</th>\n      <td>2002-09-12</td>\n      <td>-8.699609</td>\n      <td>4.743371</td>\n      <td>11.913786</td>\n      <td>52.848115</td>\n    </tr>\n    <tr>\n      <th>986</th>\n      <td>2002-09-13</td>\n      <td>-10.111588</td>\n      <td>4.241921</td>\n      <td>12.477836</td>\n      <td>51.980861</td>\n    </tr>\n    <tr>\n      <th>987</th>\n      <td>2002-09-14</td>\n      <td>-11.592748</td>\n      <td>3.775753</td>\n      <td>12.518030</td>\n      <td>53.996830</td>\n    </tr>\n    <tr>\n      <th>988</th>\n      <td>2002-09-15</td>\n      <td>-11.416381</td>\n      <td>4.627528</td>\n      <td>11.347396</td>\n      <td>53.425855</td>\n    </tr>\n    <tr>\n      <th>989</th>\n      <td>2002-09-16</td>\n      <td>-10.754883</td>\n      <td>4.629287</td>\n      <td>12.668670</td>\n      <td>53.493368</td>\n    </tr>\n    <tr>\n      <th>990</th>\n      <td>2002-09-17</td>\n      <td>-11.268231</td>\n      <td>1.796612</td>\n      <td>12.501954</td>\n      <td>52.854071</td>\n    </tr>\n    <tr>\n      <th>991</th>\n      <td>2002-09-18</td>\n      <td>-10.241565</td>\n      <td>0.919923</td>\n      <td>13.145953</td>\n      <td>52.441697</td>\n    </tr>\n    <tr>\n      <th>992</th>\n      <td>2002-09-19</td>\n      <td>-8.803339</td>\n      <td>2.461525</td>\n      <td>12.828074</td>\n      <td>53.041828</td>\n    </tr>\n    <tr>\n      <th>993</th>\n      <td>2002-09-20</td>\n      <td>-9.305278</td>\n      <td>2.911867</td>\n      <td>11.963646</td>\n      <td>53.842267</td>\n    </tr>\n    <tr>\n      <th>994</th>\n      <td>2002-09-21</td>\n      <td>-11.108106</td>\n      <td>3.763479</td>\n      <td>11.516447</td>\n      <td>54.511186</td>\n    </tr>\n    <tr>\n      <th>995</th>\n      <td>2002-09-22</td>\n      <td>-11.858882</td>\n      <td>4.043825</td>\n      <td>10.524353</td>\n      <td>52.463396</td>\n    </tr>\n    <tr>\n      <th>996</th>\n      <td>2002-09-23</td>\n      <td>-11.545079</td>\n      <td>5.042995</td>\n      <td>9.631874</td>\n      <td>51.493299</td>\n    </tr>\n    <tr>\n      <th>997</th>\n      <td>2002-09-24</td>\n      <td>-11.784913</td>\n      <td>3.610500</td>\n      <td>9.610920</td>\n      <td>49.928397</td>\n    </tr>\n    <tr>\n      <th>998</th>\n      <td>2002-09-25</td>\n      <td>-10.650727</td>\n      <td>3.724073</td>\n      <td>9.554824</td>\n      <td>50.045591</td>\n    </tr>\n    <tr>\n      <th>999</th>\n      <td>2002-09-26</td>\n      <td>-7.583569</td>\n      <td>3.978682</td>\n      <td>9.602015</td>\n      <td>50.009143</td>\n    </tr>\n  </tbody>\n</table>\n<p>1000 rows \u00d7 5 columns</p>\n</div>", 
                        "text/plain": "     Unnamed: 0          A          B          C          D\n0    2000-01-01  -0.132008  -0.407705  -1.238131   0.942520\n1    2000-01-02  -0.630074  -1.637975   0.384180   2.466032\n2    2000-01-03  -0.742629  -1.204263   1.520664   2.985147\n3    2000-01-04   0.226728  -2.673852   2.836494   1.912969\n4    2000-01-05  -2.144632  -3.126005   2.772338   1.975954\n5    2000-01-06  -1.258336  -1.631914   3.056396   1.287534\n6    2000-01-07  -0.138305  -1.149034   2.926870   1.084157\n7    2000-01-08  -0.103637  -2.117667   3.330944   0.229721\n8    2000-01-09  -1.166111  -1.068983   4.204954   0.185753\n9    2000-01-10   1.027792  -2.384457   3.896468   1.392990\n10   2000-01-11   1.268638  -1.122115   3.510553   1.743041\n11   2000-01-12   1.754102  -2.313985   3.587633   2.626061\n12   2000-01-13   1.654249  -1.714115   4.580655   3.650033\n13   2000-01-14   0.416136  -1.457073   4.371789   4.282285\n14   2000-01-15  -0.439223  -2.613694   5.000334   4.302026\n15   2000-01-16  -1.434522  -0.854745   5.878227   5.399687\n16   2000-01-17  -3.099658  -2.854668   5.591030   6.028455\n17   2000-01-18  -2.871321  -4.253754   5.198480   4.698448\n18   2000-01-19  -3.990716  -3.515489   6.360935   3.870359\n19   2000-01-20  -3.995489  -3.511090   6.307852   4.916578\n20   2000-01-21  -4.355836  -4.210716   7.843469   7.079678\n21   2000-01-22  -4.023186  -5.913894   8.919780   7.791595\n22   2000-01-23  -5.048418  -6.007226   7.737602   8.285257\n23   2000-01-24  -4.051239  -6.157986   9.550151   7.699436\n24   2000-01-25  -4.671009  -6.335873   9.249704   8.817504\n25   2000-01-26  -6.057095  -7.076371   9.411400   8.873434\n26   2000-01-27  -5.938217  -8.475756   8.052511   9.187448\n27   2000-01-28  -6.001633 -10.432185   7.088259   9.273956\n28   2000-01-29  -4.862525 -10.580794   7.989071  11.097520\n29   2000-01-30  -4.770196 -11.128710   6.519492  10.920771\n..          ...        ...        ...        ...        ...\n970  2002-08-28 -10.435434   7.443743  14.610311  50.943989\n971  2002-08-29  -9.782652   6.588694  13.766059  51.261881\n972  2002-08-30 -10.536039   6.767765  12.827514  50.756591\n973  2002-08-31 -10.806956   6.441764  11.932084  51.627760\n974  2002-09-01 -10.390453   5.755764  11.927383  51.393620\n975  2002-09-02 -11.207339   5.250548  11.263981  50.436869\n976  2002-09-03 -11.282092   5.343459  12.259123  50.068617\n977  2002-09-04  -9.943155   4.665482  10.908781  48.923347\n978  2002-09-05 -10.479644   5.067617  11.047175  49.435594\n979  2002-09-06  -8.949353   6.928784  11.154201  49.996876\n980  2002-09-07 -10.299730   6.928722  11.108064  50.304866\n981  2002-09-08  -8.244644   6.485266  10.556781  50.870984\n982  2002-09-09  -9.127842   6.340246  11.743341  51.626641\n983  2002-09-10  -8.903374   5.610918  11.940830  52.355432\n984  2002-09-11  -9.298358   5.188450  11.991237  52.252580\n985  2002-09-12  -8.699609   4.743371  11.913786  52.848115\n986  2002-09-13 -10.111588   4.241921  12.477836  51.980861\n987  2002-09-14 -11.592748   3.775753  12.518030  53.996830\n988  2002-09-15 -11.416381   4.627528  11.347396  53.425855\n989  2002-09-16 -10.754883   4.629287  12.668670  53.493368\n990  2002-09-17 -11.268231   1.796612  12.501954  52.854071\n991  2002-09-18 -10.241565   0.919923  13.145953  52.441697\n992  2002-09-19  -8.803339   2.461525  12.828074  53.041828\n993  2002-09-20  -9.305278   2.911867  11.963646  53.842267\n994  2002-09-21 -11.108106   3.763479  11.516447  54.511186\n995  2002-09-22 -11.858882   4.043825  10.524353  52.463396\n996  2002-09-23 -11.545079   5.042995   9.631874  51.493299\n997  2002-09-24 -11.784913   3.610500   9.610920  49.928397\n998  2002-09-25 -10.650727   3.724073   9.554824  50.045591\n999  2002-09-26  -7.583569   3.978682   9.602015  50.009143\n\n[1000 rows x 5 columns]"
                    }, 
                    "metadata": {}, 
                    "execution_count": 48, 
                    "output_type": "execute_result"
                }
            ]
        }, 
        {
            "metadata": {}, 
            "source": "## HDF5\nReading and writing to HDFStores", 
            "cell_type": "markdown"
        }, 
        {
            "source": "#Writing to a HDF5 Store\ndf.to_hdf('foo.h5','df')", 
            "metadata": {
                "collapsed": true
            }, 
            "execution_count": 49, 
            "cell_type": "code", 
            "outputs": []
        }, 
        {
            "source": "#Reading from a HDF5 Store\npd.read_hdf('foo.h5','df')", 
            "metadata": {
                "collapsed": false
            }, 
            "execution_count": 50, 
            "cell_type": "code", 
            "outputs": [
                {
                    "data": {
                        "text/html": "<div>\n<table border=\"1\" class=\"dataframe\">\n  <thead>\n    <tr style=\"text-align: right;\">\n      <th></th>\n      <th>A</th>\n      <th>B</th>\n      <th>C</th>\n      <th>D</th>\n    </tr>\n  </thead>\n  <tbody>\n    <tr>\n      <th>2000-01-01</th>\n      <td>-0.132008</td>\n      <td>-0.407705</td>\n      <td>-1.238131</td>\n      <td>0.942520</td>\n    </tr>\n    <tr>\n      <th>2000-01-02</th>\n      <td>-0.630074</td>\n      <td>-1.637975</td>\n      <td>0.384180</td>\n      <td>2.466032</td>\n    </tr>\n    <tr>\n      <th>2000-01-03</th>\n      <td>-0.742629</td>\n      <td>-1.204263</td>\n      <td>1.520664</td>\n      <td>2.985147</td>\n    </tr>\n    <tr>\n      <th>2000-01-04</th>\n      <td>0.226728</td>\n      <td>-2.673852</td>\n      <td>2.836494</td>\n      <td>1.912969</td>\n    </tr>\n    <tr>\n      <th>2000-01-05</th>\n      <td>-2.144632</td>\n      <td>-3.126005</td>\n      <td>2.772338</td>\n      <td>1.975954</td>\n    </tr>\n    <tr>\n      <th>2000-01-06</th>\n      <td>-1.258336</td>\n      <td>-1.631914</td>\n      <td>3.056396</td>\n      <td>1.287534</td>\n    </tr>\n    <tr>\n      <th>2000-01-07</th>\n      <td>-0.138305</td>\n      <td>-1.149034</td>\n      <td>2.926870</td>\n      <td>1.084157</td>\n    </tr>\n    <tr>\n      <th>2000-01-08</th>\n      <td>-0.103637</td>\n      <td>-2.117667</td>\n      <td>3.330944</td>\n      <td>0.229721</td>\n    </tr>\n    <tr>\n      <th>2000-01-09</th>\n      <td>-1.166111</td>\n      <td>-1.068983</td>\n      <td>4.204954</td>\n      <td>0.185753</td>\n    </tr>\n    <tr>\n      <th>2000-01-10</th>\n      <td>1.027792</td>\n      <td>-2.384457</td>\n      <td>3.896468</td>\n      <td>1.392990</td>\n    </tr>\n    <tr>\n      <th>2000-01-11</th>\n      <td>1.268638</td>\n      <td>-1.122115</td>\n      <td>3.510553</td>\n      <td>1.743041</td>\n    </tr>\n    <tr>\n      <th>2000-01-12</th>\n      <td>1.754102</td>\n      <td>-2.313985</td>\n      <td>3.587633</td>\n      <td>2.626061</td>\n    </tr>\n    <tr>\n      <th>2000-01-13</th>\n      <td>1.654249</td>\n      <td>-1.714115</td>\n      <td>4.580655</td>\n      <td>3.650033</td>\n    </tr>\n    <tr>\n      <th>2000-01-14</th>\n      <td>0.416136</td>\n      <td>-1.457073</td>\n      <td>4.371789</td>\n      <td>4.282285</td>\n    </tr>\n    <tr>\n      <th>2000-01-15</th>\n      <td>-0.439223</td>\n      <td>-2.613694</td>\n      <td>5.000334</td>\n      <td>4.302026</td>\n    </tr>\n    <tr>\n      <th>2000-01-16</th>\n      <td>-1.434522</td>\n      <td>-0.854745</td>\n      <td>5.878227</td>\n      <td>5.399687</td>\n    </tr>\n    <tr>\n      <th>2000-01-17</th>\n      <td>-3.099658</td>\n      <td>-2.854668</td>\n      <td>5.591030</td>\n      <td>6.028455</td>\n    </tr>\n    <tr>\n      <th>2000-01-18</th>\n      <td>-2.871321</td>\n      <td>-4.253754</td>\n      <td>5.198480</td>\n      <td>4.698448</td>\n    </tr>\n    <tr>\n      <th>2000-01-19</th>\n      <td>-3.990716</td>\n      <td>-3.515489</td>\n      <td>6.360935</td>\n      <td>3.870359</td>\n    </tr>\n    <tr>\n      <th>2000-01-20</th>\n      <td>-3.995489</td>\n      <td>-3.511090</td>\n      <td>6.307852</td>\n      <td>4.916578</td>\n    </tr>\n    <tr>\n      <th>2000-01-21</th>\n      <td>-4.355836</td>\n      <td>-4.210716</td>\n      <td>7.843469</td>\n      <td>7.079678</td>\n    </tr>\n    <tr>\n      <th>2000-01-22</th>\n      <td>-4.023186</td>\n      <td>-5.913894</td>\n      <td>8.919780</td>\n      <td>7.791595</td>\n    </tr>\n    <tr>\n      <th>2000-01-23</th>\n      <td>-5.048418</td>\n      <td>-6.007226</td>\n      <td>7.737602</td>\n      <td>8.285257</td>\n    </tr>\n    <tr>\n      <th>2000-01-24</th>\n      <td>-4.051239</td>\n      <td>-6.157986</td>\n      <td>9.550151</td>\n      <td>7.699436</td>\n    </tr>\n    <tr>\n      <th>2000-01-25</th>\n      <td>-4.671009</td>\n      <td>-6.335873</td>\n      <td>9.249704</td>\n      <td>8.817504</td>\n    </tr>\n    <tr>\n      <th>2000-01-26</th>\n      <td>-6.057095</td>\n      <td>-7.076371</td>\n      <td>9.411400</td>\n      <td>8.873434</td>\n    </tr>\n    <tr>\n      <th>2000-01-27</th>\n      <td>-5.938217</td>\n      <td>-8.475756</td>\n      <td>8.052511</td>\n      <td>9.187448</td>\n    </tr>\n    <tr>\n      <th>2000-01-28</th>\n      <td>-6.001633</td>\n      <td>-10.432185</td>\n      <td>7.088259</td>\n      <td>9.273956</td>\n    </tr>\n    <tr>\n      <th>2000-01-29</th>\n      <td>-4.862525</td>\n      <td>-10.580794</td>\n      <td>7.989071</td>\n      <td>11.097520</td>\n    </tr>\n    <tr>\n      <th>2000-01-30</th>\n      <td>-4.770196</td>\n      <td>-11.128710</td>\n      <td>6.519492</td>\n      <td>10.920771</td>\n    </tr>\n    <tr>\n      <th>...</th>\n      <td>...</td>\n      <td>...</td>\n      <td>...</td>\n      <td>...</td>\n    </tr>\n    <tr>\n      <th>2002-08-28</th>\n      <td>-10.435434</td>\n      <td>7.443743</td>\n      <td>14.610311</td>\n      <td>50.943989</td>\n    </tr>\n    <tr>\n      <th>2002-08-29</th>\n      <td>-9.782652</td>\n      <td>6.588694</td>\n      <td>13.766059</td>\n      <td>51.261881</td>\n    </tr>\n    <tr>\n      <th>2002-08-30</th>\n      <td>-10.536039</td>\n      <td>6.767765</td>\n      <td>12.827514</td>\n      <td>50.756591</td>\n    </tr>\n    <tr>\n      <th>2002-08-31</th>\n      <td>-10.806956</td>\n      <td>6.441764</td>\n      <td>11.932084</td>\n      <td>51.627760</td>\n    </tr>\n    <tr>\n      <th>2002-09-01</th>\n      <td>-10.390453</td>\n      <td>5.755764</td>\n      <td>11.927383</td>\n      <td>51.393620</td>\n    </tr>\n    <tr>\n      <th>2002-09-02</th>\n      <td>-11.207339</td>\n      <td>5.250548</td>\n      <td>11.263981</td>\n      <td>50.436869</td>\n    </tr>\n    <tr>\n      <th>2002-09-03</th>\n      <td>-11.282092</td>\n      <td>5.343459</td>\n      <td>12.259123</td>\n      <td>50.068617</td>\n    </tr>\n    <tr>\n      <th>2002-09-04</th>\n      <td>-9.943155</td>\n      <td>4.665482</td>\n      <td>10.908781</td>\n      <td>48.923347</td>\n    </tr>\n    <tr>\n      <th>2002-09-05</th>\n      <td>-10.479644</td>\n      <td>5.067617</td>\n      <td>11.047175</td>\n      <td>49.435594</td>\n    </tr>\n    <tr>\n      <th>2002-09-06</th>\n      <td>-8.949353</td>\n      <td>6.928784</td>\n      <td>11.154201</td>\n      <td>49.996876</td>\n    </tr>\n    <tr>\n      <th>2002-09-07</th>\n      <td>-10.299730</td>\n      <td>6.928722</td>\n      <td>11.108064</td>\n      <td>50.304866</td>\n    </tr>\n    <tr>\n      <th>2002-09-08</th>\n      <td>-8.244644</td>\n      <td>6.485266</td>\n      <td>10.556781</td>\n      <td>50.870984</td>\n    </tr>\n    <tr>\n      <th>2002-09-09</th>\n      <td>-9.127842</td>\n      <td>6.340246</td>\n      <td>11.743341</td>\n      <td>51.626641</td>\n    </tr>\n    <tr>\n      <th>2002-09-10</th>\n      <td>-8.903374</td>\n      <td>5.610918</td>\n      <td>11.940830</td>\n      <td>52.355432</td>\n    </tr>\n    <tr>\n      <th>2002-09-11</th>\n      <td>-9.298358</td>\n      <td>5.188450</td>\n      <td>11.991237</td>\n      <td>52.252580</td>\n    </tr>\n    <tr>\n      <th>2002-09-12</th>\n      <td>-8.699609</td>\n      <td>4.743371</td>\n      <td>11.913786</td>\n      <td>52.848115</td>\n    </tr>\n    <tr>\n      <th>2002-09-13</th>\n      <td>-10.111588</td>\n      <td>4.241921</td>\n      <td>12.477836</td>\n      <td>51.980861</td>\n    </tr>\n    <tr>\n      <th>2002-09-14</th>\n      <td>-11.592748</td>\n      <td>3.775753</td>\n      <td>12.518030</td>\n      <td>53.996830</td>\n    </tr>\n    <tr>\n      <th>2002-09-15</th>\n      <td>-11.416381</td>\n      <td>4.627528</td>\n      <td>11.347396</td>\n      <td>53.425855</td>\n    </tr>\n    <tr>\n      <th>2002-09-16</th>\n      <td>-10.754883</td>\n      <td>4.629287</td>\n      <td>12.668670</td>\n      <td>53.493368</td>\n    </tr>\n    <tr>\n      <th>2002-09-17</th>\n      <td>-11.268231</td>\n      <td>1.796612</td>\n      <td>12.501954</td>\n      <td>52.854071</td>\n    </tr>\n    <tr>\n      <th>2002-09-18</th>\n      <td>-10.241565</td>\n      <td>0.919923</td>\n      <td>13.145953</td>\n      <td>52.441697</td>\n    </tr>\n    <tr>\n      <th>2002-09-19</th>\n      <td>-8.803339</td>\n      <td>2.461525</td>\n      <td>12.828074</td>\n      <td>53.041828</td>\n    </tr>\n    <tr>\n      <th>2002-09-20</th>\n      <td>-9.305278</td>\n      <td>2.911867</td>\n      <td>11.963646</td>\n      <td>53.842267</td>\n    </tr>\n    <tr>\n      <th>2002-09-21</th>\n      <td>-11.108106</td>\n      <td>3.763479</td>\n      <td>11.516447</td>\n      <td>54.511186</td>\n    </tr>\n    <tr>\n      <th>2002-09-22</th>\n      <td>-11.858882</td>\n      <td>4.043825</td>\n      <td>10.524353</td>\n      <td>52.463396</td>\n    </tr>\n    <tr>\n      <th>2002-09-23</th>\n      <td>-11.545079</td>\n      <td>5.042995</td>\n      <td>9.631874</td>\n      <td>51.493299</td>\n    </tr>\n    <tr>\n      <th>2002-09-24</th>\n      <td>-11.784913</td>\n      <td>3.610500</td>\n      <td>9.610920</td>\n      <td>49.928397</td>\n    </tr>\n    <tr>\n      <th>2002-09-25</th>\n      <td>-10.650727</td>\n      <td>3.724073</td>\n      <td>9.554824</td>\n      <td>50.045591</td>\n    </tr>\n    <tr>\n      <th>2002-09-26</th>\n      <td>-7.583569</td>\n      <td>3.978682</td>\n      <td>9.602015</td>\n      <td>50.009143</td>\n    </tr>\n  </tbody>\n</table>\n<p>1000 rows \u00d7 4 columns</p>\n</div>", 
                        "text/plain": "                    A          B          C          D\n2000-01-01  -0.132008  -0.407705  -1.238131   0.942520\n2000-01-02  -0.630074  -1.637975   0.384180   2.466032\n2000-01-03  -0.742629  -1.204263   1.520664   2.985147\n2000-01-04   0.226728  -2.673852   2.836494   1.912969\n2000-01-05  -2.144632  -3.126005   2.772338   1.975954\n2000-01-06  -1.258336  -1.631914   3.056396   1.287534\n2000-01-07  -0.138305  -1.149034   2.926870   1.084157\n2000-01-08  -0.103637  -2.117667   3.330944   0.229721\n2000-01-09  -1.166111  -1.068983   4.204954   0.185753\n2000-01-10   1.027792  -2.384457   3.896468   1.392990\n2000-01-11   1.268638  -1.122115   3.510553   1.743041\n2000-01-12   1.754102  -2.313985   3.587633   2.626061\n2000-01-13   1.654249  -1.714115   4.580655   3.650033\n2000-01-14   0.416136  -1.457073   4.371789   4.282285\n2000-01-15  -0.439223  -2.613694   5.000334   4.302026\n2000-01-16  -1.434522  -0.854745   5.878227   5.399687\n2000-01-17  -3.099658  -2.854668   5.591030   6.028455\n2000-01-18  -2.871321  -4.253754   5.198480   4.698448\n2000-01-19  -3.990716  -3.515489   6.360935   3.870359\n2000-01-20  -3.995489  -3.511090   6.307852   4.916578\n2000-01-21  -4.355836  -4.210716   7.843469   7.079678\n2000-01-22  -4.023186  -5.913894   8.919780   7.791595\n2000-01-23  -5.048418  -6.007226   7.737602   8.285257\n2000-01-24  -4.051239  -6.157986   9.550151   7.699436\n2000-01-25  -4.671009  -6.335873   9.249704   8.817504\n2000-01-26  -6.057095  -7.076371   9.411400   8.873434\n2000-01-27  -5.938217  -8.475756   8.052511   9.187448\n2000-01-28  -6.001633 -10.432185   7.088259   9.273956\n2000-01-29  -4.862525 -10.580794   7.989071  11.097520\n2000-01-30  -4.770196 -11.128710   6.519492  10.920771\n...               ...        ...        ...        ...\n2002-08-28 -10.435434   7.443743  14.610311  50.943989\n2002-08-29  -9.782652   6.588694  13.766059  51.261881\n2002-08-30 -10.536039   6.767765  12.827514  50.756591\n2002-08-31 -10.806956   6.441764  11.932084  51.627760\n2002-09-01 -10.390453   5.755764  11.927383  51.393620\n2002-09-02 -11.207339   5.250548  11.263981  50.436869\n2002-09-03 -11.282092   5.343459  12.259123  50.068617\n2002-09-04  -9.943155   4.665482  10.908781  48.923347\n2002-09-05 -10.479644   5.067617  11.047175  49.435594\n2002-09-06  -8.949353   6.928784  11.154201  49.996876\n2002-09-07 -10.299730   6.928722  11.108064  50.304866\n2002-09-08  -8.244644   6.485266  10.556781  50.870984\n2002-09-09  -9.127842   6.340246  11.743341  51.626641\n2002-09-10  -8.903374   5.610918  11.940830  52.355432\n2002-09-11  -9.298358   5.188450  11.991237  52.252580\n2002-09-12  -8.699609   4.743371  11.913786  52.848115\n2002-09-13 -10.111588   4.241921  12.477836  51.980861\n2002-09-14 -11.592748   3.775753  12.518030  53.996830\n2002-09-15 -11.416381   4.627528  11.347396  53.425855\n2002-09-16 -10.754883   4.629287  12.668670  53.493368\n2002-09-17 -11.268231   1.796612  12.501954  52.854071\n2002-09-18 -10.241565   0.919923  13.145953  52.441697\n2002-09-19  -8.803339   2.461525  12.828074  53.041828\n2002-09-20  -9.305278   2.911867  11.963646  53.842267\n2002-09-21 -11.108106   3.763479  11.516447  54.511186\n2002-09-22 -11.858882   4.043825  10.524353  52.463396\n2002-09-23 -11.545079   5.042995   9.631874  51.493299\n2002-09-24 -11.784913   3.610500   9.610920  49.928397\n2002-09-25 -10.650727   3.724073   9.554824  50.045591\n2002-09-26  -7.583569   3.978682   9.602015  50.009143\n\n[1000 rows x 4 columns]"
                    }, 
                    "metadata": {}, 
                    "execution_count": 50, 
                    "output_type": "execute_result"
                }
            ]
        }, 
        {
            "metadata": {}, 
            "source": "## Excel", 
            "cell_type": "markdown"
        }, 
        {
            "source": "#Writing to an excel file\ndf.to_excel('foo.xlsx', sheet_name='Sheet1')", 
            "metadata": {
                "collapsed": true
            }, 
            "execution_count": null, 
            "cell_type": "code", 
            "outputs": []
        }, 
        {
            "source": "# Reading from an excel file\npd.read_excel('foo.xlsx', 'Sheet1', index_col=None, na_values=['NA'])", 
            "metadata": {
                "collapsed": true
            }, 
            "execution_count": null, 
            "cell_type": "code", 
            "outputs": []
        }
    ], 
    "nbformat_minor": 0
}