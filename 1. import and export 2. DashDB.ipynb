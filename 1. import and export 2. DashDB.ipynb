{
    "nbformat_minor": 0, 
    "cells": [
        {
            "outputs": [
                {
                    "ename": "SyntaxError", 
                    "output_type": "error", 
                    "evalue": "invalid syntax (<ipython-input-14-b721bbe49dde>, line 3)", 
                    "traceback": [
                        "\u001b[1;36m  File \u001b[1;32m\"<ipython-input-14-b721bbe49dde>\"\u001b[1;36m, line \u001b[1;32m3\u001b[0m\n\u001b[1;33m    Useful doc:\u001b[0m\n\u001b[1;37m             ^\u001b[0m\n\u001b[1;31mSyntaxError\u001b[0m\u001b[1;31m:\u001b[0m invalid syntax\n"
                    ]
                }
            ], 
            "cell_type": "code", 
            "metadata": {
                "collapsed": false
            }, 
            "execution_count": 14, 
            "source": "# In-and export from DashDB\n\nUseful doc: \nhttp://pythonhosted.org/ibmdbpy/start.html"
        }, 
        {
            "outputs": [], 
            "cell_type": "code", 
            "metadata": {
                "collapsed": true
            }, 
            "execution_count": 15, 
            "source": "#imports\nimport ibmdbpy\nfrom ibmdbpy import IdaDataBase, IdaDataFrame\n\nimport pandas as pd\nimport numpy as np"
        }, 
        {
            "outputs": [
                {
                    "output_type": "execute_result", 
                    "metadata": {}, 
                    "data": {
                        "text/html": "<div>\n<table border=\"1\" class=\"dataframe\">\n  <thead>\n    <tr style=\"text-align: right;\">\n      <th></th>\n      <th>a</th>\n      <th>b</th>\n      <th>c</th>\n    </tr>\n  </thead>\n  <tbody>\n    <tr>\n      <th>0</th>\n      <td>0.611035</td>\n      <td>0.664439</td>\n      <td>0.510232</td>\n    </tr>\n    <tr>\n      <th>1</th>\n      <td>0.179190</td>\n      <td>0.991557</td>\n      <td>0.317188</td>\n    </tr>\n    <tr>\n      <th>2</th>\n      <td>0.599504</td>\n      <td>0.029860</td>\n      <td>0.660801</td>\n    </tr>\n    <tr>\n      <th>3</th>\n      <td>0.017863</td>\n      <td>0.218258</td>\n      <td>0.464635</td>\n    </tr>\n    <tr>\n      <th>4</th>\n      <td>0.334395</td>\n      <td>0.758207</td>\n      <td>0.084347</td>\n    </tr>\n  </tbody>\n</table>\n</div>", 
                        "text/plain": "          a         b         c\n0  0.611035  0.664439  0.510232\n1  0.179190  0.991557  0.317188\n2  0.599504  0.029860  0.660801\n3  0.017863  0.218258  0.464635\n4  0.334395  0.758207  0.084347"
                    }, 
                    "execution_count": 16
                }
            ], 
            "cell_type": "code", 
            "metadata": {
                "scrolled": true, 
                "collapsed": false
            }, 
            "execution_count": 16, 
            "source": "# create some data\nrandom_data=pd.DataFrame(np.random.random((1000, 3)),columns=['a','b','c'])\nrandom_data.head()"
        }, 
        {
            "outputs": [], 
            "cell_type": "code", 
            "metadata": {
                "collapsed": false
            }, 
            "execution_count": 30, 
            "source": "# The code was removed by DSX for sharing."
        }, 
        {
            "outputs": [
                {
                    "name": "stdout", 
                    "output_type": "stream", 
                    "text": "Uploading 1000 rows (maxnrow was set to 2666)\n"
                }
            ], 
            "cell_type": "code", 
            "metadata": {
                "collapsed": false
            }, 
            "execution_count": 31, 
            "source": "# use case: you have some data in Python (for example from a csv file) and you want to upload it to a database\n\nidadb = IdaDataBase(dsn=\"DASHDB;Database=BLUDB;Hostname=\" + \n                    credentials_1[\"host\"] + \";Port=50000;PROTOCOL=TCPIP;UID=\" + \n                    credentials_1[\"user\"] + \";PWD=\" + \n                    credentials_1[\"password\"])\n\nidadf = idadb.as_idadataframe(random_data, \"RANDOM_DATA\", clear_existing=True) #input: a Pandas dataframe"
        }, 
        {
            "outputs": [
                {
                    "name": "stdout", 
                    "output_type": "stream", 
                    "text": "Uploading 1000 rows (maxnrow was set to 2666)\n"
                }
            ], 
            "cell_type": "code", 
            "metadata": {
                "collapsed": false
            }, 
            "execution_count": 32, 
            "source": "# use case: you have an existing table and you want to append additional records\n\nRANDOM_DATA_DATAFRAME = IdaDataFrame(idadb, 'RANDOM_DATA')  #define the IdaDataFrame\n   \nidadb.append(RANDOM_DATA_DATAFRAME,random_data) # add the Pandas Dataframe 'random_data' once more to the database\nRANDOM_DATA_DATAFRAME.commit() #ensure a commit or else you won't see the addition"
        }, 
        {
            "outputs": [
                {
                    "output_type": "execute_result", 
                    "metadata": {}, 
                    "data": {
                        "text/html": "<div>\n<table border=\"1\" class=\"dataframe\">\n  <thead>\n    <tr style=\"text-align: right;\">\n      <th></th>\n      <th>a</th>\n      <th>b</th>\n      <th>c</th>\n    </tr>\n  </thead>\n  <tbody>\n    <tr>\n      <th>0</th>\n      <td>0.611035</td>\n      <td>0.664439</td>\n      <td>0.510232</td>\n    </tr>\n    <tr>\n      <th>1</th>\n      <td>0.179190</td>\n      <td>0.991557</td>\n      <td>0.317188</td>\n    </tr>\n    <tr>\n      <th>2</th>\n      <td>0.599504</td>\n      <td>0.029860</td>\n      <td>0.660801</td>\n    </tr>\n    <tr>\n      <th>3</th>\n      <td>0.017863</td>\n      <td>0.218258</td>\n      <td>0.464635</td>\n    </tr>\n    <tr>\n      <th>4</th>\n      <td>0.334395</td>\n      <td>0.758207</td>\n      <td>0.084347</td>\n    </tr>\n  </tbody>\n</table>\n</div>", 
                        "text/plain": "          a         b         c\n0  0.611035  0.664439  0.510232\n1  0.179190  0.991557  0.317188\n2  0.599504  0.029860  0.660801\n3  0.017863  0.218258  0.464635\n4  0.334395  0.758207  0.084347"
                    }, 
                    "execution_count": 33
                }
            ], 
            "cell_type": "code", 
            "metadata": {
                "collapsed": false
            }, 
            "execution_count": 33, 
            "source": "# use case: you have data in a database and want to make it accessible to Pyton\n\nidadb = IdaDataBase(dsn=\"DASHDB;Database=BLUDB;Hostname=\" + \n                    credentials_1[\"host\"] + \";Port=50000;PROTOCOL=TCPIP;UID=\" + \n                    credentials_1[\"user\"] + \";PWD=\" + \n                    credentials_1[\"password\"])\n\nrandom_data = IdaDataFrame(idadb, 'RANDOM_DATA')\nrandom_data = random_data.as_dataframe()\nrandom_data.head()\n#random_data.shape #2000 due to the appending"
        }, 
        {
            "outputs": [], 
            "cell_type": "code", 
            "metadata": {
                "collapsed": true
            }, 
            "execution_count": null, 
            "source": ""
        }
    ], 
    "metadata": {
        "kernelspec": {
            "display_name": "Python 2 with Spark 1.6", 
            "name": "python2", 
            "language": "python"
        }, 
        "language_info": {
            "name": "python", 
            "file_extension": ".py", 
            "version": "2.7.11", 
            "nbconvert_exporter": "python", 
            "mimetype": "text/x-python", 
            "codemirror_mode": {
                "name": "ipython", 
                "version": 2
            }, 
            "pygments_lexer": "ipython2"
        }
    }, 
    "nbformat": 4
}